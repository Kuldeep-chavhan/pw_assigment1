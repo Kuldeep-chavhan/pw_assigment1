{
 "cells": [
  {
   "cell_type": "markdown",
   "id": "acd1ee3f-eb4a-4ba7-be87-b3e820817002",
   "metadata": {},
   "source": [
    "Q1). what is multithreading in python? hy is it used? Name the module used to handle threads in python"
   ]
  },
  {
   "cell_type": "markdown",
   "id": "b68aaa81-ed84-4451-b3e5-445b1d4f661d",
   "metadata": {},
   "source": [
    "Multithreading is a powerful programming technique that allows a single process to execute multiple threads concurrently. Each thread runs independently and can perform different tasks simultaneously. This is particularly useful when you want to achieve parallelism within a single program. Now, let’s break it down a bit further:\n",
    "\n",
    "Threads vs. Processes:\n",
    "A process is an instance of a program being executed. It has its own memory space, data, and execution context.\n",
    "A thread, on the other hand, is an entity within a process. It’s the smallest unit of processing that can be performed by the operating system. Threads share the same memory space as the process they belong to.\n",
    "Why Use Multithreading?\n",
    "Concurrency: Multithreading allows you to perform multiple tasks concurrently. For example, you can have one thread handling user input while another processes data in the background.\n",
    "Efficiency: Threads are lighter-weight than processes because they share memory. Creating and managing threads is faster and consumes fewer resources.\n",
    "I/O-Bound Tasks: Multithreading is particularly useful for I/O-bound tasks (e.g., reading/writing files, network communication) where waiting for external resources would otherwise block the entire program.\n",
    "Python’s Global Interpreter Lock (GIL):\n",
    "Python has a Global Interpreter Lock (GIL), which allows only one thread to execute Python code at a time. This limitation affects CPU-bound tasks.\n",
    "However, for I/O-bound tasks, multithreading can still improve performance because threads can release the GIL during I/O operations.\n",
    "The Python threading Module:\n",
    "The threading module provides a high-level interface for working with threads.\n",
    "You can create, start, join, and manage threads using this module.\n",
    "Some key functions and classes in threading:\n",
    "Thread: The class for creating threads.\n",
    "active_count(): Returns the number of currently alive threads.\n",
    "current_thread(): Returns the current thread object.\n",
    "excepthook(): Handles uncaught exceptions raised by threads.\n",
    "Other synchronization primitives like locks, semaphores, and condition variables."
   ]
  },
  {
   "cell_type": "markdown",
   "id": "35e9c417-7ffd-43a7-b08f-8b6debbca027",
   "metadata": {},
   "source": [
    "Q2. why threading module used? rite the use of the following functions\n",
    "( activeCount\n",
    " currentThread\n",
    " enumerate)"
   ]
  },
  {
   "cell_type": "markdown",
   "id": "f61afcfd-54b9-4a81-9c70-86c8c3eac033",
   "metadata": {},
   "source": [
    "The threading module in Python provides a way to work with threads—those little parallel adventurers within your program. Threads allow you to achieve concurrency, where different parts of your program can run concurrently. They’re like having multiple actors on stage, each playing their role simultaneously (well, almost).\n",
    "Threads are lighter-weight than processes (which have their own memory space), making them ideal for I/O-bound tasks (e.g., reading/writing files, network communication)."
   ]
  },
  {
   "cell_type": "markdown",
   "id": "49d0dbdf-f7a6-4d48-b4da-24e2989dd828",
   "metadata": {},
   "source": [
    "threading.active_count() (or activeCount()):\n",
    "This function returns the number of currently alive (active) Thread objects.\n",
    "It’s equivalent to the length of the list returned by threading.enumerate().\n"
   ]
  },
  {
   "cell_type": "markdown",
   "id": "071921b2-252e-4967-b651-365d82a399d4",
   "metadata": {},
   "source": [
    "threading.current_thread() (or currentThread()):\n",
    "This function returns the current Thread object corresponding to the caller’s thread of control.\n",
    "If the caller’s thread wasn’t created through the threading module, a dummy thread object with limited functionality is returned."
   ]
  },
  {
   "cell_type": "markdown",
   "id": "ea8908be-54f3-4deb-8a31-c19e88854c32",
   "metadata": {},
   "source": [
    "threading.enumerate():\n",
    "This function returns a list of all currently active Thread objects.\n",
    "It includes daemonic threads, dummy thread objects created by current_thread(), and the main thread.\n",
    "Terminated threads and threads that haven’t started yet are excluded.\n"
   ]
  },
  {
   "cell_type": "raw",
   "id": "a3768754-e6ae-4e09-b998-ad92ab1231eb",
   "metadata": {},
   "source": [
    "3. Explain the following functions\n",
    "( run\n",
    " start\n",
    " join\n",
    "' isAlive)"
   ]
  },
  {
   "cell_type": "markdown",
   "id": "f1d56f74-ca45-4c7c-93b7-62dec9c4b2ec",
   "metadata": {},
   "source": [
    "run() Method:\n",
    "The run() method is part of the Thread class in Python’s threading module.\n",
    "When you create a thread using the Thread class, you pass it a target function (the function you want the thread to execute). The run() method is the actual entry point for the thread—it’s where the specified target function runs.\n",
    "You don’t typically call run() directly; instead, you create a thread, set its target function, and then call start(). The start() method internally invokes the run()"
   ]
  },
  {
   "cell_type": "code",
   "execution_count": 1,
   "id": "e76c43cd-0d3d-4952-8870-44bce9c4c47a",
   "metadata": {},
   "outputs": [
    {
     "name": "stdout",
     "output_type": "stream",
     "text": [
      "Hello from a thread!\n"
     ]
    }
   ],
   "source": [
    "import threading\n",
    "\n",
    "def my_task():\n",
    "    print(\"Hello from a thread!\")\n",
    "\n",
    "# Create a new thread\n",
    "my_thread = threading.Thread(target=my_task)\n",
    "\n",
    "# Start the thread (which implicitly calls my_task())\n",
    "my_thread.start()\n"
   ]
  },
  {
   "cell_type": "markdown",
   "id": "9e7256d2-6e4a-4544-94e8-75d692a33e9c",
   "metadata": {},
   "source": [
    "start() Method:\n",
    "The start() method is also part of the Thread class.\n",
    "When you call start(), it initiates the execution of the thread by invoking the run() method (if you’ve set a target function).\n",
    "It’s essential to use start() rather than directly calling the target function because it ensures proper thread initialization and management."
   ]
  },
  {
   "cell_type": "code",
   "execution_count": 2,
   "id": "dfa7af32-1b83-4a8d-90fc-70e26bce2618",
   "metadata": {},
   "outputs": [
    {
     "ename": "RuntimeError",
     "evalue": "threads can only be started once",
     "output_type": "error",
     "traceback": [
      "\u001b[0;31m---------------------------------------------------------------------------\u001b[0m",
      "\u001b[0;31mRuntimeError\u001b[0m                              Traceback (most recent call last)",
      "Cell \u001b[0;32mIn[2], line 1\u001b[0m\n\u001b[0;32m----> 1\u001b[0m \u001b[43mmy_thread\u001b[49m\u001b[38;5;241;43m.\u001b[39;49m\u001b[43mstart\u001b[49m\u001b[43m(\u001b[49m\u001b[43m)\u001b[49m\n",
      "File \u001b[0;32m/opt/conda/lib/python3.10/threading.py:930\u001b[0m, in \u001b[0;36mThread.start\u001b[0;34m(self)\u001b[0m\n\u001b[1;32m    927\u001b[0m     \u001b[38;5;28;01mraise\u001b[39;00m \u001b[38;5;167;01mRuntimeError\u001b[39;00m(\u001b[38;5;124m\"\u001b[39m\u001b[38;5;124mthread.__init__() not called\u001b[39m\u001b[38;5;124m\"\u001b[39m)\n\u001b[1;32m    929\u001b[0m \u001b[38;5;28;01mif\u001b[39;00m \u001b[38;5;28mself\u001b[39m\u001b[38;5;241m.\u001b[39m_started\u001b[38;5;241m.\u001b[39mis_set():\n\u001b[0;32m--> 930\u001b[0m     \u001b[38;5;28;01mraise\u001b[39;00m \u001b[38;5;167;01mRuntimeError\u001b[39;00m(\u001b[38;5;124m\"\u001b[39m\u001b[38;5;124mthreads can only be started once\u001b[39m\u001b[38;5;124m\"\u001b[39m)\n\u001b[1;32m    932\u001b[0m \u001b[38;5;28;01mwith\u001b[39;00m _active_limbo_lock:\n\u001b[1;32m    933\u001b[0m     _limbo[\u001b[38;5;28mself\u001b[39m] \u001b[38;5;241m=\u001b[39m \u001b[38;5;28mself\u001b[39m\n",
      "\u001b[0;31mRuntimeError\u001b[0m: threads can only be started once"
     ]
    }
   ],
   "source": [
    "my_thread.start()\n"
   ]
  },
  {
   "cell_type": "markdown",
   "id": "4e0efae4-b0b6-412b-a3fa-d6db21126444",
   "metadata": {},
   "source": [
    "join() Method:\n",
    "The join() method is used to wait for a thread to complete its execution.\n",
    "When you call join() on a thread, the calling thread (usually the main thread) will pause and wait until the target thread finishes.\n",
    "It’s especially useful when you want to synchronize threads—for instance, ensuring that the main thread doesn’t proceed until a specific worker thread completes."
   ]
  },
  {
   "cell_type": "code",
   "execution_count": 3,
   "id": "26f9909a-3965-4e48-92fd-480cf11a771f",
   "metadata": {},
   "outputs": [],
   "source": [
    "my_thread.join()  # Wait for my_thread to finish\n"
   ]
  },
  {
   "cell_type": "markdown",
   "id": "9c27f52a-bf69-41ba-91ee-20acf03d949f",
   "metadata": {},
   "source": [
    "is_alive() Method (formerly isAlive()):\n",
    "The is_alive() method is part of the Thread class.\n",
    "It checks whether a thread is still running (alive) or has completed its execution.\n",
    "If the thread is still active, is_alive() returns True; otherwise, it returns False."
   ]
  },
  {
   "cell_type": "code",
   "execution_count": 4,
   "id": "aa8ead93-d555-47bf-a6bd-f1910aad8069",
   "metadata": {},
   "outputs": [
    {
     "name": "stdout",
     "output_type": "stream",
     "text": [
      "The thread has finished.\n"
     ]
    }
   ],
   "source": [
    "if my_thread.is_alive():\n",
    "    print(\"The thread is still running.\")\n",
    "else:\n",
    "    print(\"The thread has finished.\")\n"
   ]
  },
  {
   "cell_type": "markdown",
   "id": "1e9a867f-468b-45dc-b17d-c060dc6fb8cb",
   "metadata": {},
   "source": [
    "4. write a python program to create two threads. Thread one must print the list of squares and thread\n",
    "two must print the list of cubes"
   ]
  },
  {
   "cell_type": "code",
   "execution_count": 5,
   "id": "65285624-3032-41ec-a54b-a65983c2f1c6",
   "metadata": {},
   "outputs": [
    {
     "name": "stdout",
     "output_type": "stream",
     "text": [
      "Square of 1: 1\n",
      "Square of 2: 4\n",
      "Square of 3: 9\n",
      "Square of 4: 16\n",
      "Square of 5: 25\n",
      "Square of 6: 36\n",
      "Square of 7: 49\n",
      "Square of 8: 64\n",
      "Square of 9: 81\n",
      "Square of 10: 100\n",
      "Cube of 1: 1\n",
      "Cube of 2: 8\n",
      "Cube of 3: 27\n",
      "Cube of 4: 64\n",
      "Cube of 5: 125\n",
      "Cube of 6: 216\n",
      "Cube of 7: 343\n",
      "Cube of 8: 512\n",
      "Cube of 9: 729\n",
      "Cube of 10: 1000\n",
      "Both threads have completed their tasks!\n"
     ]
    }
   ],
   "source": [
    "import threading\n",
    "\n",
    "def print_squares():\n",
    "    for i in range(1, 11):\n",
    "        print(f\"Square of {i}: {i**2}\")\n",
    "\n",
    "def print_cubes():\n",
    "    for i in range(1, 11):\n",
    "        print(f\"Cube of {i}: {i**3}\")\n",
    "\n",
    "# Create two threads\n",
    "square_thread = threading.Thread(target=print_squares)\n",
    "cube_thread = threading.Thread(target=print_cubes)\n",
    "\n",
    "# Start the threads\n",
    "square_thread.start()\n",
    "cube_thread.start()\n",
    "\n",
    "# Wait for both threads to finish\n",
    "square_thread.join()\n",
    "cube_thread.join()\n",
    "\n",
    "print(\"Both threads have completed their tasks!\")\n"
   ]
  },
  {
   "cell_type": "markdown",
   "id": "d61ce9f0-c9d0-4b93-a2bb-ab61f8a1ec36",
   "metadata": {},
   "source": [
    "5. State advantages and disadvantages of multithreading"
   ]
  },
  {
   "cell_type": "markdown",
   "id": "e0244d7b-471e-446b-afbf-521f32f8b71c",
   "metadata": {},
   "source": [
    "Complex Debugging and Testing:\n",
    "Debugging multithreaded programs can be challenging due to race conditions, deadlocks, and thread synchronization issues.\n",
    "Identifying and resolving problems may require specialized tools and techniques.\n",
    "Context Switching Overhead:\n",
    "Switching between threads is faster than switching between processes, but it still incurs some overhead.\n",
    "Frequent context switches can impact performance, especially if the number of threads is excessive.\n",
    "Potential for Deadlocks:\n",
    "Deadlocks occur when two or more threads wait indefinitely for each other to release resources.\n",
    "Proper synchronization mechanisms (e.g., locks, semaphores) are essential to prevent deadlocks.\n",
    "Increased Difficulty in Writing Programs:\n",
    "Writing correct multithreaded code requires careful consideration of shared resources and synchronization.\n",
    "Inadvertent mistakes can lead to unpredictable behavior"
   ]
  },
  {
   "cell_type": "markdown",
   "id": "906190c5-bed7-4312-8bb0-9f2b5b485726",
   "metadata": {},
   "source": [
    "6. Explain deadlocks and race conditions."
   ]
  },
  {
   "cell_type": "markdown",
   "id": "71c8622b-d673-4619-a241-c557e180f375",
   "metadata": {},
   "source": [
    "Deadlocks:\n",
    "Definition: A deadlock occurs when two or more threads (or processes) are stuck in a situation where each is waiting for a resource that the other holds. As a result, none of the threads can proceed, leading to a standstill.\n",
    "Scenario: Imagine two friends, Alice and Bob, both holding ATM cards for the same bank account. If Alice locks the account and waits for Bob to unlock it, while Bob is simultaneously waiting for Alice to unlock it, they’re in a deadlock.\n",
    "Example:\n",
    "Alice (T1) locks the account.\n",
    "Bob (T2) tries to lock the account but is blocked because Alice already holds the lock.\n",
    "Meanwhile, Alice is waiting for Bob to release the lock.\n",
    "Neither can proceed, and the system is stuck.\n",
    "Solution: Proper resource ordering and deadlock detection algorithms can prevent or resolve deadlocks.\n",
    "Race Conditions:\n",
    "Definition: A race condition occurs when multiple threads access shared data concurrently, and the outcome depends on the exact order in which their instructions execute.\n",
    "Scenario: Picture two friends, Carol and Dave, both withdrawing money from an account with a balance of $100. If Carol withdraws $10 and Dave withdraws $50 simultaneously, the order of execution matters.\n",
    "Example:\n",
    "Carol (T1) reads the account balance ($100).\n",
    "Dave (T2) also reads the balance ($100).\n",
    "Carol subtracts $10 (new balance: $90).\n",
    "Dave subtracts $50 (new balance: $50).\n",
    "The final balance is $50, even though the correct result should be $40.\n",
    "Solution: To avoid race conditions, use synchronization mechanisms (e.g., locks, semaphores) to ensure serializability—meaning the end result matches some valid serial execution of the transactions"
   ]
  },
  {
   "cell_type": "code",
   "execution_count": null,
   "id": "bdf720f2-e56f-4f5c-8fc5-a9a489f8829a",
   "metadata": {},
   "outputs": [],
   "source": []
  }
 ],
 "metadata": {
  "kernelspec": {
   "display_name": "Python 3 (ipykernel)",
   "language": "python",
   "name": "python3"
  },
  "language_info": {
   "codemirror_mode": {
    "name": "ipython",
    "version": 3
   },
   "file_extension": ".py",
   "mimetype": "text/x-python",
   "name": "python",
   "nbconvert_exporter": "python",
   "pygments_lexer": "ipython3",
   "version": "3.10.8"
  }
 },
 "nbformat": 4,
 "nbformat_minor": 5
}
