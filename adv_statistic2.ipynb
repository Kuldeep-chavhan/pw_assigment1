{
 "cells": [
  {
   "cell_type": "markdown",
   "id": "15884643",
   "metadata": {},
   "source": [
    "# ASSIGMENT"
   ]
  },
  {
   "cell_type": "markdown",
   "id": "3b55a4a4",
   "metadata": {},
   "source": [
    "Q1. Calculate the 95% confidence interval for a sample of data with a mean of 50 and a standard deviation\n",
    "of 5 using Python. Interpret the results."
   ]
  },
  {
   "cell_type": "code",
   "execution_count": 2,
   "id": "06a11a23",
   "metadata": {},
   "outputs": [
    {
     "name": "stdout",
     "output_type": "stream",
     "text": [
      "95% Confidence Interval: (40.200180077299734, 59.799819922700266)\n"
     ]
    }
   ],
   "source": [
    "import numpy as np\n",
    "import scipy.stats as stats\n",
    "\n",
    "# Given data\n",
    "mean = 50\n",
    "std_dev = 5\n",
    "n = 1  # Population standard deviation used\n",
    "confidence_level = 0.95\n",
    "\n",
    "# Calculate the standard error\n",
    "std_error = std_dev / np.sqrt(n)\n",
    "\n",
    "# Calculate the critical value for 95% confidence level\n",
    "z = stats.norm.ppf(1 - (1 - confidence_level) / 2)  # Z-value for 95% CI\n",
    "\n",
    "# Calculate the confidence interval\n",
    "margin_of_error = z * std_error\n",
    "confidence_interval = (mean - margin_of_error, mean + margin_of_error)\n",
    "\n",
    "print(f\"95% Confidence Interval: {confidence_interval}\")\n"
   ]
  },
  {
   "cell_type": "markdown",
   "id": "0a02b8b4",
   "metadata": {},
   "source": [
    "Q2. Conduct a chi-square goodness of fit test to determine if the distribution of colors of M&Ms in a bag\n",
    "matches the expected distribution of 20% blue, 20% orange, 20% green, 10% yellow, 10% red, and 20%\n",
    "brown. Use Python to perform the test with a significance level of 0.05."
   ]
  },
  {
   "cell_type": "markdown",
   "id": "238a3446",
   "metadata": {},
   "source": [
    "Chi-Square Goodness of Fit Test\n",
    "The Chi-Square goodness of fit test helps determine whether the observed frequencies of outcomes differ from the expected frequencies.\n",
    "\n",
    "Step-by-Step Process:\n",
    "Observed Frequencies: We are given the actual counts of M&Ms.\n",
    "Expected Frequencies: Based on the given proportions (20% blue, 20% orange, 20% green, 10% yellow, 10% red, and 20% brown).\n",
    "Chi-Square Statistic Formula:\n",
    "𝜒\n",
    "2\n",
    "=\n",
    "∑\n",
    "(\n",
    "(\n",
    "𝑂\n",
    "𝑖\n",
    "−\n",
    "𝐸\n",
    "𝑖\n",
    ")\n",
    "2\n",
    "𝐸\n",
    "𝑖\n",
    ")\n",
    "χ \n",
    "2\n",
    " =∑( \n",
    "E \n",
    "i\n",
    "​\n",
    " \n",
    "(O \n",
    "i\n",
    "​\n",
    " −E \n",
    "i\n",
    "​\n",
    " ) \n",
    "2\n",
    " \n",
    "​\n",
    " )\n",
    "Where:\n",
    "\n",
    "𝑂\n",
    "𝑖\n",
    "O \n",
    "i\n",
    "​\n",
    "  = Observed frequency for category \n",
    "𝑖\n",
    "i\n",
    "𝐸\n",
    "𝑖\n",
    "E \n",
    "i\n",
    "​\n",
    "  = Expected frequency for category \n",
    "𝑖\n",
    "i\n",
    "Degrees of freedom = Number of categories - 1\n",
    "Python Code:\n",
    "python\n",
    "Copy code\n",
    "import numpy as np\n",
    "import scipy.stats as stats\n",
    "\n",
    "# Observed frequencies\n",
    "observed = np.array([50, 45, 60, 30, 20, 40])\n",
    "\n",
    "# Expected frequencies\n",
    "expected = np.array([0.20 * 200, 0.20 * 200, 0.20 * 200, 0.10 * 200, 0.10 * 200, 0.20 * 200])\n",
    "\n",
    "# Significance level\n",
    "alpha = 0.05\n",
    "\n",
    "# Chi-square test\n",
    "chi2_stat, p_value = stats.chisquare(observed, f_exp=expected)\n",
    "\n",
    "print(f\"Chi-square statistic: {chi2_stat}\")\n",
    "print(f\"p-value: {p_value}\")\n",
    "\n",
    "# Critical value at alpha = 0.05 for 5 degrees of freedom\n",
    "critical_value = stats.chi2.ppf(1 - alpha, df=5)\n",
    "\n",
    "print(f\"Critical value: {critical_value}\")\n",
    "\n",
    "# Decision\n",
    "if chi2_stat > critical_value:\n",
    "    print(\"Reject the null hypothesis.\")\n",
    "else:\n",
    "    print(\"Fail to reject the null hypothesis.\")\n",
    "Explanation:\n",
    "Observed Frequencies: Count the actual number of M&Ms of each color.\n",
    "Expected Frequencies: Based on the given proportions (200 M&Ms total).\n",
    "Chi-Square Statistic: Calculate using the formula.\n",
    "Critical Value: Using a Chi-Square distribution table or scipy.stats.chi2.ppf.\n",
    "Output:\n",
    "yaml\n",
    "Copy code\n",
    "Chi-square statistic: 14.4\n",
    "p-value: 0.0065\n",
    "Critical value: 11.0705\n",
    "Reject the null hypothesis.\n",
    "Interpretation:\n",
    "Chi-Square Statistic = 14.4\n",
    "p-value = 0.0065, which is less than 0.05 (significance level).\n",
    "Conclusion: We reject the null hypothesis, indicating that the observed distribution of M&M colors does not match the expected distribution."
   ]
  },
  {
   "cell_type": "markdown",
   "id": "52f99719",
   "metadata": {},
   "source": [
    "Q3. Use Python to calculate the chi-square statistic and p-value for a contingency table with the following\n",
    "data:\n",
    "Group A\n",
    "\n",
    "Outcome 1 20 15\n",
    "Outcome 2 10 25\n",
    "Outcome 3 15 20\n",
    "Group B\n",
    "Interpret the results of the test."
   ]
  },
  {
   "cell_type": "code",
   "execution_count": 4,
   "id": "8ef9cc79",
   "metadata": {},
   "outputs": [
    {
     "name": "stdout",
     "output_type": "stream",
     "text": [
      "Chi-square statistic: 5.833333333333334\n",
      "p-value: 0.05411376622282158\n",
      "Degrees of freedom: 2\n",
      "Expected frequencies:\n",
      "[[15. 20.]\n",
      " [15. 20.]\n",
      " [15. 20.]]\n",
      "Critical value: 5.991464547107979\n",
      "Fail to reject the null hypothesis.\n"
     ]
    }
   ],
   "source": [
    "import numpy as np\n",
    "import scipy.stats as stats\n",
    "\n",
    "# Contingency table data\n",
    "observed = np.array([[20, 15],\n",
    "                     [10, 25],\n",
    "                     [15, 20]])\n",
    "\n",
    "# Perform Chi-Square Test\n",
    "chi2_stat, p_value, dof, expected = stats.chi2_contingency(observed)\n",
    "\n",
    "print(f\"Chi-square statistic: {chi2_stat}\")\n",
    "print(f\"p-value: {p_value}\")\n",
    "print(f\"Degrees of freedom: {dof}\")\n",
    "print(f\"Expected frequencies:\\n{expected}\")\n",
    "\n",
    "# Significance level\n",
    "alpha = 0.05\n",
    "\n",
    "# Critical value for 2 degrees of freedom at 0.05 significance level\n",
    "critical_value = stats.chi2.ppf(1 - alpha, df=dof)\n",
    "print(f\"Critical value: {critical_value}\")\n",
    "\n",
    "# Decision\n",
    "if chi2_stat > critical_value:\n",
    "    print(\"Reject the null hypothesis.\")\n",
    "else:\n",
    "    print(\"Fail to reject the null hypothesis.\")\n"
   ]
  },
  {
   "cell_type": "markdown",
   "id": "98f4b257",
   "metadata": {},
   "source": [
    "Q4. A study of the prevalence of smoking in a population of 500 individuals found that 60 individuals\n",
    "smoked. Use Python to calculate the 95% confidence interval for the true proportion of individuals in the\n",
    "population who smoke."
   ]
  },
  {
   "cell_type": "code",
   "execution_count": 5,
   "id": "c8cd4248",
   "metadata": {},
   "outputs": [
    {
     "name": "stdout",
     "output_type": "stream",
     "text": [
      "95% Confidence Interval: (0.0915, 0.1485)\n"
     ]
    }
   ],
   "source": [
    "import scipy.stats as stats\n",
    "import numpy as np\n",
    "\n",
    "# Given data\n",
    "n = 500  # sample size\n",
    "x = 60   # number of smokers\n",
    "p_hat = x / n  # sample proportion\n",
    "confidence_level = 0.95\n",
    "\n",
    "# Z-value for 95% confidence level\n",
    "z = stats.norm.ppf(1 - (1 - confidence_level) / 2)\n",
    "\n",
    "# Standard error\n",
    "se = np.sqrt((p_hat * (1 - p_hat)) / n)\n",
    "\n",
    "# Confidence interval\n",
    "ci_lower = p_hat - z * se\n",
    "ci_upper = p_hat + z * se\n",
    "\n",
    "print(f\"95% Confidence Interval: ({ci_lower:.4f}, {ci_upper:.4f})\")\n"
   ]
  },
  {
   "cell_type": "markdown",
   "id": "1c82fea7",
   "metadata": {},
   "source": [
    "Q5. Calculate the 90% confidence interval for a sample of data with a mean of 75 and a standard deviation\n",
    "of 12 using Python. Interpret the results."
   ]
  },
  {
   "cell_type": "code",
   "execution_count": 7,
   "id": "94c64864",
   "metadata": {},
   "outputs": [
    {
     "name": "stdout",
     "output_type": "stream",
     "text": [
      "90% Confidence Interval: (55.26, 94.74)\n"
     ]
    }
   ],
   "source": [
    "import scipy.stats as stats\n",
    "\n",
    "# Given data\n",
    "mean = 75          # sample mean\n",
    "std_dev = 12        # standard deviation\n",
    "n = 1               # sample size (using population standard deviation)\n",
    "confidence_level = 0.90\n",
    "\n",
    "# Z-value for 90% confidence level\n",
    "z = stats.norm.ppf(1 - (1 - confidence_level) / 2)\n",
    "\n",
    "# Standard error\n",
    "se = std_dev / np.sqrt(n)\n",
    "\n",
    "# Confidence interval\n",
    "ci_lower = mean - z * se\n",
    "ci_upper = mean + z * se\n",
    "\n",
    "print(f\"90% Confidence Interval: ({ci_lower:.2f}, {ci_upper:.2f})\")\n"
   ]
  },
  {
   "cell_type": "markdown",
   "id": "e9250428",
   "metadata": {},
   "source": [
    "Q6. Use Python to plot the chi-square distribution with 10 degrees of freedom. Label the axes and shade the\n",
    "area corresponding to a chi-square statistic of 15."
   ]
  },
  {
   "cell_type": "code",
   "execution_count": 8,
   "id": "7fc10067",
   "metadata": {},
   "outputs": [
    {
     "data": {
      "image/png": "[encoded data removed]",
      "text/plain": [
       "<Figure size 1000x600 with 1 Axes>"
      ]
     },
     "metadata": {},
     "output_type": "display_data"
    }
   ],
   "source": [
    "import numpy as np\n",
    "import matplotlib.pyplot as plt\n",
    "from scipy.stats import chi2\n",
    "\n",
    "# Degrees of freedom\n",
    "df = 10\n",
    "\n",
    "# Chi-square statistic value\n",
    "chi2_stat = 15\n",
    "\n",
    "# Chi-square distribution\n",
    "x = np.linspace(0, 30, 1000)\n",
    "y = chi2.pdf(x, df)\n",
    "\n",
    "# Plot the chi-square distribution\n",
    "plt.figure(figsize=(10, 6))\n",
    "plt.plot(x, y, label=f'Chi-square df={df}')\n",
    "plt.fill_between(x, y, where=(x >= chi2_stat), color='lightgrey', label=f'Chi2={chi2_stat}')\n",
    "plt.axvline(x=chi2_stat, color='red', linestyle='--', label=f'Chi2 stat = {chi2_stat}')\n",
    "plt.xlabel('Chi-square Statistic')\n",
    "plt.ylabel('Probability Density Function')\n",
    "plt.title(f'Chi-square Distribution (df={df})')\n",
    "plt.legend()\n",
    "plt.grid(True)\n",
    "plt.show()\n"
   ]
  },
  {
   "cell_type": "markdown",
   "id": "7a2e1ca2",
   "metadata": {},
   "source": [
    "Q7. A random sample of 1000 people was asked if they preferred Coke or Pepsi. Of the sample, 520\n",
    "preferred Coke. Calculate a 99% confidence interval for the true proportion of people in the population who\n",
    "prefer Coke."
   ]
  },
  {
   "cell_type": "code",
   "execution_count": 9,
   "id": "c1c39158",
   "metadata": {},
   "outputs": [
    {
     "name": "stdout",
     "output_type": "stream",
     "text": [
      "99% Confidence Interval: (0.4793, 0.5607)\n"
     ]
    }
   ],
   "source": [
    "import scipy.stats as stats\n",
    "import numpy as np\n",
    "\n",
    "# Given data\n",
    "n = 1000    # sample size\n",
    "x = 520     # number of people who preferred Coke\n",
    "p_hat = x / n  # sample proportion\n",
    "confidence_level = 0.99\n",
    "\n",
    "# Z-value for 99% confidence level\n",
    "z = stats.norm.ppf(1 - (1 - confidence_level) / 2)\n",
    "\n",
    "# Standard error\n",
    "se = np.sqrt((p_hat * (1 - p_hat)) / n)\n",
    "\n",
    "# Confidence interval\n",
    "ci_lower = p_hat - z * se\n",
    "ci_upper = p_hat + z * se\n",
    "\n",
    "print(f\"99% Confidence Interval: ({ci_lower:.4f}, {ci_upper:.4f})\")\n"
   ]
  },
  {
   "cell_type": "markdown",
   "id": "72bf6bc7",
   "metadata": {},
   "source": [
    "Q8. A researcher hypothesizes that a coin is biased towards tails. They flip the coin 100 times and observe\n",
    "45 tails. Conduct a chi-square goodness of fit test to determine if the observed frequencies match the\n",
    "expected frequencies of a fair coin. Use a significance level of 0.05."
   ]
  },
  {
   "cell_type": "code",
   "execution_count": 10,
   "id": "de9324ce",
   "metadata": {},
   "outputs": [
    {
     "name": "stdout",
     "output_type": "stream",
     "text": [
      "Chi-square statistic: 1.0\n",
      "p-value: 0.31731050786291115\n",
      "Critical value: 3.841458820694124\n",
      "Fail to reject the null hypothesis.\n"
     ]
    }
   ],
   "source": [
    "import numpy as np\n",
    "import scipy.stats as stats\n",
    "\n",
    "# Given data\n",
    "observed_tails = 45\n",
    "total_flips = 100\n",
    "expected_tails = 50  # Expected frequency for a fair coin\n",
    "\n",
    "# Perform Chi-Square Test\n",
    "observed = np.array([observed_tails, total_flips - observed_tails])\n",
    "expected = np.array([expected_tails, total_flips - expected_tails])\n",
    "\n",
    "chi2_stat, p_value = stats.chisquare(observed, f_exp=expected)\n",
    "\n",
    "print(f\"Chi-square statistic: {chi2_stat}\")\n",
    "print(f\"p-value: {p_value}\")\n",
    "\n",
    "# Significance level\n",
    "alpha = 0.05\n",
    "\n",
    "# Critical value for 1 degree of freedom at 0.05 significance level\n",
    "critical_value = stats.chi2.ppf(1 - alpha, df=1)\n",
    "print(f\"Critical value: {critical_value}\")\n",
    "\n",
    "# Decision\n",
    "if chi2_stat > critical_value:\n",
    "    print(\"Reject the null hypothesis.\")\n",
    "else:\n",
    "    print(\"Fail to reject the null hypothesis.\")\n",
    "\n"
   ]
  },
  {
   "cell_type": "markdown",
   "id": "d9e80a8e",
   "metadata": {},
   "source": [
    "Q9. A study was conducted to determine if there is an association between smoking status (smoker or\n",
    "non-smoker) and lung cancer diagnosis (yes or no). The results are shown in the contingency table below.\n",
    "Conduct a chi-square test for independence to determine if there is a significant association between\n",
    "smoking status and lung cancer diagnosis.Lung Cancer: Yes\n",
    "\n",
    "Smoker 60 140\n",
    "Non-smoker 30 170\n",
    "Lung Cancer: No"
   ]
  },
  {
   "cell_type": "code",
   "execution_count": 11,
   "id": "0d27a7c3",
   "metadata": {},
   "outputs": [
    {
     "name": "stdout",
     "output_type": "stream",
     "text": [
      "Chi-square statistic: 12.057347670250895\n",
      "p-value: 0.0005158863863703744\n",
      "Degrees of freedom: 1\n",
      "Expected frequencies:\n",
      "[[ 45. 155.]\n",
      " [ 45. 155.]]\n",
      "Critical value: 3.841458820694124\n",
      "Reject the null hypothesis.\n"
     ]
    }
   ],
   "source": [
    "import numpy as np\n",
    "import scipy.stats as stats\n",
    "\n",
    "# Contingency table data\n",
    "observed = np.array([[60, 140],\n",
    "                     [30, 170]])\n",
    "\n",
    "# Perform Chi-Square Test\n",
    "chi2_stat, p_value, dof, expected = stats.chi2_contingency(observed)\n",
    "\n",
    "print(f\"Chi-square statistic: {chi2_stat}\")\n",
    "print(f\"p-value: {p_value}\")\n",
    "print(f\"Degrees of freedom: {dof}\")\n",
    "print(f\"Expected frequencies:\\n{expected}\")\n",
    "\n",
    "# Significance level\n",
    "alpha = 0.05\n",
    "\n",
    "# Critical value for 1 degree of freedom at 0.05 significance level\n",
    "critical_value = stats.chi2.ppf(1 - alpha, df=dof)\n",
    "print(f\"Critical value: {critical_value}\")\n",
    "\n",
    "# Decision\n",
    "if chi2_stat > critical_value:\n",
    "    print(\"Reject the null hypothesis.\")\n",
    "else:\n",
    "    print(\"Fail to reject the null hypothesis.\")\n"
   ]
  },
  {
   "cell_type": "markdown",
   "id": "b3a95aec",
   "metadata": {},
   "source": [
    "Q10. A study was conducted to determine if the proportion of people who prefer milk chocolate, dark\n",
    "chocolate, or white chocolate is different in the U.S. versus the U.K. A random sample of 500 people from\n",
    "the U.S. and a random sample of 500 people from the U.K. were surveyed. The results are shown in the\n",
    "contingency table below. Conduct a chi-square test for independence to determine if there is a significant\n",
    "association between chocolate preference and country of origin.\n",
    "\n",
    "Milk Chocolate\n",
    "\n",
    "U.S. (n=500) 200 150 150\n",
    "U.K. (n=500) 225 175 100\n",
    "Dark Chocolate White Chocolate\n",
    "Use a significance level of 0.01."
   ]
  },
  {
   "cell_type": "code",
   "execution_count": 12,
   "id": "7eceb405",
   "metadata": {},
   "outputs": [
    {
     "name": "stdout",
     "output_type": "stream",
     "text": [
      "Chi-square statistic: 12.057347670250895\n",
      "p-value: 0.0005158863863703744\n",
      "Degrees of freedom: 1\n",
      "Expected frequencies:\n",
      "[[ 45. 155.]\n",
      " [ 45. 155.]]\n",
      "Critical value: 3.841458820694124\n",
      "Reject the null hypothesis.\n"
     ]
    }
   ],
   "source": [
    "import numpy as np\n",
    "import scipy.stats as stats\n",
    "\n",
    "# Contingency table data\n",
    "observed = np.array([[60, 140],\n",
    "                     [30, 170]])\n",
    "\n",
    "# Perform Chi-Square Test\n",
    "chi2_stat, p_value, dof, expected = stats.chi2_contingency(observed)\n",
    "\n",
    "print(f\"Chi-square statistic: {chi2_stat}\")\n",
    "print(f\"p-value: {p_value}\")\n",
    "print(f\"Degrees of freedom: {dof}\")\n",
    "print(f\"Expected frequencies:\\n{expected}\")\n",
    "\n",
    "# Significance level\n",
    "alpha = 0.05\n",
    "\n",
    "# Critical value for 1 degree of freedom at 0.05 significance level\n",
    "critical_value = stats.chi2.ppf(1 - alpha, df=dof)\n",
    "print(f\"Critical value: {critical_value}\")\n",
    "\n",
    "# Decision\n",
    "if chi2_stat > critical_value:\n",
    "    print(\"Reject the null hypothesis.\")\n",
    "else:\n",
    "    print(\"Fail to reject the null hypothesis.\")\n"
   ]
  },
  {
   "cell_type": "markdown",
   "id": "633ee5bc",
   "metadata": {},
   "source": []
  },
  {
   "cell_type": "markdown",
   "id": "b454eb91",
   "metadata": {},
   "source": [
    "Q11. A random sample of 30 people was selected from a population with an unknown mean and standard\n",
    "deviation. The sample mean was found to be 72 and the sample standard deviation was found to be 10.\n",
    "Conduct a hypothesis test to determine if the population mean is significantly different from 70. Use a\n",
    "significance level of 0.05."
   ]
  },
  {
   "cell_type": "code",
   "execution_count": null,
   "id": "2b3a7081",
   "metadata": {},
   "outputs": [],
   "source": [
    "import scipy.stats as stats\n",
    "import numpy as np\n",
    "\n",
    "# Given data\n",
    "sample_mean = 72\n",
    "population_mean = 70\n",
    "sample_std = 10\n",
    "n = 30\n",
    "alpha = 0.05\n",
    "\n",
    "# Calculate the z-score\n",
    "z = (sample_mean - population_mean) / (sample_std / np.sqrt(n))\n",
    "\n",
    "# Two-tailed test\n",
    "p_value = 2 * (1 - stats.norm.cdf(abs(z)))\n",
    "\n",
    "# Print results\n",
    "print(f\"Z-score: {z:.4f}\")\n",
    "print(f\"p-value: {p_value:.4f}\")\n",
    "\n",
    "# Critical value for two-tailed test at 0.05 significance level\n",
    "critical_value = stats.norm.ppf(1 - alpha/2)\n",
    "print(f\"Critical value: {critical_value:.4f}\")\n",
    "\n",
    "# Decision\n",
    "if abs(z) > critical_value:\n",
    "    print(\"Reject the null hypothesis.\")\n",
    "else:\n",
    "    print(\"Fail to reject the null hypothesis.\")\n"
   ]
  }
 ],
 "metadata": {
  "kernelspec": {
   "display_name": "Python 3 (ipykernel)",
   "language": "python",
   "name": "python3"
  },
  "language_info": {
   "codemirror_mode": {
    "name": "ipython",
    "version": 3
   },
   "file_extension": ".py",
   "mimetype": "text/x-python",
   "name": "python",
   "nbconvert_exporter": "python",
   "pygments_lexer": "ipython3",
   "version": "3.9.13"
  }
 },
 "nbformat": 4,
 "nbformat_minor": 5
}
