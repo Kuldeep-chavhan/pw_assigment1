{
 "cells": [
  {
   "cell_type": "markdown",
   "id": "5696205b-3d22-4438-a1cd-a815bf3c3323",
   "metadata": {},
   "source": [
    "Q1. Pearson correlation coefficient is a measure of the linear relationship between two variables. Suppose\n",
    "you have collected data on the amount of time students spend studying for an exam and their final exam\n",
    "scores. Calculate the Pearson correlation coefficient between these two variables and interpret the result."
   ]
  },
  {
   "cell_type": "code",
   "execution_count": 2,
   "id": "5250a2a9-4426-4b9d-b93e-b7b9d092d60f",
   "metadata": {},
   "outputs": [],
   "source": [
    "import pandas as pd"
   ]
  },
  {
   "cell_type": "code",
   "execution_count": 10,
   "id": "b217fa46-1587-4122-8554-de69ba63fb8c",
   "metadata": {},
   "outputs": [],
   "source": [
    "df = pd.DataFrame({'Time_study': [4,5,6,7] ,\n",
    "       'Exam_score': [50,60,70,80] \n",
    "       \n",
    "       })"
   ]
  },
  {
   "cell_type": "code",
   "execution_count": 11,
   "id": "466f1b58-afc7-4b4d-963f-0f0d58148877",
   "metadata": {},
   "outputs": [
    {
     "data": {
      "text/html": [
       "<div>\n",
       "<style scoped>\n",
       "    .dataframe tbody tr th:only-of-type {\n",
       "        vertical-align: middle;\n",
       "    }\n",
       "\n",
       "    .dataframe tbody tr th {\n",
       "        vertical-align: top;\n",
       "    }\n",
       "\n",
       "    .dataframe thead th {\n",
       "        text-align: right;\n",
       "    }\n",
       "</style>\n",
       "<table border=\"1\" class=\"dataframe\">\n",
       "  <thead>\n",
       "    <tr style=\"text-align: right;\">\n",
       "      <th></th>\n",
       "      <th>Time_study</th>\n",
       "      <th>Exam_score</th>\n",
       "    </tr>\n",
       "  </thead>\n",
       "  <tbody>\n",
       "    <tr>\n",
       "      <th>0</th>\n",
       "      <td>4</td>\n",
       "      <td>50</td>\n",
       "    </tr>\n",
       "    <tr>\n",
       "      <th>1</th>\n",
       "      <td>5</td>\n",
       "      <td>60</td>\n",
       "    </tr>\n",
       "    <tr>\n",
       "      <th>2</th>\n",
       "      <td>6</td>\n",
       "      <td>70</td>\n",
       "    </tr>\n",
       "    <tr>\n",
       "      <th>3</th>\n",
       "      <td>7</td>\n",
       "      <td>80</td>\n",
       "    </tr>\n",
       "  </tbody>\n",
       "</table>\n",
       "</div>"
      ],
      "text/plain": [
       "   Time_study  Exam_score\n",
       "0           4          50\n",
       "1           5          60\n",
       "2           6          70\n",
       "3           7          80"
      ]
     },
     "execution_count": 11,
     "metadata": {},
     "output_type": "execute_result"
    }
   ],
   "source": [
    "df"
   ]
  },
  {
   "cell_type": "code",
   "execution_count": 14,
   "id": "2dfe4141-5b43-4b72-b8f3-de6a6ef1352d",
   "metadata": {},
   "outputs": [
    {
     "data": {
      "text/html": [
       "<div>\n",
       "<style scoped>\n",
       "    .dataframe tbody tr th:only-of-type {\n",
       "        vertical-align: middle;\n",
       "    }\n",
       "\n",
       "    .dataframe tbody tr th {\n",
       "        vertical-align: top;\n",
       "    }\n",
       "\n",
       "    .dataframe thead th {\n",
       "        text-align: right;\n",
       "    }\n",
       "</style>\n",
       "<table border=\"1\" class=\"dataframe\">\n",
       "  <thead>\n",
       "    <tr style=\"text-align: right;\">\n",
       "      <th></th>\n",
       "      <th>Time_study</th>\n",
       "      <th>Exam_score</th>\n",
       "    </tr>\n",
       "  </thead>\n",
       "  <tbody>\n",
       "    <tr>\n",
       "      <th>Time_study</th>\n",
       "      <td>1.0</td>\n",
       "      <td>1.0</td>\n",
       "    </tr>\n",
       "    <tr>\n",
       "      <th>Exam_score</th>\n",
       "      <td>1.0</td>\n",
       "      <td>1.0</td>\n",
       "    </tr>\n",
       "  </tbody>\n",
       "</table>\n",
       "</div>"
      ],
      "text/plain": [
       "            Time_study  Exam_score\n",
       "Time_study         1.0         1.0\n",
       "Exam_score         1.0         1.0"
      ]
     },
     "execution_count": 14,
     "metadata": {},
     "output_type": "execute_result"
    }
   ],
   "source": [
    "df.corr(method = \"pearson\")"
   ]
  },
  {
   "cell_type": "markdown",
   "id": "d5d90150-e865-483b-8bae-97820ac8c57c",
   "metadata": {},
   "source": [
    "Q2. Spearman's rank correlation is a measure of the monotonic relationship between two variables.\n",
    "Suppose you have collected data on the amount of sleep individuals get each night and their overall job\n",
    "satisfaction level on a scale of 1 to 10. Calculate the Spearman's rank correlation between these two\n",
    "variables and interpret the result."
   ]
  },
  {
   "cell_type": "code",
   "execution_count": 22,
   "id": "3d307965-2409-4fa8-987e-9c223711c7ee",
   "metadata": {},
   "outputs": [
    {
     "name": "stdout",
     "output_type": "stream",
     "text": [
      "Spearman's rank correlation coefficient: 0.9999999999999999\n",
      "P-value: 1.4042654220543672e-24\n"
     ]
    }
   ],
   "source": [
    "import scipy.stats as stats\n",
    "\n",
    "# Sample data\n",
    "sleep_hours = [7, 6, 8, 5, 9]\n",
    "job_satisfaction = [8, 6, 9, 5, 10]\n",
    "\n",
    "# Calculate Spearman's rank correlation\n",
    "spearman_corr, p_value = stats.spearmanr(sleep_hours, job_satisfaction)\n",
    "\n",
    "print(f\"Spearman's rank correlation coefficient: {spearman_corr}\")\n",
    "print(f\"P-value: {p_value}\")\n"
   ]
  },
  {
   "cell_type": "markdown",
   "id": "b55aa16e-cdd8-499f-b103-7f58a2efc604",
   "metadata": {},
   "source": [
    "Q3. Suppose you are conducting a study to examine the relationship between the number of hours of\n",
    "exercise per week and body mass index (BMI) in a sample of adults. You collected data on both variables\n",
    "for 50 participants. Calculate the Pearson correlation coefficient and the Spearman's rank correlation\n",
    "between these two variables and compare the results."
   ]
  },
  {
   "cell_type": "code",
   "execution_count": 23,
   "id": "8adc1232-91cd-4a26-9ee1-d83ba1ece93a",
   "metadata": {},
   "outputs": [
    {
     "name": "stdout",
     "output_type": "stream",
     "text": [
      "Pearson correlation coefficient: -0.061\n",
      "Spearman's rank correlation: -0.045\n",
      "Spearman's rank correlation is stronger.\n"
     ]
    }
   ],
   "source": [
    "import pandas as pd\n",
    "import numpy as np\n",
    "from scipy.stats import pearsonr, spearmanr\n",
    "\n",
    "# Sample data for 50 participants\n",
    "data = {\n",
    "    'Hours_of_Exercise': np.random.randint(0, 10, 50),\n",
    "    'BMI': np.random.uniform(18.5, 30.0, 50)\n",
    "}\n",
    "\n",
    "# Create a DataFrame\n",
    "df = pd.DataFrame(data)\n",
    "\n",
    "# Calculate Pearson correlation coefficient\n",
    "pearson_corr, _ = pearsonr(df['Hours_of_Exercise'], df['BMI'])\n",
    "print(f\"Pearson correlation coefficient: {pearson_corr:.3f}\")\n",
    "\n",
    "# Calculate Spearman's rank correlation\n",
    "spearman_corr, _ = spearmanr(df['Hours_of_Exercise'], df['BMI'])\n",
    "print(f\"Spearman's rank correlation: {spearman_corr:.3f}\")\n",
    "\n",
    "# Compare the results\n",
    "if pearson_corr > spearman_corr:\n",
    "    print(\"Pearson correlation is stronger.\")\n",
    "elif spearman_corr > pearson_corr:\n",
    "    print(\"Spearman's rank correlation is stronger.\")\n",
    "else:\n",
    "    print(\"Both correlations are equal.\")\n"
   ]
  },
  {
   "cell_type": "markdown",
   "id": "30bb2d51-5b82-4c8b-9f4b-41e18a8ba7c2",
   "metadata": {},
   "source": [
    "Q4. A researcher is interested in examining the relationship between the number of hours individuals\n",
    "spend watching television per day and their level of physical activity. The researcher collected data on\n",
    "both variables from a sample of 50 participants. Calculate the Pearson correlation coefficient between\n",
    "these two variables."
   ]
  },
  {
   "cell_type": "code",
   "execution_count": 24,
   "id": "5eb6a56d-1733-4b3e-9748-e7ff5dec562d",
   "metadata": {},
   "outputs": [
    {
     "name": "stdout",
     "output_type": "stream",
     "text": [
      "Pearson correlation coefficient: -1.0\n"
     ]
    }
   ],
   "source": [
    "import pandas as pd\n",
    "from scipy.stats import pearsonr\n",
    "\n",
    "# Sample data\n",
    "data = {\n",
    "    'hours_watching_tv': [4, 3, 5, 2, 6, 1, 4, 3, 5, 2, 6, 1, 4, 3, 5, 2, 6, 1, 4, 3, 5, 2, 6, 1, 4, 3, 5, 2, 6, 1, 4, 3, 5, 2, 6, 1, 4, 3, 5, 2, 6, 1, 4, 3, 5, 2, 6, 1, 4, 3],\n",
    "    'physical_activity_level': [2, 3, 1, 4, 0, 5, 2, 3, 1, 4, 0, 5, 2, 3, 1, 4, 0, 5, 2, 3, 1, 4, 0, 5, 2, 3, 1, 4, 0, 5, 2, 3, 1, 4, 0, 5, 2, 3, 1, 4, 0, 5, 2, 3, 1, 4, 0, 5, 2, 3]\n",
    "}\n",
    "\n",
    "# Create a DataFrame\n",
    "df = pd.DataFrame(data)\n",
    "\n",
    "# Calculate Pearson correlation coefficient\n",
    "corr, _ = pearsonr(df['hours_watching_tv'], df['physical_activity_level'])\n",
    "\n",
    "print(f'Pearson correlation coefficient: {corr}')\n"
   ]
  },
  {
   "cell_type": "markdown",
   "id": "5e2e51f8-58cd-4679-ada4-8a028d25a540",
   "metadata": {},
   "source": [
    "Q5. A survey was conducted to examine the relationship between age and preference for a particular\n",
    "brand of soft drink. The survey results are shown below:"
   ]
  },
  {
   "cell_type": "code",
   "execution_count": 6,
   "id": "d532bdec-9591-4c99-a3e3-c50b101a6e26",
   "metadata": {},
   "outputs": [
    {
     "ename": "NameError",
     "evalue": "name 'pd' is not defined",
     "output_type": "error",
     "traceback": [
      "\u001b[0;31m---------------------------------------------------------------------------\u001b[0m",
      "\u001b[0;31mNameError\u001b[0m                                 Traceback (most recent call last)",
      "Cell \u001b[0;32mIn[6], line 1\u001b[0m\n\u001b[0;32m----> 1\u001b[0m data \u001b[38;5;241m=\u001b[39m \u001b[43mpd\u001b[49m\u001b[38;5;241m.\u001b[39mDataFrame({\u001b[38;5;124m'\u001b[39m\u001b[38;5;124mAge\u001b[39m\u001b[38;5;124m'\u001b[39m : [\u001b[38;5;241m25\u001b[39m,\u001b[38;5;241m42\u001b[39m,\u001b[38;5;241m37\u001b[39m,\u001b[38;5;241m19\u001b[39m,\u001b[38;5;241m31\u001b[39m,\u001b[38;5;241m28\u001b[39m],\n\u001b[1;32m      2\u001b[0m                   \u001b[38;5;124m'\u001b[39m\u001b[38;5;124mSoft_drink_performance\u001b[39m\u001b[38;5;124m'\u001b[39m : [\u001b[38;5;124m'\u001b[39m\u001b[38;5;124mcoke\u001b[39m\u001b[38;5;124m'\u001b[39m,\u001b[38;5;124m'\u001b[39m\u001b[38;5;124mpepsi\u001b[39m\u001b[38;5;124m'\u001b[39m,\u001b[38;5;124m'\u001b[39m\u001b[38;5;124mmountain_div\u001b[39m\u001b[38;5;124m'\u001b[39m,\u001b[38;5;124m'\u001b[39m\u001b[38;5;124mcoke\u001b[39m\u001b[38;5;124m'\u001b[39m,\u001b[38;5;124m'\u001b[39m\u001b[38;5;124mpepsi\u001b[39m\u001b[38;5;124m'\u001b[39m,\u001b[38;5;124m'\u001b[39m\u001b[38;5;124mcoke\u001b[39m\u001b[38;5;124m'\u001b[39m]\n\u001b[1;32m      3\u001b[0m                   })\n",
      "\u001b[0;31mNameError\u001b[0m: name 'pd' is not defined"
     ]
    }
   ],
   "source": [
    "data = pd.DataFrame({'Age' : [25,42,37,19,31,28],\n",
    "                  'Soft_drink_performance' : ['coke','pepsi','mountain_div','coke','pepsi','coke']\n",
    "                  })\n"
   ]
  },
  {
   "cell_type": "code",
   "execution_count": null,
   "id": "d2622e91-23ee-4df4-b064-f6485569bce3",
   "metadata": {},
   "outputs": [],
   "source": []
  },
  {
   "cell_type": "code",
   "execution_count": 5,
   "id": "45f084cd-1a43-46e2-a1e0-b479e2ded90e",
   "metadata": {},
   "outputs": [
    {
     "ename": "NameError",
     "evalue": "name 'df' is not defined",
     "output_type": "error",
     "traceback": [
      "\u001b[0;31m---------------------------------------------------------------------------\u001b[0m",
      "\u001b[0;31mNameError\u001b[0m                                 Traceback (most recent call last)",
      "Cell \u001b[0;32mIn[5], line 1\u001b[0m\n\u001b[0;32m----> 1\u001b[0m df[\u001b[38;5;124m'\u001b[39m\u001b[38;5;124mperformance\u001b[39m\u001b[38;5;124m'\u001b[39m] \u001b[38;5;241m=\u001b[39m \u001b[43mdf\u001b[49m\u001b[38;5;241m.\u001b[39mgroupby(\u001b[38;5;124m'\u001b[39m\u001b[38;5;124mSoft_drink_performance\u001b[39m\u001b[38;5;124m'\u001b[39m)[Age]\u001b[38;5;241m.\u001b[39mmean()\n",
      "\u001b[0;31mNameError\u001b[0m: name 'df' is not defined"
     ]
    }
   ],
   "source": [
    "df['performance'] = df.groupby('Soft_drink_performance')[Age].mean()"
   ]
  },
  {
   "cell_type": "markdown",
   "id": "a86599a3-0ef0-4f89-b579-b7ccc1321d99",
   "metadata": {},
   "source": [
    "Q6. A company is interested in examining the relationship between the number of sales calls made per day\n",
    "and the number of sales made per week. The company collected data on both variables from a sample of\n",
    "30 sales representatives. Calculate the Pearson correlation coefficient between these two variables."
   ]
  },
  {
   "cell_type": "code",
   "execution_count": 25,
   "id": "f3a1d31f-dfe8-40e8-b1e4-73483e34c14c",
   "metadata": {},
   "outputs": [
    {
     "name": "stdout",
     "output_type": "stream",
     "text": [
      "Pearson correlation coefficient: -0.29787912336797273\n"
     ]
    }
   ],
   "source": [
    "import numpy as np\n",
    "from scipy.stats import pearsonr\n",
    "\n",
    "# Sample data\n",
    "sales_calls_per_day = np.random.randint(5, 20, size=30)  # Example data\n",
    "sales_per_week = np.random.randint(10, 50, size=30)      # Example data\n",
    "\n",
    "# Calculate Pearson correlation coefficient\n",
    "correlation, _ = pearsonr(sales_calls_per_day, sales_per_week)\n",
    "print(f'Pearson correlation coefficient: {correlation}')\n"
   ]
  },
  {
   "cell_type": "code",
   "execution_count": null,
   "id": "a6f32574-6c4c-4e27-978d-603170d5195d",
   "metadata": {},
   "outputs": [],
   "source": []
  }
 ],
 "metadata": {
  "kernelspec": {
   "display_name": "Python 3 (ipykernel)",
   "language": "python",
   "name": "python3"
  },
  "language_info": {
   "codemirror_mode": {
    "name": "ipython",
    "version": 3
   },
   "file_extension": ".py",
   "mimetype": "text/x-python",
   "name": "python",
   "nbconvert_exporter": "python",
   "pygments_lexer": "ipython3",
   "version": "3.10.8"
  }
 },
 "nbformat": 4,
 "nbformat_minor": 5
}
