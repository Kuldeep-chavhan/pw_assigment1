{
 "cells": [
  {
   "cell_type": "markdown",
   "id": "69cac228-6793-4a5c-8bef-13cc4ff8d605",
   "metadata": {},
   "source": [
    "Q1 what is exception in python. what is the difference between exception and syntax error"
   ]
  },
  {
   "cell_type": "markdown",
   "id": "59642261-fb96-4b40-ab62-cccaa95df567",
   "metadata": {},
   "source": [
    "An exception is like a red flag that Python raises when something goes awry during program execution.\n",
    "It’s an object that represents an error event.\n",
    "Exceptions can occur due to various reasons: division by zero, accessing an index out of bounds, or trying to open a non-existent file.\n",
    "When an exception happens, Python stops its usual flow and jumps to a special exception-handling section.\n",
    "\n",
    "\n",
    "Syntax errors: Python doesn’t even start executing; it’s like stumbling over your own shoelaces.\n",
    "Exceptions: Python starts executing but encounters an unexpected situation; it’s like hitting a plot twist in your favorite novel.\n"
   ]
  },
  {
   "cell_type": "markdown",
   "id": "99980471-d737-4ef7-b496-219030b554bb",
   "metadata": {},
   "source": [
    "Q2 what happens when an exception is not handled .explain  with an example"
   ]
  },
  {
   "cell_type": "markdown",
   "id": "c4f506f6-3ac9-4e2e-ad00-3f0b0627493c",
   "metadata": {},
   "source": [
    "If an exception is not handled (no suitable except block), Python propagates it up the call stack.\n",
    "If no handler is found, the program terminates with an error message."
   ]
  },
  {
   "cell_type": "code",
   "execution_count": 1,
   "id": "40b9bbcf-90ab-47ad-90ce-345c32746947",
   "metadata": {},
   "outputs": [
    {
     "name": "stdout",
     "output_type": "stream",
     "text": [
      "Oops! You divided by zero.\n"
     ]
    }
   ],
   "source": [
    "try:\n",
    "    result = 3 / 0  # Attempting to divide by zero\n",
    "except ZeroDivisionError:\n",
    "    print(\"Oops! You divided by zero.\")\n"
   ]
  },
  {
   "cell_type": "markdown",
   "id": "e9a8b1e6-b36a-4be7-acc0-ebae949cd13e",
   "metadata": {},
   "source": [
    "Q3 which python statement are used to catch and handle exceptions.explain with an example"
   ]
  },
  {
   "cell_type": "markdown",
   "id": "e4ea19de-7c62-4ad7-860a-829ad3a512b2",
   "metadata": {},
   "source": [
    "try and except Blocks:\n",
    "The try block contains the code that might raise an exception.\n",
    "The except block specifies what to do if an exception occurs.\n",
    "If an exception occurs within the try block, Python jumps to the corresponding except block."
   ]
  },
  {
   "cell_type": "code",
   "execution_count": null,
   "id": "5bda0b1b-803f-4047-a861-47928aed986b",
   "metadata": {},
   "outputs": [],
   "source": [
    "try:\n",
    "    value = int(input(\"Enter an integer: \"))\n",
    "    result = 10 / value\n",
    "except ZeroDivisionError:\n",
    "    print(\"Oops! You divided by zero.\")\n",
    "except ValueError:\n",
    "    print(\"Oops! That's not a valid integer.\")\n"
   ]
  },
  {
   "cell_type": "markdown",
   "id": "063a4131-5786-4620-a85a-a426de32e1f3",
   "metadata": {},
   "source": [
    "Q4. Explain with\n",
    "an example:#\n",
    "\n",
    " try and else#\n",
    " finally\n",
    " raise"
   ]
  },
  {
   "cell_type": "markdown",
   "id": "8a9d9ada-b31a-470e-b4a3-552b3881971f",
   "metadata": {},
   "source": [
    "try Block:\n",
    "This is where you place code that might raise an exception. If an exception occurs within the try block, Python looks for a matching except block to handle it. If no exception occurs, the except block is skipped.\n",
    "except Block: Here, you handle specific exceptions. You can have multiple except blocks to catch different types of errors.\n",
    "else Block: The code within the else block executes only if no exception occurs in the try block. It’s useful for code that should run only when no exceptions are raised."
   ]
  },
  {
   "cell_type": "code",
   "execution_count": 1,
   "id": "8a7b57d7-c62e-41be-9a2c-f12b82443709",
   "metadata": {},
   "outputs": [
    {
     "name": "stdout",
     "output_type": "stream",
     "text": [
      "Yeah! Your answer is: 1.50\n",
      "Sorry! You are dividing by zero.\n"
     ]
    }
   ],
   "source": [
    "def divide(x, y):\n",
    "    try:\n",
    "        result = x / y\n",
    "    except ZeroDivisionError:\n",
    "        print(\"Sorry! You are dividing by zero.\")\n",
    "    else:\n",
    "        print(f\"Yeah! Your answer is: {result:.2f}\")\n",
    "\n",
    "# Example usage\n",
    "divide(3, 2)  # Output: Yeah! Your answer is: 1.50\n",
    "divide(3, 0)  # Output: Sorry! You are dividing by zero.\n"
   ]
  },
  {
   "cell_type": "markdown",
   "id": "e60d06c9-598b-4722-850e-f84f06023cee",
   "metadata": {},
   "source": [
    "2. finally Block\n",
    "The finally block always runs, regardless of whether an exception occurred or not. It’s commonly used for cleanup tasks (e.g., closing files, releasing resources)"
   ]
  },
  {
   "cell_type": "code",
   "execution_count": 2,
   "id": "69e9b8b7-c697-4e87-9488-3332722a2f42",
   "metadata": {},
   "outputs": [
    {
     "name": "stdout",
     "output_type": "stream",
     "text": [
      "File 'my_file.txt' not found.\n",
      "Cleanup: File handling complete.\n"
     ]
    }
   ],
   "source": [
    "def read_file(filename):\n",
    "    try:\n",
    "        with open(filename, 'r') as file:\n",
    "            content = file.read()\n",
    "            print(f\"File content: {content}\")\n",
    "    except FileNotFoundError:\n",
    "        print(f\"File '{filename}' not found.\")\n",
    "    finally:\n",
    "        print(\"Cleanup: File handling complete.\")\n",
    "\n",
    "# Example usage\n",
    "read_file(\"my_file.txt\")  # Adjust the filename as needed\n"
   ]
  },
  {
   "cell_type": "markdown",
   "id": "631c7bfc-ae0d-4aa4-8bad-7facacb78685",
   "metadata": {},
   "source": [
    "Q5 what are custom exception in python why do we need custom exception explain with an example"
   ]
  },
  {
   "cell_type": "markdown",
   "id": "5175ad63-e2e2-4011-ae47-65c12b312496",
   "metadata": {},
   "source": [
    "Creating a Custom Exception Class: To define a custom exception, you create a new class that inherits from the built-in Exception class (or one of its subclasses)"
   ]
  },
  {
   "cell_type": "markdown",
   "id": "fa7fcf1f-58d8-4097-903a-3b07a59b838e",
   "metadata": {},
   "source": [
    "Clarity: Custom exceptions make your code more readable. When someone else (or even future you) reads your code, they’ll instantly understand what went wrong.\n",
    "Granularity: You can create specific exceptions for different error scenarios. For instance, you might have a FileNotFoundError for missing files and a custom MyAppConfigError for configuration issues.\n",
    "Better Error Handling: Custom exceptions allow you to handle different types of errors separately. You can catch specific exceptions and take appropriate actions."
   ]
  },
  {
   "cell_type": "code",
   "execution_count": 5,
   "id": "f067fc25-7a8a-4cca-8e89-9b9e5edbfbfa",
   "metadata": {},
   "outputs": [
    {
     "name": "stdin",
     "output_type": "stream",
     "text": [
      "Enter your age:  12\n"
     ]
    },
    {
     "name": "stdout",
     "output_type": "stream",
     "text": [
      "Exception occurred: Invalid Age\n"
     ]
    }
   ],
   "source": [
    "class InvalidAgeException(Exception):\n",
    "    \"\"\"Raised when the input value is less than 18.\"\"\"\n",
    "    pass\n",
    "\n",
    "try:\n",
    "    user_age = int(input(\"Enter your age: \"))\n",
    "    if user_age < 18:\n",
    "        raise InvalidAgeException\n",
    "    else:\n",
    "        print(\"Eligible to Vote\")\n",
    "except InvalidAgeException:\n",
    "    print(\"Exception occurred: Invalid Age\")\n"
   ]
  },
  {
   "cell_type": "markdown",
   "id": "4a474c27-b0ef-4d43-90ee-b547a27293ec",
   "metadata": {},
   "source": [
    "Q6 create a custom exception class use this class to handle an exception"
   ]
  },
  {
   "cell_type": "code",
   "execution_count": 6,
   "id": "0011312d-cd0d-46f1-9304-c8c23e01c5e8",
   "metadata": {},
   "outputs": [
    {
     "name": "stdout",
     "output_type": "stream",
     "text": [
      "Caught custom exception: Empty data received!\n"
     ]
    }
   ],
   "source": [
    "class MyCustomError(Exception):\n",
    "    \"\"\"Custom exception raised for specific error scenarios.\"\"\"\n",
    "    def __init__(self, message=\"An error occurred.\"):\n",
    "        super().__init__(message)\n",
    "\n",
    "# Example usage\n",
    "def process_data(data):\n",
    "    if not data:\n",
    "        raise MyCustomError(\"Empty data received!\")\n",
    "\n",
    "try:\n",
    "    user_data = []  # Assume this is the data we received\n",
    "    process_data(user_data)\n",
    "except MyCustomError as e:\n",
    "    print(f\"Caught custom exception: {e}\")\n"
   ]
  },
  {
   "cell_type": "code",
   "execution_count": null,
   "id": "5b7194e4-6f23-4936-bdd9-9147ed063a13",
   "metadata": {},
   "outputs": [],
   "source": []
  }
 ],
 "metadata": {
  "kernelspec": {
   "display_name": "Python 3 (ipykernel)",
   "language": "python",
   "name": "python3"
  },
  "language_info": {
   "codemirror_mode": {
    "name": "ipython",
    "version": 3
   },
   "file_extension": ".py",
   "mimetype": "text/x-python",
   "name": "python",
   "nbconvert_exporter": "python",
   "pygments_lexer": "ipython3",
   "version": "3.10.8"
  }
 },
 "nbformat": 4,
 "nbformat_minor": 5
}
