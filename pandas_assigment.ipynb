{
 "cells": [
  {
   "cell_type": "code",
   "execution_count": null,
   "id": "1f35a94b-f492-46ff-9fb3-8132e53ba326",
   "metadata": {},
   "outputs": [],
   "source": [
    "import pandas as pd\n",
    "\n",
    "course_name = [\"Data Science\", \"Machine Learning\", \"Big Data\", \"Data Engineer\"]\n",
    "duration = [2,3,6,4]\n",
    "df = pd.DataFrame(data = {\"course_name\" : course_name, \"duration\" : duration})"
   ]
  },
  {
   "cell_type": "markdown",
   "id": "3d481a51-2b1b-4999-aa4f-3f316f0f88ae",
   "metadata": {},
   "source": [
    "Q1. Write a code to print the data present in the second row of the dataframe, df.\n"
   ]
  },
  {
   "cell_type": "code",
   "execution_count": null,
   "id": "7cad5595-d842-4a64-8bf8-e32b67c71a95",
   "metadata": {},
   "outputs": [],
   "source": [
    "second_row = df.iloc[1]\n",
    "\n",
    "print(second_row)"
   ]
  },
  {
   "cell_type": "markdown",
   "id": "c2f86f63-05df-4eb2-a03f-2203cb54fb2f",
   "metadata": {},
   "source": [
    "Q2. What is the difference between the functions loc and iloc in pandas.DataFrame?"
   ]
  },
  {
   "cell_type": "markdown",
   "id": "9bbdfbda-eeeb-4d0a-ab03-33162e3f5194",
   "metadata": {},
   "source": [
    "Label-based: loc is used to access a group of rows and columns by labels or a boolean array.\n",
    "Inclusive: When specifying a range, both the start and end labels are included."
   ]
  },
  {
   "cell_type": "markdown",
   "id": "269fa43e-89f6-4fe0-818f-e78c81600342",
   "metadata": {},
   "source": [
    "iloc\n",
    "Integer-based: iloc is used to access a group of rows and columns by integer position (like indexing in Python).\n",
    "Exclusive: When specifying a range, the end index is excluded."
   ]
  },
  {
   "cell_type": "markdown",
   "id": "70d06e62-d463-465b-bcf1-efbb00910276",
   "metadata": {},
   "source": [
    "Q3. Reindex the given dataframe using a variable, reindex = [3,0,1,2] and store it in the variable, new_df\n",
    "then find the output for both new_df.loc[2] and new_df.iloc[2].\n",
    "\n"
   ]
  },
  {
   "cell_type": "code",
   "execution_count": null,
   "id": "d8f78623-353d-40b9-8bee-ce1e9a9164fb",
   "metadata": {},
   "outputs": [],
   "source": [
    "import pandas as pd\n",
    "\n",
    "# Initial data\n",
    "course_name = ['Data Science', 'Machine Learning', 'Big Data', 'Data Engineer']\n",
    "duration = [2, 3, 6, 4]\n",
    "\n",
    "# Creating the DataFrame\n",
    "df = pd.DataFrame(data={'course_name': course_name, 'duration': duration})\n",
    "\n",
    "# Reindexing\n",
    "reindex = [3, 0, 1, 2]\n",
    "new_df = df.reindex(reindex)\n",
    "\n",
    "# Output for new_df.loc[2]\n",
    "loc_output = new_df.loc[2]\n",
    "\n",
    "# Output for new_df.iloc[2]\n",
    "iloc_output = new_df.iloc[2]\n",
    "\n",
    "loc_output, iloc_output\n",
    "\n"
   ]
  },
  {
   "cell_type": "code",
   "execution_count": null,
   "id": "ebea051f-e33f-478f-a9ef-db99cc71503e",
   "metadata": {},
   "outputs": [],
   "source": [
    "import pandas as pd\n",
    "import numpy as np\n",
    "columns = ['column_1', 'column_2', 'column_3', 'column_4', 'column_5', 'column_6']\n",
    "indices = [1,2,3,4,5,6]\n",
    "#Creating a dataframe:\n",
    "df1 = pd.DataFrame(np.random.rand(6,6), columns = columns, index = indices)"
   ]
  },
  {
   "cell_type": "markdown",
   "id": "a168c51c-f804-4558-98ad-4dd58f7ed344",
   "metadata": {},
   "source": [
    "Q4. Write a code to find the following statistical measurements for the above dataframe df1:\n",
    "(i) mean of each and every column present in the dataframe.\n",
    "(ii) standard deviation of column, ‘column_2’"
   ]
  },
  {
   "cell_type": "code",
   "execution_count": null,
   "id": "9a8e6a97-b74b-4035-a4f5-526e840056ef",
   "metadata": {},
   "outputs": [],
   "source": [
    "df1[columns].mean()"
   ]
  },
  {
   "cell_type": "code",
   "execution_count": null,
   "id": "c20a42e2-85d8-4a9c-a695-322c8143bfb6",
   "metadata": {},
   "outputs": [],
   "source": [
    "df1[columns].std()"
   ]
  },
  {
   "cell_type": "markdown",
   "id": "aaa74435-2744-41e7-911b-bd05dc276260",
   "metadata": {},
   "source": [
    "Q5. Replace the data present in the second row of column, ‘column_2’ by a string variable then find the\n",
    "mean of column, column_2.\n",
    "If you are getting errors in executing it then explain why.\n",
    "[Hint: To replace the data use df1.loc[] and equate this to string data of your choice.]"
   ]
  },
  {
   "cell_type": "code",
   "execution_count": null,
   "id": "d1a8924a-6777-43aa-a917-e0499d442f58",
   "metadata": {},
   "outputs": [],
   "source": [
    "df1"
   ]
  },
  {
   "cell_type": "code",
   "execution_count": null,
   "id": "72bb5f40-a580-4d57-aaaa-26f1e579eeee",
   "metadata": {},
   "outputs": [],
   "source": [
    "df1.loc[1, 'column_2'] = 'string_value'"
   ]
  },
  {
   "cell_type": "code",
   "execution_count": null,
   "id": "b991c96e-1aef-458c-98c7-162636989369",
   "metadata": {},
   "outputs": [],
   "source": [
    "df1"
   ]
  },
  {
   "cell_type": "code",
   "execution_count": null,
   "id": "692e6cb8-b089-46fd-baad-0905bb98acab",
   "metadata": {},
   "outputs": [],
   "source": [
    "mean_value = df1['column_2'].mean()"
   ]
  },
  {
   "cell_type": "markdown",
   "id": "32b3c3ac-bb27-4786-aa89-6ecc64598b65",
   "metadata": {},
   "source": [
    "showing this error bcoz TypeError: can only concatenate str (not \"float\") to str"
   ]
  },
  {
   "cell_type": "markdown",
   "id": "61057579-9044-4d44-a2fd-96c44ce62fff",
   "metadata": {},
   "source": [
    "Q6. What do you understand about the windows function in pandas and list the types of windows\n",
    "functions?"
   ]
  },
  {
   "cell_type": "markdown",
   "id": "e3b0fc35-5318-40d1-a9f3-3a2ca1bffc72",
   "metadata": {},
   "source": [
    "Rolling Window:\n",
    "Description: Applies a fixed-size window that slides over the data, performing calculations on each subset of data within the window.\n",
    "\n",
    "Expanding Window:\n",
    "Description: Expands the window from the beginning of the data up to the current point, allowing for cumulative calculations.\n",
    "\n",
    "Exponentially Weighted Window:\n",
    "Description: Applies an exponentially decreasing weight to past observations, giving more importance to recent data points\n",
    "\n",
    "Weighted Window:\n",
    "Description: Uses a weighted, non-rectangular window supplied by the scipy.signal library.\n",
    "\n"
   ]
  },
  {
   "cell_type": "markdown",
   "id": "4882f239-a334-4911-8555-00796aeae34c",
   "metadata": {},
   "source": [
    "Q7. Write a code to print only the current month and year at the time of answering this question.\n",
    "[Hint: Use pandas.datetime function]"
   ]
  },
  {
   "cell_type": "code",
   "execution_count": null,
   "id": "8dd9a76e-2810-4dc6-8601-dc2a5d0e2888",
   "metadata": {},
   "outputs": [],
   "source": [
    "import pandas as pd\n",
    "\n",
    "# Get the current date and time\n",
    "current_datetime = pd.Timestamp.now()\n",
    "\n",
    "# Extract the current month and year\n",
    "current_month_year = current_datetime.strftime('%B %Y')\n",
    "\n",
    "print(current_month_year)\n"
   ]
  },
  {
   "cell_type": "markdown",
   "id": "ae771247-d7ea-48c5-84ab-b1f0a76d474c",
   "metadata": {},
   "source": [
    "Q8. Write a Python program that takes in two dates as input (in the format YYYY-MM-DD) and\n",
    "calculates the difference between them in days, hours, and minutes using Pandas time delta. The\n",
    "program should prompt the user to enter the dates and display the result."
   ]
  },
  {
   "cell_type": "code",
   "execution_count": null,
   "id": "7b659159-1d9b-49e6-b043-3bac6de3ebfd",
   "metadata": {},
   "outputs": [],
   "source": [
    "import pandas as pd\n",
    "\n",
    "# Function to calculate the difference between two dates\n",
    "def calculate_date_difference(date1, date2):\n",
    "    # Convert the input strings to datetime objects\n",
    "    datetime1 = pd.to_datetime(date1)\n",
    "    datetime2 = pd.to_datetime(date2)\n",
    "    \n",
    "    # Calculate the difference\n",
    "    time_difference = datetime2 - datetime1\n",
    "    \n",
    "    # Extract days, hours, and minutes from the time difference\n",
    "    days = time_difference.days\n",
    "    hours, remainder = divmod(time_difference.seconds, 3600)\n",
    "    minutes, _ = divmod(remainder, 60)\n",
    "    \n",
    "    return days, hours, minutes\n",
    "\n",
    "# Prompt the user to enter the dates\n",
    "date1 = input(\"Enter the first date (YYYY-MM-DD): \")\n",
    "date2 = input(\"Enter the second date (YYYY-MM-DD): \")\n",
    "\n",
    "# Calculate the difference\n",
    "days, hours, minutes = calculate_date_difference(date1, date2)\n",
    "\n",
    "# Display the result\n",
    "print(f\"The difference between {date1} and {date2} is {days} days, {hours} hours, and {minutes} minutes.\")\n"
   ]
  },
  {
   "cell_type": "markdown",
   "id": "9b83cff3-9b13-4139-aac0-79914f40fba0",
   "metadata": {},
   "source": [
    "Q9. Write a Python program that reads a CSV file containing categorical data and converts a specified\n",
    "column to a categorical data type. The program should prompt the user to enter the file path, column\n",
    "name, and category order, and then display the sorted data."
   ]
  },
  {
   "cell_type": "code",
   "execution_count": null,
   "id": "9a643c32-5238-46bb-a0ad-ff4cbd71f325",
   "metadata": {},
   "outputs": [],
   "source": [
    "import pandas as pd\n",
    "\n",
    "def convert_to_categorical():\n",
    "    # Prompt the user for the file path, column name, and category order\n",
    "    file_path = input(\"Enter the file path: \")\n",
    "    column_name = input(\"Enter the column name to convert to categorical: \")\n",
    "    category_order = input(\"Enter the category order (comma-separated): \").split(',')\n",
    "\n",
    "    # Read the CSV file\n",
    "    df = pd.read_csv(file_path)\n",
    "\n",
    "    # Convert the specified column to a categorical data type with the given order\n",
    "    df[column_name] = pd.Categorical(df[column_name], categories=category_order, ordered=True)\n",
    "\n",
    "    # Sort the DataFrame by the categorical column\n",
    "    df_sorted = df.sort_values(by=column_name)\n",
    "\n",
    "    # Display the sorted data\n",
    "    print(df_sorted)\n",
    "\n",
    "if __name__ == \"__main__\":\n",
    "    convert_to_categorical()\n"
   ]
  },
  {
   "cell_type": "markdown",
   "id": "512a62fc-d460-428b-896e-6281c9a943ed",
   "metadata": {},
   "source": [
    "Q10. Write a Python program that reads a CSV file containing sales data for different products and\n",
    "visualizes the data using a stacked bar chart to show the sales of each product category over time. The\n",
    "program should prompt the user to enter the file path and display the chart."
   ]
  },
  {
   "cell_type": "code",
   "execution_count": null,
   "id": "e182e8a0-719f-4a5d-8d4e-3c8d65cad2c2",
   "metadata": {},
   "outputs": [],
   "source": [
    "import pandas as pd\n",
    "import matplotlib.pyplot as plt\n",
    "\n",
    "def read_csv_file(file_path):\n",
    "    try:\n",
    "        data = pd.read_csv(file_path)\n",
    "        return data\n",
    "    except FileNotFoundError:\n",
    "        print(\"File not found. Please check the file path and try again.\")\n",
    "        return None\n",
    "\n",
    "def plot_stacked_bar_chart(data):\n",
    "    # Assuming the CSV has columns: 'Date', 'Product_Category', 'Sales'\n",
    "    data['Date'] = pd.to_datetime(data['Date'])\n",
    "    data.set_index('Date', inplace=True)\n",
    "    \n",
    "    # Pivot the data to get sales per product category over time\n",
    "    pivot_data = data.pivot_table(values='Sales', index=data.index, columns='Product_Category', aggfunc='sum')\n",
    "    \n",
    "    # Plot the stacked bar chart\n",
    "    pivot_data.plot(kind='bar', stacked=True, figsize=(10, 7))\n",
    "    plt.title('Sales of Each Product Category Over Time')\n",
    "    plt.xlabel('Date')\n",
    "    plt.ylabel('Sales')\n",
    "    plt.legend(title='Product Category')\n",
    "    plt.show()\n",
    "\n",
    "def main():\n",
    "    file_path = input(\"Enter the file path of the CSV file: \")\n",
    "    data = read_csv_file(file_path)\n",
    "    if data is not None:\n",
    "        plot_stacked_bar_chart(data)\n",
    "\n",
    "if __name__ == \"__main__\":\n",
    "    main()\n"
   ]
  },
  {
   "cell_type": "markdown",
   "id": "f6b7cd46-7ec8-4cff-9356-5e20cbd10cf0",
   "metadata": {},
   "source": [
    "Q11. You are given a CSV file containing student data that includes the student ID and their test score. Write\n",
    "a Python program that reads the CSV file, calculates the mean, median, and mode of the test scores, and\n",
    "displays the results in a table.\n",
    "The program should do the followingM\n",
    "I Prompt the user to enter the file path of the CSV file containing the student dataR\n",
    "I Read the CSV file into a Pandas DataFrameR\n",
    "I Calculate the mean, median, and mode of the test scores using Pandas toolsR\n",
    "I Display the mean, median, and mode in a table.\n",
    "Assume the CSV file contains the following columnsM\n",
    "I Student ID: The ID of the studentR\n",
    "I Test Score: The score of the student's test.\n",
    "Example usage of the program:\n",
    "Enter the file path of the CSV file containing the student data: student_data.csv\n",
    "+-----------+--------+\n",
    "| Statistic | Value |\n",
    "+-----------+--------+\n",
    "| Mean | 79.6 |\n",
    "| Median | 82 |\n",
    "| Mode | 85, 90 |\n",
    "+-----------+--------+\n",
    "Assume that the CSV file student_data.csv contains the following data:\n",
    "Student ID,Test Score\n",
    "1,85\n",
    "2,90\n",
    "3,80\n",
    "4,75\n",
    "5,85\n",
    "6,82\n",
    "7,78\n",
    "8,85\n",
    "9,90\n",
    "10,85\n",
    "The program should calculate the mean, median, and mode of the test scores and display the results\n",
    "in a table."
   ]
  },
  {
   "cell_type": "code",
   "execution_count": null,
   "id": "0a8e1dc5-cf07-41cc-9009-434521c2b3c0",
   "metadata": {},
   "outputs": [],
   "source": [
    "def read_csv_file(file_path):\n",
    "    \n",
    "    data = pd.read_csv(file_path)\n",
    "    return data\n",
    "    \n",
    "def find_mean(data):\n",
    "    return data.mean()\n",
    "def find_median(data):\n",
    "    return data.median()\n",
    "def find_mode(data):\n",
    "    return data.mode()\n",
    "\n",
    "\n",
    "def main():\n",
    "    file_path = input(\"Enter the file path of the CSV file: \")\n",
    "    data = read_csv_file(file_path)\n",
    "    if data is not None:\n",
    "        find_mean(data)\n",
    "        find_median(data)\n",
    "        find_mode(data)\n",
    "if __name__ == \"__main__\":\n",
    "    main()"
   ]
  },
  {
   "cell_type": "code",
   "execution_count": null,
   "id": "9148eb9a-8d4e-4296-ae8c-e514b5397854",
   "metadata": {},
   "outputs": [],
   "source": []
  }
 ],
 "metadata": {
  "kernelspec": {
   "display_name": "Python 3 (ipykernel)",
   "language": "python",
   "name": "python3"
  },
  "language_info": {
   "codemirror_mode": {
    "name": "ipython",
    "version": 3
   },
   "file_extension": ".py",
   "mimetype": "text/x-python",
   "name": "python",
   "nbconvert_exporter": "python",
   "pygments_lexer": "ipython3",
   "version": "3.10.8"
  }
 },
 "nbformat": 4,
 "nbformat_minor": 5
}
