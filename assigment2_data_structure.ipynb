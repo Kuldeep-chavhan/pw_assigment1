{
 "cells": [
  {
   "cell_type": "markdown",
   "id": "159bba18-84f0-4577-9304-378306260b7e",
   "metadata": {},
   "source": [
    "Assigment :- 2"
   ]
  },
  {
   "cell_type": "markdown",
   "id": "811e1204-eb52-4994-86a4-86a9656fd604",
   "metadata": {},
   "source": [
    "Q1. How do you comment code in Python? What are the different types of comments?"
   ]
  },
  {
   "cell_type": "markdown",
   "id": "273996ed-a11e-4e1d-b61b-b33136ebc9ec",
   "metadata": {},
   "source": [
    "Answer = Commenting your Python code is crucial for readability and understanding"
   ]
  },
  {
   "cell_type": "markdown",
   "id": "5a902665-d3e2-4cf3-86f8-6d05f7a0aba4",
   "metadata": {},
   "source": [
    "* Different types of comments.?"
   ]
  },
  {
   "cell_type": "markdown",
   "id": "82e0850a-23ad-48b5-a534-0a42752603b5",
   "metadata": {},
   "source": [
    "(1) : Single-Line Comments"
   ]
  },
  {
   "cell_type": "markdown",
   "id": "80782225-68f5-471e-9e18-700f4867f8c4",
   "metadata": {},
   "source": [
    "To create a single-line comment, start the line with a hash symbol (#). Python will ignore everything after the # up to the end of the line."
   ]
  },
  {
   "cell_type": "markdown",
   "id": "43ac256b-e039-4a1f-a1d1-b8e43682f404",
   "metadata": {},
   "source": [
    "Example = single line comment"
   ]
  },
  {
   "cell_type": "code",
   "execution_count": 1,
   "id": "b3a820b4-a14e-420b-81ff-5d1f1ec62a59",
   "metadata": {},
   "outputs": [
    {
     "name": "stdout",
     "output_type": "stream",
     "text": [
      "Hello, World!\n"
     ]
    }
   ],
   "source": [
    "# This is a comment\n",
    "print(\"Hello, World!\")\n"
   ]
  },
  {
   "cell_type": "markdown",
   "id": "0bb4bf9f-5325-4e01-8b71-368b0337ae77",
   "metadata": {},
   "source": [
    "(2) : multi-line comment"
   ]
  },
  {
   "cell_type": "markdown",
   "id": "b1e96313-bab5-43ed-942a-edb51512d769",
   "metadata": {},
   "source": [
    "a multiline string (enclosed in triple quotes \"\"\") to create a comment. Since Python ignores string literals that are not assigned to a variable, this effectively acts as a multiline comment:"
   ]
  },
  {
   "cell_type": "markdown",
   "id": "97578b26-532d-44a0-938a-ab770aa4ee71",
   "metadata": {},
   "source": [
    "(2) : Example = multiline comment"
   ]
  },
  {
   "cell_type": "code",
   "execution_count": 2,
   "id": "22de8a2c-9aee-43c8-a7ce-96a298d6c9eb",
   "metadata": {},
   "outputs": [
    {
     "name": "stdout",
     "output_type": "stream",
     "text": [
      "Hello, World!\n"
     ]
    }
   ],
   "source": [
    "\"\"\"\n",
    "This is a comment written\n",
    "in more than just one line\n",
    "\"\"\"\n",
    "print(\"Hello, World!\")\n"
   ]
  },
  {
   "cell_type": "markdown",
   "id": "86b3e237-9279-4a8f-abf7-807f7d9a80db",
   "metadata": {},
   "source": [
    "Q2. What are variables in Python? How do you declare and assign values to variables?"
   ]
  },
  {
   "cell_type": "markdown",
   "id": "fc1add10-6248-4fd5-bf20-6672e37fe774",
   "metadata": {},
   "source": [
    "In Python, a variable is a container that stores a value. It acts as a named reference to an object, making it easy to refer to that value later"
   ]
  },
  {
   "cell_type": "markdown",
   "id": "b4f2f714-c421-4415-aeff-584ef8b3152f",
   "metadata": {},
   "source": [
    "Example :- how do you declare and assign value to variable"
   ]
  },
  {
   "cell_type": "code",
   "execution_count": 3,
   "id": "31073a38-71d1-480f-acac-624fae37368c",
   "metadata": {},
   "outputs": [],
   "source": [
    "# assign value int,string and float\n",
    "a = 5\n",
    "b = \"python\"\n",
    "c = 55.4\n"
   ]
  },
  {
   "cell_type": "markdown",
   "id": "f6a0c233-300e-4c6c-882e-b4118ba78b00",
   "metadata": {},
   "source": [
    "Q3. How do you convert one data type to another in Python?"
   ]
  },
  {
   "cell_type": "markdown",
   "id": "680b0e50-ed3c-44b2-acf3-774e95c5b5b8",
   "metadata": {},
   "source": [
    "(1) = Converting a number to a string"
   ]
  },
  {
   "cell_type": "code",
   "execution_count": 4,
   "id": "73462f90-8e03-4099-a222-e0a83d73b92b",
   "metadata": {},
   "outputs": [
    {
     "name": "stdout",
     "output_type": "stream",
     "text": [
      "10\n",
      "<class 'str'>\n"
     ]
    }
   ],
   "source": [
    "a = 10\n",
    "s = str(a)\n",
    "print(s)  # \"10\"\n",
    "print(type(s))  # <class 'str'>\n"
   ]
  },
  {
   "cell_type": "markdown",
   "id": "d0475d57-67d3-4152-abf3-abf4d9149149",
   "metadata": {},
   "source": [
    "(2) = Converting a string to a number"
   ]
  },
  {
   "cell_type": "code",
   "execution_count": 5,
   "id": "5da36168-6c39-4351-828a-1c5d552bc75a",
   "metadata": {},
   "outputs": [
    {
     "name": "stdout",
     "output_type": "stream",
     "text": [
      "50\n",
      "<class 'int'>\n",
      "50.0\n",
      "<class 'float'>\n"
     ]
    }
   ],
   "source": [
    "s = \"50\"\n",
    "n = int(s)\n",
    "print(n)  # 50\n",
    "print(type(n))  # <class 'int'>\n",
    "\n",
    "f = float(s)\n",
    "print(f)  # 50.0\n",
    "print(type(f))  # <class 'float'>\n"
   ]
  },
  {
   "cell_type": "markdown",
   "id": "efdcf8a9-5b1b-4b53-97d0-49c6f43d19b3",
   "metadata": {},
   "source": [
    "Q4. How do you write and execute a Python script from the command line?"
   ]
  },
  {
   "cell_type": "markdown",
   "id": "9c5e7b21-d11b-46aa-918f-f4257a6b2f54",
   "metadata": {},
   "source": [
    "1 = Verify Your Terminal or Command Prompt :-\n",
    "First, ensure that your terminal or command prompt can run Python. Open the terminal and type python followed by pressing Enter.\n",
    "You should see a message indicating the Python version being used, followed by >>>, which means you’re in the Python interpreter."
   ]
  },
  {
   "cell_type": "code",
   "execution_count": 6,
   "id": "e5425ae6-bfc2-493c-a4f7-999bb978c717",
   "metadata": {},
   "outputs": [
    {
     "ename": "SyntaxError",
     "evalue": "leading zeros in decimal integer literals are not permitted; use an 0o prefix for octal integers (3696373310.py, line 1)",
     "output_type": "error",
     "traceback": [
      "\u001b[0;36m  Cell \u001b[0;32mIn[6], line 1\u001b[0;36m\u001b[0m\n\u001b[0;31m    Python 3.8.8 (default, Apr 13 2021, 15:08:03) [MSC v.1916 64 bit (AMD64)] :: Anaconda, Inc. on win32\u001b[0m\n\u001b[0m                                           ^\u001b[0m\n\u001b[0;31mSyntaxError\u001b[0m\u001b[0;31m:\u001b[0m leading zeros in decimal integer literals are not permitted; use an 0o prefix for octal integers\n"
     ]
    }
   ],
   "source": [
    "Python 3.8.8 (default, Apr 13 2021, 15:08:03) [MSC v.1916 64 bit (AMD64)] :: Anaconda, Inc. on win32\n",
    "Type \"help\", \"copyright\", \"credits\", or \"license\" for more information.\n",
    ">>>\n"
   ]
  },
  {
   "cell_type": "markdown",
   "id": "981b2930-2d07-4532-af71-8f906376ac14",
   "metadata": {},
   "source": [
    "2 :- Create a Python Script :-\n",
    " create a simple script named hello.py that prints a message:"
   ]
  },
  {
   "cell_type": "code",
   "execution_count": 7,
   "id": "3410732e-bd9b-484d-8044-9f0178afbe31",
   "metadata": {},
   "outputs": [
    {
     "name": "stdout",
     "output_type": "stream",
     "text": [
      "Hello from my Python script\n"
     ]
    }
   ],
   "source": [
    "# hello.py\n",
    "print(\"Hello from my Python script\")\n"
   ]
  },
  {
   "cell_type": "markdown",
   "id": "6e3c3536-95ee-4432-af8d-89a519298f8e",
   "metadata": {},
   "source": [
    "Run the Python Script from the Terminal:\n",
    "To execute your Python script, type python followed by the script name (hello.py in this case).\n",
    "Make sure your terminal’s working directory is where the script is located, or provide the full path to the script.\n",
    "Example:"
   ]
  },
  {
   "cell_type": "code",
   "execution_count": 8,
   "id": "93aa901d-69ff-46a0-981c-de2df181a5eb",
   "metadata": {},
   "outputs": [
    {
     "ename": "SyntaxError",
     "evalue": "unexpected character after line continuation character (899271534.py, line 1)",
     "output_type": "error",
     "traceback": [
      "\u001b[0;36m  Cell \u001b[0;32mIn[8], line 1\u001b[0;36m\u001b[0m\n\u001b[0;31m    C:\\Users\\YourUsername>python hello.py\u001b[0m\n\u001b[0m       ^\u001b[0m\n\u001b[0;31mSyntaxError\u001b[0m\u001b[0;31m:\u001b[0m unexpected character after line continuation character\n"
     ]
    }
   ],
   "source": [
    "C:\\Users\\YourUsername>python hello.py\n",
    "Hello from my Python script\n"
   ]
  },
  {
   "cell_type": "markdown",
   "id": "df5d2e32-eb53-45e1-9886-020f1227f09c",
   "metadata": {},
   "source": [
    "Q5. Given a list my_list = [1, 2, 3, 4, 5], write the code to slice the list and obtain the sub-list [2, 3]."
   ]
  },
  {
   "cell_type": "code",
   "execution_count": 9,
   "id": "e50ce0c0-8792-402d-9609-8d53535dbf8f",
   "metadata": {},
   "outputs": [
    {
     "name": "stdout",
     "output_type": "stream",
     "text": [
      "[2, 3]\n"
     ]
    }
   ],
   "source": [
    "my_list = [1, 2, 3, 4, 5]\n",
    "sub_list = my_list[1:3]\n",
    "print(sub_list)  # Output: [2, 3]\n"
   ]
  },
  {
   "cell_type": "markdown",
   "id": "b2566155-fd32-4822-a24d-d59a1f3c2a46",
   "metadata": {},
   "source": [
    "Q6. What is a complex number in mathematics, and how is it represented in Python?"
   ]
  },
  {
   "cell_type": "markdown",
   "id": "4f0b0f01-ea00-4275-b872-be013aa7ee01",
   "metadata": {},
   "source": [
    "A complex number is a mathematical construct that consists of both a real part and an imaginary part. It extends the familiar real number system by introducing a new dimension beyond the real line. In the complex plane, the real part corresponds to the horizontal axis, while the imaginary part corresponds to the vertical axis.\n",
    "\n",
    "In Python, complex numbers are represented using the complex() function or directly by using the j notation for the imaginary part. Here are the key points:"
   ]
  },
  {
   "cell_type": "markdown",
   "id": "2573540b-f7c4-4658-ba20-acab607b1bd4",
   "metadata": {},
   "source": [
    "Representation:\n",
    "\n",
    "A complex number is typically written as “x + yi”, where:\n",
    "x is the real part.\n",
    "y is the imaginary part (multiplied by i, the imaginary unit)."
   ]
  },
  {
   "cell_type": "markdown",
   "id": "e49b8712-ba31-468e-9fd5-ff2df0671cad",
   "metadata": {},
   "source": [
    "Q7. What is the correct way to declare a variable named age and assign the value 25 to it?"
   ]
  },
  {
   "cell_type": "code",
   "execution_count": 1,
   "id": "6bfb6188-14bb-4268-9c76-24d55bdaa98e",
   "metadata": {},
   "outputs": [],
   "source": [
    "age = 25"
   ]
  },
  {
   "cell_type": "markdown",
   "id": "077a0568-5bc2-4653-9e9c-4b43ce0a96a3",
   "metadata": {},
   "source": [
    "Q8. Declare a variable named price and assign the value 9.99 to it. What data type does this variable\n",
    "belong to?"
   ]
  },
  {
   "cell_type": "code",
   "execution_count": 3,
   "id": "950ce587-ab2f-4943-a5dc-dba6a5fc0fdc",
   "metadata": {},
   "outputs": [
    {
     "data": {
      "text/plain": [
       "float"
      ]
     },
     "execution_count": 3,
     "metadata": {},
     "output_type": "execute_result"
    }
   ],
   "source": [
    "price = 9.99\n",
    "type(price) "
   ]
  },
  {
   "cell_type": "markdown",
   "id": "7e376d74-7921-4711-ac82-0a337d8fbe20",
   "metadata": {},
   "source": [
    "Q9. Create a variable named name and assign your full name to it as a string. How would you print the\n",
    "value of this variable?"
   ]
  },
  {
   "cell_type": "code",
   "execution_count": 4,
   "id": "e35bc2c7-bc05-4825-8b1a-9b3215e38d1a",
   "metadata": {},
   "outputs": [],
   "source": [
    "name = \"Kuldeep chavhan\""
   ]
  },
  {
   "cell_type": "code",
   "execution_count": 6,
   "id": "8018e35e-6c3d-4e83-af98-493dcac68120",
   "metadata": {},
   "outputs": [
    {
     "name": "stdout",
     "output_type": "stream",
     "text": [
      "Kuldeep chavhan\n"
     ]
    }
   ],
   "source": [
    "print(name) # using print function "
   ]
  },
  {
   "cell_type": "markdown",
   "id": "3c96780a-5321-4af7-8e91-01b2d32501f3",
   "metadata": {},
   "source": [
    "Q10. Given the string \"Hello, World!\", extract the substring \"World\"."
   ]
  },
  {
   "cell_type": "code",
   "execution_count": 7,
   "id": "c96684c4-55fd-4ef6-aab1-271b87ad09c4",
   "metadata": {},
   "outputs": [],
   "source": [
    "a = \"Hello, World!\""
   ]
  },
  {
   "cell_type": "code",
   "execution_count": 9,
   "id": "34006961-94d9-4820-b9cb-4cb17444d9c2",
   "metadata": {},
   "outputs": [
    {
     "data": {
      "text/plain": [
       "'World'"
      ]
     },
     "execution_count": 9,
     "metadata": {},
     "output_type": "execute_result"
    }
   ],
   "source": [
    "a[7:12]"
   ]
  },
  {
   "cell_type": "markdown",
   "id": "0f6ff7f4-87c2-4ae3-a915-0bebbc1d8ee6",
   "metadata": {},
   "source": [
    "Q11. Create a variable named \"is_student\" and assign it a boolean value indicating whether you are\n",
    "currently a student or not."
   ]
  },
  {
   "cell_type": "code",
   "execution_count": 28,
   "id": "a60e55c2-ff45-4520-8ab4-d3f930c1ddd3",
   "metadata": {},
   "outputs": [
    {
     "name": "stdout",
     "output_type": "stream",
     "text": [
      "True\n"
     ]
    }
   ],
   "source": [
    "is_student = True\n",
    "print(is_student,)"
   ]
  },
  {
   "cell_type": "code",
   "execution_count": null,
   "id": "6381e3af-0e3f-4442-a0a7-b39ed4771ed2",
   "metadata": {},
   "outputs": [],
   "source": []
  }
 ],
 "metadata": {
  "kernelspec": {
   "display_name": "Python 3 (ipykernel)",
   "language": "python",
   "name": "python3"
  },
  "language_info": {
   "codemirror_mode": {
    "name": "ipython",
    "version": 3
   },
   "file_extension": ".py",
   "mimetype": "text/x-python",
   "name": "python",
   "nbconvert_exporter": "python",
   "pygments_lexer": "ipython3",
   "version": "3.10.8"
  }
 },
 "nbformat": 4,
 "nbformat_minor": 5
}
