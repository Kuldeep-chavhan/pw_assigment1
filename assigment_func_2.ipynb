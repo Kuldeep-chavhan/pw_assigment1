{
 "cells": [
  {
   "cell_type": "markdown",
   "id": "7cd4eb26-0bb0-498b-9551-034e1309317e",
   "metadata": {},
   "source": [
    "Assigment = 2(function)"
   ]
  },
  {
   "cell_type": "markdown",
   "id": "bbdf551f-5d1b-4200-aeae-0e10d58bf39a",
   "metadata": {},
   "source": [
    "Q1. Create a python program to sort the given list of tuples based on integer value using a\n",
    "lambda function.\n",
    "[('Sachin Tendulkar', 34357), ('Ricky Ponting', 27483), ('Jack Kallis', 25534), ('Virat Kohli', 24936)]"
   ]
  },
  {
   "cell_type": "code",
   "execution_count": null,
   "id": "b86a8f52-17dd-4c99-8811-e48459d50800",
   "metadata": {},
   "outputs": [],
   "source": [
    "player_score = [('Sachin Tendulkar', 34357), ('Ricky Ponting', 27483), ('Jack Kallis', 25534), ('Virat Kohli', 24936)]"
   ]
  },
  {
   "cell_type": "code",
   "execution_count": 70,
   "id": "a2a89317-a81f-40e4-bf06-91ccc12fbc3b",
   "metadata": {},
   "outputs": [
    {
     "ename": "NameError",
     "evalue": "name 'player_score' is not defined",
     "output_type": "error",
     "traceback": [
      "\u001b[0;31m---------------------------------------------------------------------------\u001b[0m",
      "\u001b[0;31mNameError\u001b[0m                                 Traceback (most recent call last)",
      "Cell \u001b[0;32mIn[70], line 1\u001b[0m\n\u001b[0;32m----> 1\u001b[0m \u001b[43mplayer_score\u001b[49m\u001b[38;5;241m.\u001b[39msort(key\u001b[38;5;241m=\u001b[39m\u001b[38;5;28;01mlambda\u001b[39;00m x: x[\u001b[38;5;241m1\u001b[39m])\n\u001b[1;32m      2\u001b[0m \u001b[38;5;28mprint\u001b[39m(player_score)\n",
      "\u001b[0;31mNameError\u001b[0m: name 'player_score' is not defined"
     ]
    }
   ],
   "source": [
    "player_score.sort(key=lambda x: x[1])\n",
    "print(player_score)"
   ]
  },
  {
   "cell_type": "markdown",
   "id": "3fbf3c36-b909-408f-a8d2-df4396a4562c",
   "metadata": {},
   "source": [
    "Q2. Write a Python Program to find the squares of all the numbers in the given list of integers using\n",
    "lambda and map functions.\n",
    "[1, 2, 3, 4, 5, 6, 7, 8, 9, 10]"
   ]
  },
  {
   "cell_type": "code",
   "execution_count": 35,
   "id": "9e9d9368-2b47-4a0f-9168-4429db01c06f",
   "metadata": {},
   "outputs": [],
   "source": [
    "l = [1, 2, 3, 4, 5, 6, 7, 8, 9, 10]"
   ]
  },
  {
   "cell_type": "code",
   "execution_count": 46,
   "id": "138f155f-3078-4d45-bdba-5309e81d9504",
   "metadata": {},
   "outputs": [
    {
     "data": {
      "text/plain": [
       "(1, 4, 9, 16, 25, 36, 49, 64, 81, 100)"
      ]
     },
     "execution_count": 46,
     "metadata": {},
     "output_type": "execute_result"
    }
   ],
   "source": [
    "tuple(map(lambda  x : x**2 , l))"
   ]
  },
  {
   "cell_type": "markdown",
   "id": "4f08cc83-4f0f-4b51-9543-29d75ce5dc80",
   "metadata": {},
   "source": [
    "Q3. Write a python program to convert the given list of integers into a tuple of strings. Use map and\n",
    "lambda functions\n",
    "Given String: [1, 2, 3, 4, 5, 6, 7, 8, 9, 10]\n",
    "Expected output: ('1', '2', '3', '4', '5', '6', '7', '8', '9', '10')"
   ]
  },
  {
   "cell_type": "code",
   "execution_count": 45,
   "id": "88013fe2-178e-4dd4-b5cf-1b9efe693092",
   "metadata": {},
   "outputs": [
    {
     "data": {
      "text/plain": [
       "('1', '2', '3', '4', '5', '6', '7', '8', '9', '10')"
      ]
     },
     "execution_count": 45,
     "metadata": {},
     "output_type": "execute_result"
    }
   ],
   "source": [
    "l = [1, 2, 3, 4, 5, 6, 7, 8, 9, 10]\n",
    "tuple(map(lambda x: str(x) ,l))"
   ]
  },
  {
   "cell_type": "markdown",
   "id": "991c20fd-172b-4fa3-ba08-b5f78d1a281e",
   "metadata": {},
   "source": [
    "Q4. Write a python program using reduce function to compute the product of a list containing numbers\n",
    "from 1 to 25."
   ]
  },
  {
   "cell_type": "code",
   "execution_count": 47,
   "id": "4d96e196-dcbb-4b7f-b164-afca9d79c015",
   "metadata": {},
   "outputs": [],
   "source": [
    "from functools import reduce"
   ]
  },
  {
   "cell_type": "code",
   "execution_count": 50,
   "id": "d3cdc1f2-49bf-4f54-830c-c961b8f018d7",
   "metadata": {},
   "outputs": [
    {
     "name": "stdout",
     "output_type": "stream",
     "text": [
      "15511210043330985984000000\n"
     ]
    }
   ],
   "source": [
    "no_list = tuple(range(1 , 26))\n",
    "product = reduce(lambda x,y : x*y , no_list)\n",
    "print(product)"
   ]
  },
  {
   "cell_type": "markdown",
   "id": "87ccaaf4-1299-4665-87b1-9cda5abc346d",
   "metadata": {},
   "source": [
    "Q5. Write a python program to filter the numbers in a given list that are divisible by 2 and 3 using the\n",
    "filter function.\n",
    "[2, 3, 6, 9, 27, 60, 90, 120, 55, 46]"
   ]
  },
  {
   "cell_type": "code",
   "execution_count": 53,
   "id": "74e100e9-353a-4077-bcc8-431d1b5e37dc",
   "metadata": {},
   "outputs": [
    {
     "data": {
      "text/plain": [
       "(2, 6, 60, 90, 120, 46)"
      ]
     },
     "execution_count": 53,
     "metadata": {},
     "output_type": "execute_result"
    }
   ],
   "source": [
    "no_list = [2, 3, 6, 9, 27, 60, 90, 120, 55, 46]\n",
    "tuple(filter(lambda x : x % 2 == 0, no_list))"
   ]
  },
  {
   "cell_type": "code",
   "execution_count": 54,
   "id": "d1abedb9-7676-4bc7-adc5-c0117f80d5ee",
   "metadata": {},
   "outputs": [
    {
     "data": {
      "text/plain": [
       "(3, 6, 9, 27, 60, 90, 120)"
      ]
     },
     "execution_count": 54,
     "metadata": {},
     "output_type": "execute_result"
    }
   ],
   "source": [
    "no_list = [2, 3, 6, 9, 27, 60, 90, 120, 55, 46]\n",
    "tuple(filter(lambda x : x % 3 == 0, no_list))"
   ]
  },
  {
   "cell_type": "markdown",
   "id": "b291e1b8-933e-43eb-aa02-6e11e8cec332",
   "metadata": {},
   "source": [
    "Q6. Write a python program to find palindromes in the given list of strings using lambda and filter\n",
    "function.\n",
    "['python', 'php', 'aba', 'radar', 'level']"
   ]
  },
  {
   "cell_type": "code",
   "execution_count": 57,
   "id": "4ab5b643-4810-4b2c-b560-c0635fa7d4c3",
   "metadata": {},
   "outputs": [
    {
     "data": {
      "text/plain": [
       "('php', 'aba', 'radar', 'level')"
      ]
     },
     "execution_count": 57,
     "metadata": {},
     "output_type": "execute_result"
    }
   ],
   "source": [
    "l = ['python', 'php', 'aba', 'radar', 'level']\n",
    "tuple(filter(lambda x : x == x[::-1] , l))"
   ]
  },
  {
   "cell_type": "code",
   "execution_count": null,
   "id": "834ff1b9-ad7f-4c5e-89d0-391d8dd8b11b",
   "metadata": {},
   "outputs": [],
   "source": []
  }
 ],
 "metadata": {
  "kernelspec": {
   "display_name": "Python 3 (ipykernel)",
   "language": "python",
   "name": "python3"
  },
  "language_info": {
   "codemirror_mode": {
    "name": "ipython",
    "version": 3
   },
   "file_extension": ".py",
   "mimetype": "text/x-python",
   "name": "python",
   "nbconvert_exporter": "python",
   "pygments_lexer": "ipython3",
   "version": "3.10.8"
  }
 },
 "nbformat": 4,
 "nbformat_minor": 5
}
