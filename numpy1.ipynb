{
 "cells": [
  {
   "cell_type": "markdown",
   "id": "18aca6e1-89ff-45d5-9858-8e3dfb8dcfee",
   "metadata": {},
   "source": [
    "ASSIGMENT NUMPY "
   ]
  },
  {
   "cell_type": "markdown",
   "id": "895ad4a9-0c6c-4651-bf67-a638f558b29c",
   "metadata": {},
   "source": [
    "question 1\n",
    "list_ = [ ‘1’ , ’2’ , ‘3’ , ‘4’ , ‘5’ ]\n",
    "array_list = np.array(object = list_)\n",
    "Q1. Is there any difference in the data type of variables list_ and array_list? If there is then write a code\n",
    "to print the data types of both the variables."
   ]
  },
  {
   "cell_type": "code",
   "execution_count": 15,
   "id": "8160cc06-352b-4598-aa19-856d72a93e3e",
   "metadata": {},
   "outputs": [],
   "source": [
    "import numpy as np"
   ]
  },
  {
   "cell_type": "markdown",
   "id": "b12709a0-0919-44f6-951e-f9aa88065b99",
   "metadata": {},
   "source": [
    "list_:\n",
    "The list_ variable is a Python built-in data structure.\n",
    "It can hold elements of different data types (e.g., integers, strings, floats) within the same list.\n",
    "Lists are dynamic and allow appending elements, changing their size, and accommodating various data types.\n",
    "array_list:\n",
    "The array_list variable is a NumPy array (specifically, a numpy.ndarray).\n",
    "NumPy arrays are homogeneous, meaning all elements must have the same data type (e.g., all integers, all floats).\n",
    "NumPy arrays are more memory-efficient and optimized for numerical operations (e.g., vectorized computations)"
   ]
  },
  {
   "cell_type": "code",
   "execution_count": 16,
   "id": "64527f1c-7d63-4101-a8c4-74037676a824",
   "metadata": {},
   "outputs": [
    {
     "name": "stdout",
     "output_type": "stream",
     "text": [
      "Data type of 'list_': <class 'list'>\n",
      "Data type of 'array_list': <class 'numpy.ndarray'>\n"
     ]
    }
   ],
   "source": [
    "import numpy as np\n",
    "\n",
    "# Example lists\n",
    "list_ = ['1', '2', '3', '4', '5']\n",
    "array_list = np.array(object=list_)\n",
    "\n",
    "# Print data types\n",
    "print(f\"Data type of 'list_': {type(list_)}\")\n",
    "print(f\"Data type of 'array_list': {type(array_list)}\")\n"
   ]
  },
  {
   "cell_type": "markdown",
   "id": "a5433c43-4048-451b-a549-713fd04240a0",
   "metadata": {},
   "source": [
    "Q2. Write a code to print the data type of each and every element of both the variables list_ and\n",
    "arra_list."
   ]
  },
  {
   "cell_type": "code",
   "execution_count": 17,
   "id": "9dcd3b6e-4f52-43e9-b1df-00c2ae6d11c6",
   "metadata": {},
   "outputs": [
    {
     "name": "stdout",
     "output_type": "stream",
     "text": [
      "Data type of '1': <class 'str'>\n",
      "Data type of '2': <class 'str'>\n",
      "Data type of '3': <class 'str'>\n",
      "Data type of '4': <class 'str'>\n",
      "Data type of '5': <class 'str'>\n",
      "Data type of '1': <class 'numpy.str_'>\n",
      "Data type of '2': <class 'numpy.str_'>\n",
      "Data type of '3': <class 'numpy.str_'>\n",
      "Data type of '4': <class 'numpy.str_'>\n",
      "Data type of '5': <class 'numpy.str_'>\n"
     ]
    }
   ],
   "source": [
    "import numpy as np\n",
    "\n",
    "# Example lists\n",
    "list_ = ['1', '2', '3', '4', '5']\n",
    "array_list = np.array(object=list_)\n",
    "\n",
    "# Print data types of each element\n",
    "for element in list_:\n",
    "    print(f\"Data type of '{element}': {type(element)}\")\n",
    "\n",
    "for element in array_list:\n",
    "    print(f\"Data type of '{element}': {type(element)}\")\n"
   ]
  },
  {
   "cell_type": "markdown",
   "id": "691c8c71-418e-4c51-8e2b-842ac3335005",
   "metadata": {},
   "source": [
    "Q3. Considering the following changes in the variable, array_list:\n",
    "array_list = np.array(object = list_, dtype = int)\n",
    "Will there be any difference in the data type of the elements present in both the variables, list_ and\n",
    "arra_list? If so then print the data types of each and every element present in both the variables, list_\n",
    "and arra_list.\n",
    "Consider the below code to answer further questions:\n",
    "import numpy as np\n",
    "num_list = [ [ 1 , 2 , 3 ] , [ 4 , 5 , 6 ] ]\n",
    "num_array = np.array(object = num_list)"
   ]
  },
  {
   "cell_type": "code",
   "execution_count": 19,
   "id": "9611745a-7e32-4df4-8d67-b9874c25309b",
   "metadata": {},
   "outputs": [
    {
     "name": "stdout",
     "output_type": "stream",
     "text": [
      "Data type of '1': <class 'str'>\n",
      "Data type of '2': <class 'str'>\n",
      "Data type of '3': <class 'str'>\n",
      "Data type of '4': <class 'str'>\n",
      "Data type of '5': <class 'str'>\n",
      "Data type of '1': <class 'numpy.int64'>\n",
      "Data type of '2': <class 'numpy.int64'>\n",
      "Data type of '3': <class 'numpy.int64'>\n",
      "Data type of '4': <class 'numpy.int64'>\n",
      "Data type of '5': <class 'numpy.int64'>\n"
     ]
    }
   ],
   "source": [
    "\n",
    "\n",
    "# Example lists\n",
    "list_ = ['1', '2', '3', '4', '5']\n",
    "array_list = np.array(object=list_, dtype=int)\n",
    "\n",
    "# Print data types of each element in 'list_'\n",
    "for element in list_:\n",
    "    print(f\"Data type of '{element}': {type(element)}\")\n",
    "\n",
    "# Print data types of each element in 'array_list'\n",
    "for element in array_list:\n",
    "    print(f\"Data type of '{element}': {type(element)}\")\n"
   ]
  },
  {
   "cell_type": "markdown",
   "id": "87c55271-04c7-47a3-97ab-82cfcf917eb2",
   "metadata": {},
   "source": [
    "Q4. Write a code to find the following characteristics of variable, num_array:\n",
    "(i) shape\n",
    "(ii) size"
   ]
  },
  {
   "cell_type": "code",
   "execution_count": 20,
   "id": "7950d7dc-4837-49dd-b66a-c9e2665eba21",
   "metadata": {},
   "outputs": [
    {
     "name": "stdout",
     "output_type": "stream",
     "text": [
      "Shape of num_array: (2, 3)\n",
      "Size of num_array: 6\n"
     ]
    }
   ],
   "source": [
    "\n",
    "\n",
    "# Create your num_array (replace this with your actual data)\n",
    "num_array = np.array([[1, 2, 3], [4, 5, 6]])\n",
    "\n",
    "# (i) Shape of num_array\n",
    "shape = num_array.shape\n",
    "print(f\"Shape of num_array: {shape}\")\n",
    "\n",
    "# (ii) Size of num_array\n",
    "size = num_array.size\n",
    "print(f\"Size of num_array: {size}\")\n"
   ]
  },
  {
   "cell_type": "markdown",
   "id": "5160ef23-6efb-4718-bb0d-210b7e38492e",
   "metadata": {},
   "source": [
    "Q5. Write a code to create numpy array of 3*3 matrix containing zeros only, using a numpy array\n",
    "creation function."
   ]
  },
  {
   "cell_type": "code",
   "execution_count": 31,
   "id": "8e68dbb1-2b65-4ae7-99fc-da513142ff4f",
   "metadata": {},
   "outputs": [
    {
     "data": {
      "text/plain": [
       "array([[0., 0., 0.],\n",
       "       [0., 0., 0.],\n",
       "       [0., 0., 0.]])"
      ]
     },
     "execution_count": 31,
     "metadata": {},
     "output_type": "execute_result"
    }
   ],
   "source": [
    "s = 3,3\n",
    "array = np.zeros(s)\n",
    "array\n"
   ]
  },
  {
   "cell_type": "markdown",
   "id": "35627aee-c18b-432a-b70d-cf81b4ab28f1",
   "metadata": {},
   "source": [
    "Q6. Create an identity matrix of shape (5,5) using numpy functions?\n",
    "[Hint: An identity matrix is a matrix containing 1 diagonally and other elements will be 0.]"
   ]
  },
  {
   "cell_type": "code",
   "execution_count": 32,
   "id": "601c0d46-bfa4-4863-b9e5-1dae07ca0a7e",
   "metadata": {},
   "outputs": [
    {
     "name": "stdout",
     "output_type": "stream",
     "text": [
      "Identity Matrix (5x5):\n",
      "[[1. 0. 0. 0. 0.]\n",
      " [0. 1. 0. 0. 0.]\n",
      " [0. 0. 1. 0. 0.]\n",
      " [0. 0. 0. 1. 0.]\n",
      " [0. 0. 0. 0. 1.]]\n"
     ]
    }
   ],
   "source": [
    "import numpy as np\n",
    "\n",
    "# Create a 5x5 identity matrix\n",
    "identity_matrix = np.identity(5)\n",
    "\n",
    "print(\"Identity Matrix (5x5):\")\n",
    "print(identity_matrix)\n"
   ]
  },
  {
   "cell_type": "code",
   "execution_count": null,
   "id": "a9115e64-8259-4081-88a8-c608379df2c0",
   "metadata": {},
   "outputs": [],
   "source": []
  }
 ],
 "metadata": {
  "kernelspec": {
   "display_name": "Python 3 (ipykernel)",
   "language": "python",
   "name": "python3"
  },
  "language_info": {
   "codemirror_mode": {
    "name": "ipython",
    "version": 3
   },
   "file_extension": ".py",
   "mimetype": "text/x-python",
   "name": "python",
   "nbconvert_exporter": "python",
   "pygments_lexer": "ipython3",
   "version": "3.10.8"
  }
 },
 "nbformat": 4,
 "nbformat_minor": 5
}
