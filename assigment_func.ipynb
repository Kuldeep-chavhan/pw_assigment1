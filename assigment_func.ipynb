{
 "cells": [
  {
   "cell_type": "markdown",
   "id": "4f30b1f5-8e42-4375-938a-664c74f691fc",
   "metadata": {},
   "source": [
    "Q1. Which keyword is used to create a function? Create a function to return a list of odd numbers in the\n",
    "range of 1 to 25.\n"
   ]
  },
  {
   "cell_type": "markdown",
   "id": "c85097bf-e993-459e-8cf9-219a9d8763be",
   "metadata": {},
   "source": [
    "answer(1)= the keyword used to create a function in Python is def"
   ]
  },
  {
   "cell_type": "code",
   "execution_count": 2,
   "id": "e0ad192d-c2ac-4db3-a4ff-90fb93ce5d95",
   "metadata": {},
   "outputs": [
    {
     "name": "stdout",
     "output_type": "stream",
     "text": [
      "Odd numbers from 1 to 25: [1, 3, 5, 7, 9, 11, 13, 15, 17, 19, 21, 23, 25]\n"
     ]
    }
   ],
   "source": [
    "def get_odd_numbers():\n",
    "    odd_numbers = []\n",
    "    for num in range(1, 26):\n",
    "        if num % 2 != 0:\n",
    "            odd_numbers.append(num)\n",
    "    return odd_numbers\n",
    "\n",
    "# Call the function and print the result\n",
    "result = get_odd_numbers()\n",
    "print(\"Odd numbers from 1 to 25:\", result)\n"
   ]
  },
  {
   "cell_type": "markdown",
   "id": "1878f072-032b-4ba8-83a3-8fee2e75c7a9",
   "metadata": {},
   "source": [
    "Q2. Why *args and **kwargs is used in some functions? Create a function each for *args and **kwargs\n",
    "to demonstrate their use."
   ]
  },
  {
   "cell_type": "markdown",
   "id": "619cec1b-de00-40b1-b376-b8e7316ec9fa",
   "metadata": {},
   "source": [
    "answer(2) = _1_ *args (Arbitrary Arguments):\n",
    "The *args syntax allows a function to accept an arbitrary number of positional arguments.\n",
    "These arguments are collected into a tuple within the function."
   ]
  },
  {
   "cell_type": "code",
   "execution_count": 4,
   "id": "a0980a11-4076-4683-8d2d-47bb665dbdde",
   "metadata": {},
   "outputs": [
    {
     "name": "stdout",
     "output_type": "stream",
     "text": [
      "apple\n",
      "banana\n",
      "cherry\n"
     ]
    }
   ],
   "source": [
    "#example of *args\n",
    "def print_args(*args):\n",
    "    for arg in args:\n",
    "        print(arg)\n",
    "\n",
    "# Usage\n",
    "print_args(\"apple\", \"banana\", \"cherry\")\n",
    "# Output:\n",
    "# apple\n",
    "# banana\n",
    "# cherry\n"
   ]
  },
  {
   "cell_type": "markdown",
   "id": "1686a981-60d6-4552-a451-96c3a970fa34",
   "metadata": {},
   "source": [
    "_2_ **kwargs (Keyword Arguments):\n",
    "The **kwargs syntax allows a function to accept an arbitrary number of keyword arguments (key-value pairs).\n",
    "These arguments are collected into a dictionary within the function.\n"
   ]
  },
  {
   "cell_type": "code",
   "execution_count": 5,
   "id": "ffd91734-51c4-4d49-8627-71b4600e1acf",
   "metadata": {},
   "outputs": [
    {
     "name": "stdout",
     "output_type": "stream",
     "text": [
      "fruit: apple\n",
      "color: red\n",
      "taste: sweet\n"
     ]
    }
   ],
   "source": [
    "def print_kwargs(**kwargs):\n",
    "    for key, value in kwargs.items():\n",
    "        print(f\"{key}: {value}\")\n",
    "\n",
    "# Usage\n",
    "print_kwargs(fruit=\"apple\", color=\"red\", taste=\"sweet\")\n",
    "# Output:\n",
    "# fruit: apple\n",
    "# color: red\n",
    "# taste: sweet\n"
   ]
  },
  {
   "cell_type": "markdown",
   "id": "90e874e2-43ea-49c8-800a-27101480077f",
   "metadata": {},
   "source": [
    "Q3. What is an iterator in python? Name the method used to initialise the iterator object and the method\n",
    "used for iteration. Use these methods to print the first five elements of the given list [2, 4, 6, 8, 10, 12, 14,\n",
    "16, 18, 20]."
   ]
  },
  {
   "cell_type": "markdown",
   "id": "d41eb378-fb79-4141-855d-b318f123351e",
   "metadata": {},
   "source": [
    "answer(2) = An iterator in Python is an object that allows us to traverse through a collection of elements (such as a list, tuple, or string) one by one.\n",
    "\n",
    "It provides a way to access the elements without needing to know the underlying structure or implementation details. Iterators are essential for efficient memory usage and lazy evaluation.\n",
    "\n",
    "Iterator Protocol:\n",
    "An iterator in Python follows the iterator protocol, which consists of two methods:\n",
    "__iter__(): This method initializes the iterator object and returns itself.\n",
    "__next__(): This method retrieves the next item from the collection. When there are no more items, it raises the StopIteration exception.\n",
    "Creating an Iterator:\n",
    "To create an iterator, you can define a class that implements the __iter__() and __next__() methods."
   ]
  },
  {
   "cell_type": "code",
   "execution_count": 8,
   "id": "00f142c1-4b1f-41e5-91f7-fc6d84f0d1fd",
   "metadata": {},
   "outputs": [
    {
     "name": "stdout",
     "output_type": "stream",
     "text": [
      "2\n",
      "4\n",
      "6\n",
      "8\n",
      "10\n"
     ]
    }
   ],
   "source": [
    "class FirstFiveNumbers:\n",
    "    def __init__(self):\n",
    "        self.current = 2\n",
    "        self.count = 0\n",
    "\n",
    "    def __iter__(self):\n",
    "        return self\n",
    "\n",
    "    def __next__(self):\n",
    "        if self.count < 5:\n",
    "            result = self.current\n",
    "            self.current += 2\n",
    "            self.count += 1\n",
    "            return result\n",
    "        else:\n",
    "            raise StopIteration\n",
    "\n",
    "# Create an instance of the iterator\n",
    "my_iterator = FirstFiveNumbers()\n",
    "\n",
    "# Print the first five elements\n",
    "for num in my_iterator:\n",
    "    print(num)\n"
   ]
  },
  {
   "cell_type": "markdown",
   "id": "8df27458-c3b1-44ef-b5f3-ae75b098363e",
   "metadata": {},
   "source": [
    "Q4. What is a generator function in python? Why yield keyword is used? Give an example of a generator\n",
    "function."
   ]
  },
  {
   "cell_type": "markdown",
   "id": "b8c7380f-02d3-4aba-bd9e-e42ec95e7a96",
   "metadata": {},
   "source": [
    "answer(4) = A generator function in Python is a special type of function that produces a sequence of values on-the-fly, one at a time, as required. Unlike regular functions that compute and return all values at once, generator functions use the yield keyword to create an iterator that lazily generates values."
   ]
  },
  {
   "cell_type": "markdown",
   "id": "b97917cf-714d-4d85-8947-8300cf9b1e72",
   "metadata": {},
   "source": [
    "1 = Memory efficiency.\n",
    "2 = State preservation during iteration.\n",
    "3 = Suitable for infinite sequences."
   ]
  },
  {
   "cell_type": "code",
   "execution_count": 1,
   "id": "39cefd5e-1125-4fa8-a420-c75e3f6432a2",
   "metadata": {},
   "outputs": [
    {
     "name": "stdout",
     "output_type": "stream",
     "text": [
      "1\n",
      "2\n",
      "3\n"
     ]
    }
   ],
   "source": [
    "def simple_generator():\n",
    "    yield 1\n",
    "    yield 2\n",
    "    yield 3\n",
    "\n",
    "# Usage: Iterate over the generator\n",
    "for value in simple_generator():\n",
    "    print(value)\n"
   ]
  },
  {
   "cell_type": "markdown",
   "id": "918b3c60-be9f-44d6-8925-0a3e2e7e5d9a",
   "metadata": {},
   "source": [
    "Q5. Create a generator function for prime numbers less than 1000. Use the next() method to print the\n",
    "first 20 prime numbers."
   ]
  },
  {
   "cell_type": "code",
   "execution_count": 3,
   "id": "58cb4358-d295-47db-909d-668af3cee8f6",
   "metadata": {},
   "outputs": [
    {
     "name": "stdout",
     "output_type": "stream",
     "text": [
      "2\n",
      "3\n",
      "5\n",
      "7\n",
      "11\n",
      "13\n",
      "17\n",
      "19\n",
      "23\n",
      "29\n",
      "31\n",
      "37\n",
      "41\n",
      "43\n",
      "47\n",
      "53\n",
      "59\n",
      "61\n",
      "67\n",
      "71\n"
     ]
    }
   ],
   "source": [
    "def prime_generator():\n",
    "    # Initialize the list of prime numbers with 2\n",
    "    primes_list = [2]\n",
    "    yield 2\n",
    "\n",
    "    # Check for each number from 3 to 1000\n",
    "    for i in range(3, 1000):\n",
    "        is_prime = True\n",
    "        for prime in primes_list:\n",
    "            if i % prime == 0:\n",
    "                is_prime = False\n",
    "                break\n",
    "        if is_prime:\n",
    "            primes_list.append(i)\n",
    "            yield i\n",
    "\n",
    "# Create an instance of the generator\n",
    "prime_gen = prime_generator()\n",
    "\n",
    "# Print the first 20 prime numbers\n",
    "for _ in range(20):\n",
    "    print(next(prime_gen))\n"
   ]
  },
  {
   "cell_type": "markdown",
   "id": "11ac1289-2e91-4a8e-bd2c-f2c92b0e887a",
   "metadata": {},
   "source": [
    "Q6. Write a python program to print the first 10 Fibonacci numbers using a while loop."
   ]
  },
  {
   "cell_type": "code",
   "execution_count": 10,
   "id": "a50a0ebb-e3ae-41c2-9750-c0dc622455b5",
   "metadata": {},
   "outputs": [],
   "source": [
    "def fib_no():\n",
    "    a,b = 0,1\n",
    "    while True:\n",
    "        yield a\n",
    "        a,b = b,a+b"
   ]
  },
  {
   "cell_type": "code",
   "execution_count": 11,
   "id": "5f177dff-f3ea-4792-9d7a-ace8483b77f1",
   "metadata": {},
   "outputs": [],
   "source": [
    "fib = fib_no()"
   ]
  },
  {
   "cell_type": "code",
   "execution_count": 12,
   "id": "3d26adfe-78ec-4843-90a5-70e6f47fa9bf",
   "metadata": {},
   "outputs": [
    {
     "name": "stdout",
     "output_type": "stream",
     "text": [
      "0\n",
      "1\n",
      "1\n",
      "2\n",
      "3\n",
      "5\n",
      "8\n",
      "13\n",
      "21\n",
      "34\n"
     ]
    }
   ],
   "source": [
    "for i in range(10):\n",
    "    print(next(fib))"
   ]
  },
  {
   "cell_type": "markdown",
   "id": "ea3178c0-39aa-43b0-ad15-f2e86f55126f",
   "metadata": {},
   "source": [
    "Q7. Write a List Comprehension to iterate through the given string: ‘pwskills’.\n",
    "Expected output: ['p', 'w', 's', 'k', 'i', 'l', 'l', 's']"
   ]
  },
  {
   "cell_type": "code",
   "execution_count": 13,
   "id": "b73a56d1-fce3-4964-a6e7-2406442b9666",
   "metadata": {},
   "outputs": [
    {
     "name": "stdout",
     "output_type": "stream",
     "text": [
      "['p', 'w', 's', 'k', 'i', 'l', 'l', 's']\n"
     ]
    }
   ],
   "source": [
    "pw = 'pwskills'\n",
    "output_list = [char for char in pw]\n",
    "print(output_list)  \n"
   ]
  },
  {
   "cell_type": "markdown",
   "id": "73c527cb-b0dd-4963-9fc2-788b30b9db02",
   "metadata": {},
   "source": [
    "Q8. Write a python program to check whether a given number is Palindrome or not using a while loop."
   ]
  },
  {
   "cell_type": "code",
   "execution_count": 14,
   "id": "647bec2f-ffac-4b57-a5a6-63dcbacef9d0",
   "metadata": {},
   "outputs": [
    {
     "name": "stdin",
     "output_type": "stream",
     "text": [
      "Enter a number:  52\n"
     ]
    },
    {
     "name": "stdout",
     "output_type": "stream",
     "text": [
      "52 is not a palindrome.\n"
     ]
    }
   ],
   "source": [
    "def is_palindrome(number):\n",
    "    original_number = number\n",
    "    reversed_number = 0\n",
    "\n",
    "    while number > 0:\n",
    "        digit = number % 10\n",
    "        reversed_number = reversed_number * 10 + digit\n",
    "        number //= 10\n",
    "\n",
    "    return original_number == reversed_number\n",
    "\n",
    "# Input from the user\n",
    "try:\n",
    "    user_input = int(input(\"Enter a number: \"))\n",
    "    if is_palindrome(user_input):\n",
    "        print(f\"{user_input} is a palindrome.\")\n",
    "    else:\n",
    "        print(f\"{user_input} is not a palindrome.\")\n",
    "except ValueError:\n",
    "    print(\"Invalid input. Please enter a valid integer.\")\n"
   ]
  },
  {
   "cell_type": "markdown",
   "id": "4f23bc00-bf12-4f62-aea6-f64d1356d935",
   "metadata": {},
   "source": [
    "Q9. Write a code to print odd numbers from 1 to 100 using list comprehension."
   ]
  },
  {
   "cell_type": "code",
   "execution_count": 15,
   "id": "99afda6b-4356-4304-8233-e5cbbabc280c",
   "metadata": {},
   "outputs": [
    {
     "name": "stdout",
     "output_type": "stream",
     "text": [
      "[1, 3, 5, 7, 9, 11, 13, 15, 17, 19, 21, 23, 25, 27, 29, 31, 33, 35, 37, 39, 41, 43, 45, 47, 49, 51, 53, 55, 57, 59, 61, 63, 65, 67, 69, 71, 73, 75, 77, 79, 81, 83, 85, 87, 89, 91, 93, 95, 97, 99]\n"
     ]
    }
   ],
   "source": [
    "odd_numbers = [num for num in range(1, 101) if num % 2 != 0]\n",
    "print(odd_numbers)\n"
   ]
  },
  {
   "cell_type": "code",
   "execution_count": null,
   "id": "851ce8b3-a368-41be-a0d3-cf48b1cddbd0",
   "metadata": {},
   "outputs": [],
   "source": []
  }
 ],
 "metadata": {
  "kernelspec": {
   "display_name": "Python 3 (ipykernel)",
   "language": "python",
   "name": "python3"
  },
  "language_info": {
   "codemirror_mode": {
    "name": "ipython",
    "version": 3
   },
   "file_extension": ".py",
   "mimetype": "text/x-python",
   "name": "python",
   "nbconvert_exporter": "python",
   "pygments_lexer": "ipython3",
   "version": "3.10.8"
  }
 },
 "nbformat": 4,
 "nbformat_minor": 5
}
