{
 "cells": [
  {
   "cell_type": "markdown",
   "id": "902793c0",
   "metadata": {},
   "source": [
    "# ASSSIGMENT"
   ]
  },
  {
   "cell_type": "markdown",
   "id": "ee19a1e7",
   "metadata": {},
   "source": [
    "Q1. Write a Python function that takes in two arrays of data and calculates the F-value for a variance ratio\n",
    "test. The function should return the F-value and the corresponding p-value for the test."
   ]
  },
  {
   "cell_type": "code",
   "execution_count": 2,
   "id": "98b90090",
   "metadata": {},
   "outputs": [
    {
     "name": "stdout",
     "output_type": "stream",
     "text": [
      "F-value: 2.220629685939293, p-value: 0.003047110350982755\n"
     ]
    }
   ],
   "source": [
    "import numpy as np\n",
    "from scipy.stats import f\n",
    "\n",
    "def calculate_f_test(data1, data2):\n",
    "    \"\"\"\n",
    "    Calculate the F-value and p-value for the variance ratio test.\n",
    "    \n",
    "    Parameters:\n",
    "    - data1: First array of data\n",
    "    - data2: Second array of data\n",
    "    \n",
    "    Returns:\n",
    "    - F-value: Ratio of the variances of the two datasets\n",
    "    - p-value: Probability that the variances are equal under the null hypothesis\n",
    "    \"\"\"\n",
    "    # Calculate variances\n",
    "    var1 = np.var(data1, ddof=1)  # Sample variance (N-1 degrees of freedom)\n",
    "    var2 = np.var(data2, ddof=1)\n",
    "    \n",
    "    # F-value calculation\n",
    "    F_value = var1 / var2 if var1 > var2 else var2 / var1\n",
    "    dfn = len(data1) - 1  # degrees of freedom numerator\n",
    "    dfd = len(data2) - 1  # degrees of freedom denominator\n",
    "    \n",
    "    # p-value calculation\n",
    "    p_value = f.sf(F_value, dfn, dfd)  # f.sf is the survival function (1-CDF)\n",
    "    \n",
    "    return F_value, p_value\n",
    "\n",
    "# Example usage\n",
    "data1 = np.random.normal(100, 15, 50)  # Example data\n",
    "data2 = np.random.normal(105, 20, 50)  # Example data\n",
    "F_value, p_value = calculate_f_test(data1, data2)\n",
    "print(f\"F-value: {F_value}, p-value: {p_value}\")\n"
   ]
  },
  {
   "cell_type": "markdown",
   "id": "2e3ff0b1",
   "metadata": {},
   "source": [
    "Q2. Given a significance level of 0.05 and the degrees of freedom for the numerator and denominator of an\n",
    "F-distribution, write a Python function that returns the critical F-value for a two-tailed test."
   ]
  },
  {
   "cell_type": "code",
   "execution_count": 4,
   "id": "5dad6a2c",
   "metadata": {},
   "outputs": [
    {
     "ename": "NameError",
     "evalue": "name 'critical_F_value' is not defined",
     "output_type": "error",
     "traceback": [
      "\u001b[1;31m---------------------------------------------------------------------------\u001b[0m",
      "\u001b[1;31mNameError\u001b[0m                                 Traceback (most recent call last)",
      "\u001b[1;32m~\\AppData\\Local\\Temp\\ipykernel_18576\\3678486039.py\u001b[0m in \u001b[0;36m<module>\u001b[1;34m\u001b[0m\n\u001b[0;32m     20\u001b[0m \u001b[0mdfn\u001b[0m \u001b[1;33m=\u001b[0m \u001b[1;36m10\u001b[0m  \u001b[1;31m# degrees of freedom for numerator\u001b[0m\u001b[1;33m\u001b[0m\u001b[1;33m\u001b[0m\u001b[0m\n\u001b[0;32m     21\u001b[0m \u001b[0mdfd\u001b[0m \u001b[1;33m=\u001b[0m \u001b[1;36m20\u001b[0m  \u001b[1;31m# degrees of freedom for denominator\u001b[0m\u001b[1;33m\u001b[0m\u001b[1;33m\u001b[0m\u001b[0m\n\u001b[1;32m---> 22\u001b[1;33m \u001b[0mcritical_F_value\u001b[0m\u001b[1;33m(\u001b[0m\u001b[0malpha\u001b[0m\u001b[1;33m,\u001b[0m \u001b[0mdfn\u001b[0m\u001b[1;33m,\u001b[0m \u001b[0mdfd\u001b[0m\u001b[1;33m)\u001b[0m\u001b[1;33m\u001b[0m\u001b[1;33m\u001b[0m\u001b[0m\n\u001b[0m",
      "\u001b[1;31mNameError\u001b[0m: name 'critical_F_value' is not defined"
     ]
    }
   ],
   "source": [
    "from scipy.stats import f\n",
    "\n",
    "def critical_f_value(alpha, dfn, dfd):\n",
    "    \"\"\"\n",
    "    Calculate the critical F-value for a two-tailed test.\n",
    "    \n",
    "    Parameters:\n",
    "    - alpha: Significance level (e.g., 0.05 for 5%)\n",
    "    - dfn: Degrees of freedom for the numerator\n",
    "    - dfd: Degrees of freedom for the denominator\n",
    "    \n",
    "    Returns:\n",
    "    - critical_F: The critical F-value\n",
    "    \"\"\"\n",
    "    critical_F_value = f.ppf(1 - alpha/2, dfn, dfd)  # Two-tailed critical value at 1-alpha/2\n",
    "    return critical_F_value\n",
    "\n",
    "# Example usage\n",
    "alpha = 0.05\n",
    "dfn = 10  # degrees of freedom for numerator\n",
    "dfd = 20  # degrees of freedom for denominator\n",
    "critical_F_value(alpha, dfn, dfd)\n"
   ]
  },
  {
   "cell_type": "markdown",
   "id": "5c0f30c1",
   "metadata": {},
   "source": [
    "Q3. Write a Python program that generates random samples from two normal distributions with known\n",
    "\n",
    "variances and uses an F-test to determine if the variances are equal. The program should output the F-\n",
    "value, degrees of freedom, and p-value for the test."
   ]
  },
  {
   "cell_type": "code",
   "execution_count": 5,
   "id": "6cd16af4",
   "metadata": {},
   "outputs": [
    {
     "name": "stdout",
     "output_type": "stream",
     "text": [
      "F-value: 1.5589693537607263\n",
      "Degrees of freedom: dfn=49, dfd=49\n",
      "P-value: 0.06178871700728758\n"
     ]
    }
   ],
   "source": [
    "import numpy as np\n",
    "from scipy.stats import f\n",
    "\n",
    "# Function to perform F-test for two variances\n",
    "def f_test(data1, data2):\n",
    "    \"\"\"\n",
    "    Perform the F-test for two variances.\n",
    "    \n",
    "    Parameters:\n",
    "    - data1: First sample\n",
    "    - data2: Second sample\n",
    "    \n",
    "    Returns:\n",
    "    - F-value: Ratio of the variances\n",
    "    - dfn: Degrees of freedom for numerator\n",
    "    - dfd: Degrees of freedom for denominator\n",
    "    - p-value: Probability of observing the given F-value under the null hypothesis\n",
    "    \"\"\"\n",
    "    var1 = np.var(data1, ddof=1)  # Sample variance (N-1 degrees of freedom)\n",
    "    var2 = np.var(data2, ddof=1)\n",
    "    \n",
    "    dfn = len(data1) - 1  # degrees of freedom numerator\n",
    "    dfd = len(data2) - 1  # degrees of freedom denominator\n",
    "    \n",
    "    # F-value calculation\n",
    "    F_value = var1 / var2 if var1 > var2 else var2 / var1\n",
    "    # p-value calculation\n",
    "    p_value = f.sf(F_value, dfn, dfd)  # f.sf is the survival function (1-CDF)\n",
    "    \n",
    "    return F_value, dfn, dfd, p_value\n",
    "\n",
    "# Generate random samples from two normal distributions\n",
    "np.random.seed(42)  # For reproducibility\n",
    "data1 = np.random.normal(100, 15, 50)  # Sample 1\n",
    "data2 = np.random.normal(105, 20, 50)  # Sample 2\n",
    "\n",
    "# Perform F-test\n",
    "F_value, dfn, dfd, p_value = f_test(data1, data2)\n",
    "\n",
    "# Output the results\n",
    "print(f\"F-value: {F_value}\")\n",
    "print(f\"Degrees of freedom: dfn={dfn}, dfd={dfd}\")\n",
    "print(f\"P-value: {p_value}\")\n"
   ]
  },
  {
   "cell_type": "markdown",
   "id": "4ae69309",
   "metadata": {},
   "source": [
    "Q4.The variances of two populations are known to be 10 and 15. A sample of 12 observations is taken from\n",
    "each population. Conduct an F-test at the 5% significance level to determine if the variances are\n",
    "significantly different."
   ]
  },
  {
   "cell_type": "code",
   "execution_count": 6,
   "id": "f60d4fd6",
   "metadata": {},
   "outputs": [
    {
     "name": "stdout",
     "output_type": "stream",
     "text": [
      "F-value: 0.6666666666666666\n",
      "Critical F-value: 2.8179304699530863\n",
      "P-value: 0.7438051006321003\n",
      "Fail to reject the null hypothesis (variances are equal).\n"
     ]
    }
   ],
   "source": [
    "import numpy as np\n",
    "from scipy.stats import f\n",
    "\n",
    "# Given variances and sample sizes\n",
    "sigma1_squared = 10\n",
    "sigma2_squared = 15\n",
    "n1 = 12\n",
    "n2 = 12\n",
    "\n",
    "# Calculate F-statistic\n",
    "F_value = sigma1_squared / sigma2_squared\n",
    "\n",
    "# Degrees of freedom\n",
    "dfn = n1 - 1  # degrees of freedom numerator\n",
    "dfd = n2 - 1  # degrees of freedom denominator\n",
    "\n",
    "# Significance level\n",
    "alpha = 0.05\n",
    "\n",
    "# Critical F-value\n",
    "critical_F = f.ppf(1 - alpha, dfn, dfd)\n",
    "\n",
    "# p-value from F-distribution\n",
    "p_value = f.sf(F_value, dfn, dfd)\n",
    "\n",
    "# Print results\n",
    "print(f\"F-value: {F_value}\")\n",
    "print(f\"Critical F-value: {critical_F}\")\n",
    "print(f\"P-value: {p_value}\")\n",
    "\n",
    "# Decision\n",
    "if F_value > critical_F:\n",
    "    print(\"Reject the null hypothesis (variances are not equal).\")\n",
    "else:\n",
    "    print(\"Fail to reject the null hypothesis (variances are equal).\")\n"
   ]
  },
  {
   "cell_type": "markdown",
   "id": "7b7e5b13",
   "metadata": {},
   "source": [
    "Q5. A manufacturer claims that the variance of the diameter of a certain product is 0.005. A sample of 25\n",
    "products is taken, and the sample variance is found to be 0.006. Conduct an F-test at the 1% significance\n",
    "level to determine if the claim is justified."
   ]
  },
  {
   "cell_type": "code",
   "execution_count": 7,
   "id": "a6a4dfc5",
   "metadata": {},
   "outputs": [
    {
     "name": "stdout",
     "output_type": "stream",
     "text": [
      "F-value: 0.8333333333333334\n",
      "Critical F-value: 2.659072104348157\n",
      "P-value: 0.6706345317182756\n",
      "Fail to reject the null hypothesis (claim is justified).\n"
     ]
    }
   ],
   "source": [
    "import numpy as np\n",
    "from scipy.stats import f\n",
    "\n",
    "# Given data\n",
    "claimed_variance = 0.005\n",
    "sample_variance = 0.006\n",
    "n = 25\n",
    "\n",
    "# Calculate F-statistic\n",
    "F_value = claimed_variance / sample_variance\n",
    "\n",
    "# Degrees of freedom\n",
    "dfn = n - 1  # degrees of freedom numerator\n",
    "dfd = n - 1  # degrees of freedom denominator\n",
    "\n",
    "# Significance level\n",
    "alpha = 0.01\n",
    "\n",
    "# Critical F-value\n",
    "critical_F = f.ppf(1 - alpha, dfn, dfd)\n",
    "\n",
    "# p-value from F-distribution\n",
    "p_value = f.sf(F_value, dfn, dfd)\n",
    "\n",
    "# Print results\n",
    "print(f\"F-value: {F_value}\")\n",
    "print(f\"Critical F-value: {critical_F}\")\n",
    "print(f\"P-value: {p_value}\")\n",
    "\n",
    "# Decision\n",
    "if F_value > critical_F:\n",
    "    print(\"Reject the null hypothesis (claim is not justified).\")\n",
    "else:\n",
    "    print(\"Fail to reject the null hypothesis (claim is justified).\")\n"
   ]
  },
  {
   "cell_type": "markdown",
   "id": "a7f236e6",
   "metadata": {},
   "source": [
    "Q6. Write a Python function that takes in the degrees of freedom for the numerator and denominator of an\n",
    "F-distribution and calculates the mean and variance of the distribution. The function should return the\n",
    "mean and variance as a tuple."
   ]
  },
  {
   "cell_type": "code",
   "execution_count": 8,
   "id": "9b4de49c",
   "metadata": {},
   "outputs": [
    {
     "name": "stdout",
     "output_type": "stream",
     "text": [
      "Mean: 1.1111111111111112, Variance: 0.3111111111111111\n"
     ]
    }
   ],
   "source": [
    "def f_distribution_mean_variance(dfn, dfd):\n",
    "    \"\"\"\n",
    "    Calculate the mean and variance of the F-distribution.\n",
    "    \n",
    "    Parameters:\n",
    "    - dfn: Degrees of freedom for the numerator\n",
    "    - dfd: Degrees of freedom for the denominator\n",
    "    \n",
    "    Returns:\n",
    "    - (mean, variance): A tuple containing the mean and variance of the F-distribution\n",
    "    \"\"\"\n",
    "    if dfd <= 2:\n",
    "        raise ValueError(\"dfd must be greater than 2 to compute mean and variance.\")\n",
    "\n",
    "    # Mean of the F-distribution\n",
    "    mean = dfd / (dfd - 2)\n",
    "    \n",
    "    # Variance of the F-distribution\n",
    "    variance = (2 * dfd**2 * (dfn + dfd - 2)) / (dfn * dfd**2 * (dfd - 2))\n",
    "    \n",
    "    return mean, variance\n",
    "\n",
    "# Example usage\n",
    "dfn = 10\n",
    "dfd = 20\n",
    "mean, variance = f_distribution_mean_variance(dfn, dfd)\n",
    "print(f\"Mean: {mean}, Variance: {variance}\")\n"
   ]
  },
  {
   "cell_type": "markdown",
   "id": "ed55fa0e",
   "metadata": {},
   "source": [
    "Q7. A random sample of 10 measurements is taken from a normal population with unknown variance. The\n",
    "sample variance is found to be 25. Another random sample of 15 measurements is taken from another\n",
    "normal population with unknown variance, and the sample variance is found to be 20. Conduct an F-test\n",
    "at the 10% significance level to determine if the variances are significantly different."
   ]
  },
  {
   "cell_type": "code",
   "execution_count": 9,
   "id": "099fcbc6",
   "metadata": {},
   "outputs": [
    {
     "name": "stdout",
     "output_type": "stream",
     "text": [
      "F-value: 1.25\n",
      "Critical F-value: 2.121954566976902\n",
      "P-value: 0.34160971912929744\n",
      "Fail to reject the null hypothesis (variances are equal).\n"
     ]
    }
   ],
   "source": [
    "import numpy as np\n",
    "from scipy.stats import f\n",
    "\n",
    "# Given data\n",
    "sample_variance_1 = 25\n",
    "sample_variance_2 = 20\n",
    "n1 = 10\n",
    "n2 = 15\n",
    "\n",
    "# Calculate F-statistic\n",
    "F_value = sample_variance_1 / sample_variance_2\n",
    "\n",
    "# Degrees of freedom\n",
    "dfn = n1 - 1  # degrees of freedom numerator\n",
    "dfd = n2 - 1  # degrees of freedom denominator\n",
    "\n",
    "# Significance level\n",
    "alpha = 0.10\n",
    "\n",
    "# Critical F-value\n",
    "critical_F = f.ppf(1 - alpha, dfn, dfd)\n",
    "\n",
    "# p-value from F-distribution\n",
    "p_value = f.sf(F_value, dfn, dfd)\n",
    "\n",
    "# Print results\n",
    "print(f\"F-value: {F_value}\")\n",
    "print(f\"Critical F-value: {critical_F}\")\n",
    "print(f\"P-value: {p_value}\")\n",
    "\n",
    "# Decision\n",
    "if F_value > critical_F:\n",
    "    print(\"Reject the null hypothesis (variances are not equal).\")\n",
    "else:\n",
    "    print(\"Fail to reject the null hypothesis (variances are equal).\")\n"
   ]
  },
  {
   "cell_type": "markdown",
   "id": "163c4449",
   "metadata": {},
   "source": [
    "Q8. The following data represent the waiting times in minutes at two different restaurants on a Saturday\n",
    "night: Restaurant A: 24, 25, 28, 23, 22, 20, 27; Restaurant B: 31, 33, 35, 30, 32, 36. Conduct an F-test at the 5%\n",
    "significance level to determine if the variances are significantly different."
   ]
  },
  {
   "cell_type": "code",
   "execution_count": 10,
   "id": "12f4ea5d",
   "metadata": {},
   "outputs": [
    {
     "name": "stdout",
     "output_type": "stream",
     "text": [
      "F-value: 1.4551907719609583\n",
      "Critical F-value: 4.950288068694318\n",
      "P-value: 0.34874078739687414\n",
      "Fail to reject the null hypothesis (variances are equal).\n"
     ]
    }
   ],
   "source": [
    "import numpy as np\n",
    "from scipy.stats import f\n",
    "\n",
    "# Data for Restaurant A and Restaurant B\n",
    "restaurant_A = [24, 25, 28, 23, 22, 20, 27]\n",
    "restaurant_B = [31, 33, 35, 30, 32, 36]\n",
    "\n",
    "# Calculate sample variances\n",
    "var_A = np.var(restaurant_A, ddof=1)\n",
    "var_B = np.var(restaurant_B, ddof=1)\n",
    "\n",
    "# Degrees of freedom\n",
    "dfn = len(restaurant_A) - 1  # df for numerator (Restaurant A)\n",
    "dfd = len(restaurant_B) - 1  # df for denominator (Restaurant B)\n",
    "\n",
    "# F-statistic\n",
    "F_value = var_A / var_B\n",
    "\n",
    "# Significance level\n",
    "alpha = 0.05\n",
    "\n",
    "# Critical F-value\n",
    "critical_F = f.ppf(1 - alpha, dfn, dfd)\n",
    "\n",
    "# p-value from F-distribution\n",
    "p_value = f.sf(F_value, dfn, dfd)\n",
    "\n",
    "# Print results\n",
    "print(f\"F-value: {F_value}\")\n",
    "print(f\"Critical F-value: {critical_F}\")\n",
    "print(f\"P-value: {p_value}\")\n",
    "\n",
    "# Decision\n",
    "if F_value > critical_F:\n",
    "    print(\"Reject the null hypothesis (variances are not equal).\")\n",
    "else:\n",
    "    print(\"Fail to reject the null hypothesis (variances are equal).\")\n"
   ]
  },
  {
   "cell_type": "markdown",
   "id": "49862a33",
   "metadata": {},
   "source": [
    "Q9. The following data represent the test scores of two groups of students: Group A: 80, 85, 90, 92, 87, 83;\n",
    "Group B: 75, 78, 82, 79, 81, 84. Conduct an F-test at the 1% significance level to determine if the variances\n",
    "are significantly different."
   ]
  },
  {
   "cell_type": "code",
   "execution_count": 11,
   "id": "5a9a1c1d",
   "metadata": {},
   "outputs": [
    {
     "name": "stdout",
     "output_type": "stream",
     "text": [
      "F-value: 1.9442622950819677\n",
      "Critical F-value: 10.967020650907992\n",
      "P-value: 0.2415521774535344\n",
      "Fail to reject the null hypothesis (variances are equal).\n"
     ]
    }
   ],
   "source": [
    "import numpy as np\n",
    "from scipy.stats import f\n",
    "\n",
    "# Data for Group A and Group B\n",
    "group_A = [80, 85, 90, 92, 87, 83]\n",
    "group_B = [75, 78, 82, 79, 81, 84]\n",
    "\n",
    "# Calculate sample variances\n",
    "var_A = np.var(group_A, ddof=1)\n",
    "var_B = np.var(group_B, ddof=1)\n",
    "\n",
    "# Degrees of freedom\n",
    "dfn = len(group_A) - 1  # df for numerator (Group A)\n",
    "dfd = len(group_B) - 1  # df for denominator (Group B)\n",
    "\n",
    "# F-statistic\n",
    "F_value = var_A / var_B\n",
    "\n",
    "# Significance level\n",
    "alpha = 0.01\n",
    "\n",
    "# Critical F-value\n",
    "critical_F = f.ppf(1 - alpha, dfn, dfd)\n",
    "\n",
    "# p-value from F-distribution\n",
    "p_value = f.sf(F_value, dfn, dfd)\n",
    "\n",
    "# Print results\n",
    "print(f\"F-value: {F_value}\")\n",
    "print(f\"Critical F-value: {critical_F}\")\n",
    "print(f\"P-value: {p_value}\")\n",
    "\n",
    "# Decision\n",
    "if F_value > critical_F:\n",
    "    print(\"Reject the null hypothesis (variances are not equal).\")\n",
    "else:\n",
    "    print(\"Fail to reject the null hypothesis (variances are equal).\")\n"
   ]
  },
  {
   "cell_type": "code",
   "execution_count": null,
   "id": "8405047f",
   "metadata": {},
   "outputs": [],
   "source": []
  }
 ],
 "metadata": {
  "kernelspec": {
   "display_name": "Python 3 (ipykernel)",
   "language": "python",
   "name": "python3"
  },
  "language_info": {
   "codemirror_mode": {
    "name": "ipython",
    "version": 3
   },
   "file_extension": ".py",
   "mimetype": "text/x-python",
   "name": "python",
   "nbconvert_exporter": "python",
   "pygments_lexer": "ipython3",
   "version": "3.9.13"
  }
 },
 "nbformat": 4,
 "nbformat_minor": 5
}
