{
 "cells": [
  {
   "cell_type": "markdown",
   "id": "adf9a515-835a-4db9-a349-c691263cf8ac",
   "metadata": {},
   "source": [
    "Q1. What is Abstraction in OOps? Explain with an example.\n"
   ]
  },
  {
   "cell_type": "markdown",
   "id": "48747273-4efd-495e-9361-17e9437b405f",
   "metadata": {},
   "source": [
    "Abstraction in Python is a fundamental concept in Object-Oriented Programming (OOP). It allows us to hide complex implementation details while exposing only essential information and functionalities to users. Abstraction simplifies interaction with objects by providing a high-level view without revealing the underlying complexity..\n"
   ]
  },
  {
   "cell_type": "code",
   "execution_count": 1,
   "id": "0d250f44-7018-4d45-8a96-c7359e9cfd06",
   "metadata": {},
   "outputs": [
    {
     "name": "stdout",
     "output_type": "stream",
     "text": [
      "Turn on the manual car engine\n"
     ]
    }
   ],
   "source": [
    "from abc import ABC, abstractmethod\n",
    "\n",
    "# Base abstract class\n",
    "class Car(ABC):\n",
    "    @abstractmethod\n",
    "    def start_engine(self):\n",
    "        pass\n",
    "\n",
    "# Concrete class implementing Car\n",
    "class ManualCar(Car):\n",
    "    def start_engine(self):\n",
    "        print(\"Turn on the manual car engine\")\n",
    "\n",
    "# Creating an instance of ManualCar\n",
    "my_car = ManualCar()\n",
    "my_car.start_engine()  # Output: Turn on the manual car engine\n"
   ]
  },
  {
   "cell_type": "markdown",
   "id": "497f6b0b-1daf-48f3-8528-8b3526f7c473",
   "metadata": {},
   "source": [
    "Q2. Differentiate between Abstraction and Encapsulation. Explain with an example."
   ]
  },
  {
   "cell_type": "markdown",
   "id": "5172aff0-1d45-413c-9a2b-ed3d870e240a",
   "metadata": {},
   "source": [
    "Abstraction:\n",
    "Abstraction is the process of hiding complex implementation details and exposing only essential features to users.\n",
    "It provides a simplified view of an object or system, focusing on what it does rather than how it does it.\n",
    "Abstraction allows us to create generalized and reusable components.\n",
    "In Python, abstraction is often achieved using abstract classes and interfaces."
   ]
  },
  {
   "cell_type": "code",
   "execution_count": 2,
   "id": "dee54bd8-0055-4005-8156-0b3d4bd6ccd0",
   "metadata": {},
   "outputs": [
    {
     "name": "stdout",
     "output_type": "stream",
     "text": [
      "Area of the circle: 78.5\n"
     ]
    }
   ],
   "source": [
    "from abc import ABC, abstractmethod\n",
    "\n",
    "class Shape(ABC):\n",
    "    @abstractmethod\n",
    "    def area(self):\n",
    "        pass\n",
    "\n",
    "class Circle(Shape):\n",
    "    def __init__(self, radius):\n",
    "        self.radius = radius\n",
    "\n",
    "    def area(self):\n",
    "        return 3.14 * self.radius ** 2\n",
    "\n",
    "my_circle = Circle(radius=5)\n",
    "print(f\"Area of the circle: {my_circle.area()}\")\n"
   ]
  },
  {
   "cell_type": "markdown",
   "id": "819476ba-2ac4-44d6-93ab-eed63eb3c809",
   "metadata": {},
   "source": [
    "Encapsulation:\n",
    "Encapsulation is the concept of wrapping data and methods (functions) that operate on that data into a single unit (i.e., a class).\n",
    "It restricts direct access to variables and methods, preventing accidental modification of data.\n",
    "Encapsulation ensures that an object’s state remains valid by controlling access to attributes."
   ]
  },
  {
   "cell_type": "code",
   "execution_count": 3,
   "id": "a93f5b2c-aeb5-4435-9459-0e7043b2bbc2",
   "metadata": {},
   "outputs": [
    {
     "name": "stdout",
     "output_type": "stream",
     "text": [
      "Account balance: 1300\n"
     ]
    }
   ],
   "source": [
    "class BankAccount:\n",
    "    def __init__(self, account_number, balance):\n",
    "        self._account_number = account_number  # Protected variable\n",
    "        self._balance = balance\n",
    "\n",
    "    def deposit(self, amount):\n",
    "        self._balance += amount\n",
    "\n",
    "    def withdraw(self, amount):\n",
    "        if self._balance >= amount:\n",
    "            self._balance -= amount\n",
    "        else:\n",
    "            print(\"Insufficient funds!\")\n",
    "\n",
    "    def get_balance(self):\n",
    "        return self._balance\n",
    "\n",
    "my_account = BankAccount(account_number=\"12345\", balance=1000)\n",
    "my_account.deposit(500)\n",
    "my_account.withdraw(200)\n",
    "print(f\"Account balance: {my_account.get_balance()}\")\n"
   ]
  },
  {
   "cell_type": "markdown",
   "id": "6eef069b-138e-4d4c-a9fd-9a7c43092e4e",
   "metadata": {},
   "source": [
    "Q3. What is abc module in python? Why is it used?"
   ]
  },
  {
   "cell_type": "markdown",
   "id": "7ff42cbe-83ff-4a60-81cd-de2c740744ff",
   "metadata": {},
   "source": [
    "Abstract Base Classes (ABCs):\n",
    "An abstract base class is a class that cannot be instantiated directly and is meant to be used as a base class for other classes.\n",
    "It defines a common interface that its subclasses must adhere to.\n",
    "Abstract classes serve as blueprints for other classes, ensuring that certain methods or properties are implemented by their subclasses.\n",
    "\n",
    "\n",
    "why its used...?\n",
    "\n",
    "The abc module provides tools for creating and working with abstract base classes in Python.\n",
    "It helps in defining and enforcing interfaces (methods that must be implemented) for subclasses.\n",
    "By using ABCs, you can create a standardized way to test whether an object adheres to a given specification.\n",
    "It prevents accidental instantiation of abstract classes and ensures that subclasses override specific methods.\n"
   ]
  },
  {
   "cell_type": "markdown",
   "id": "7f3a26db-3037-457d-8593-1560a3fce918",
   "metadata": {},
   "source": [
    "Q4. How can we achieve data abstraction?"
   ]
  },
  {
   "cell_type": "markdown",
   "id": "421e6671-5eab-4743-9a66-d48eee08f9ed",
   "metadata": {},
   "source": [
    "In Python, data abstraction can be achieved through the use of abstract classes and interfaces. "
   ]
  },
  {
   "cell_type": "markdown",
   "id": "4ad539e0-cfb3-4c60-b744-9597423e0c89",
   "metadata": {},
   "source": [
    "Q5. Can we create an instance of an abstract class? Explain your answer."
   ]
  },
  {
   "cell_type": "code",
   "execution_count": null,
   "id": "2863e860-d7bf-4ca9-ad3b-319c6d90ed37",
   "metadata": {},
   "outputs": [],
   "source": []
  }
 ],
 "metadata": {
  "kernelspec": {
   "display_name": "Python 3 (ipykernel)",
   "language": "python",
   "name": "python3"
  },
  "language_info": {
   "codemirror_mode": {
    "name": "ipython",
    "version": 3
   },
   "file_extension": ".py",
   "mimetype": "text/x-python",
   "name": "python",
   "nbconvert_exporter": "python",
   "pygments_lexer": "ipython3",
   "version": "3.10.8"
  }
 },
 "nbformat": 4,
 "nbformat_minor": 5
}
