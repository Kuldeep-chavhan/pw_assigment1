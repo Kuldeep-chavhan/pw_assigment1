{
 "cells": [
  {
   "cell_type": "markdown",
   "id": "20f38c06-9e73-4521-9e43-aadd73894cc6",
   "metadata": {},
   "source": [
    "Q1. What is Flask Framework? What are the advantages of Flask Framework?"
   ]
  },
  {
   "cell_type": "markdown",
   "id": "8e41c111-279a-4a4b-b75c-2488b01e3d0e",
   "metadata": {},
   "source": [
    "What is Flask?\n",
    "Flask is a micro web framework—and no, it doesn’t mean it’s tiny in functionality; rather, it’s designed to perform a few tasks extremely well. Here are the key points about Flask:\n",
    "\n",
    "Minimal Dependencies: Flask has minimal external dependencies. It doesn’t come bundled with everything but provides a solid foundation for building web applications. You can add extensions as needed, which gives you more control over your project.\n",
    "Pythonic and Simple: Flask follows the Python philosophy of simplicity and readability. It’s easy to understand, making it an excellent choice for beginners. If you’re just starting out in web development, Flask won’t overwhelm you.\n",
    "Web Server Gateway Interface (WSGI): Flask adheres to the WSGI standard, which means it can run on various web servers. It’s not tied to a specific server or deployment environment.\n",
    "Routing and Views: Flask allows you to define routes (URL patterns) and associate them with view functions. These view functions handle requests and return responses. It’s a straightforward way to map URLs to code.\n",
    "Template Engine: Flask includes a template engine (Jinja2) that lets you create dynamic HTML pages. You can insert variables into templates, making it easier to build consistent user interfaces across multiple pages.\n",
    "Advantages of Flask:\n",
    "Flexibility and Control:\n",
    "Flask gives you creative freedom. You’re “in the driver’s seat,” meaning you have full control over your application. Unlike some other frameworks, Flask doesn’t impose rigid structures.\n",
    "You can easily add external features, customize behavior, and adapt Flask to your specific needs.\n",
    "Easy to Understand Development:\n",
    "As a beginner-friendly framework, Flask’s simplicity allows you to grasp its concepts quickly.\n",
    "The straightforward design enables you to navigate around and create applications without feeling overwhelmed.\n",
    "Unit Testing and Debugging:\n",
    "Flask provides built-in support for unit testing. You can write tests for your application and ensure its correctness.\n",
    "The integrated development server and fast debugger make debugging a breeze.\n",
    "Security:\n",
    "Flask allows you to implement basic security mechanisms easily. You can add features like JSON security, security headers, HTTP Strict Transport Security (HSTS), and Content Security Policy (CSP).\n",
    "Lightweight and Scalable:\n",
    "Flask is lightweight, making it ideal for serving small to medium-sized web applications.\n",
    "While it’s not designed for massive enterprise applications, it can scale up to handle complex tasks if needed.\n",
    "Community and Extensions:\n",
    "Flask has an active community and a rich ecosystem of extensions. You can find extensions for database integration, authentication, REST APIs, and more.\n",
    "These extensions enhance Flask’s capabilities without bloating the core framework."
   ]
  },
  {
   "cell_type": "markdown",
   "id": "bfc14fcd-cdf5-48ad-b448-116fedb8b561",
   "metadata": {},
   "source": [
    "Q2. Create a simple Flask application to display ‘Hello World!!’. Attach the screenshot of the output in\n",
    "Jupyter Notebook."
   ]
  },
  {
   "cell_type": "code",
   "execution_count": 1,
   "id": "c56dfa9e-3505-42be-8286-c0b5dec3405b",
   "metadata": {},
   "outputs": [
    {
     "name": "stdout",
     "output_type": "stream",
     "text": [
      "Requirement already satisfied: flask in /opt/conda/lib/python3.10/site-packages (3.0.3)\n",
      "Requirement already satisfied: Werkzeug>=3.0.0 in /opt/conda/lib/python3.10/site-packages (from flask) (3.0.3)\n",
      "Requirement already satisfied: itsdangerous>=2.1.2 in /opt/conda/lib/python3.10/site-packages (from flask) (2.2.0)\n",
      "Requirement already satisfied: Jinja2>=3.1.2 in /opt/conda/lib/python3.10/site-packages (from flask) (3.1.2)\n",
      "Requirement already satisfied: click>=8.1.3 in /opt/conda/lib/python3.10/site-packages (from flask) (8.1.3)\n",
      "Requirement already satisfied: blinker>=1.6.2 in /opt/conda/lib/python3.10/site-packages (from flask) (1.8.2)\n",
      "Requirement already satisfied: MarkupSafe>=2.0 in /opt/conda/lib/python3.10/site-packages (from Jinja2>=3.1.2->flask) (2.1.1)\n",
      "Note: you may need to restart the kernel to use updated packages.\n"
     ]
    }
   ],
   "source": [
    "pip install flask"
   ]
  },
  {
   "cell_type": "code",
   "execution_count": 2,
   "id": "900d16a3-7869-492e-a5ed-615b253d0689",
   "metadata": {},
   "outputs": [
    {
     "ename": "ImportError",
     "evalue": "cannot import name 'flask' from 'flask' (/opt/conda/lib/python3.10/site-packages/flask/__init__.py)",
     "output_type": "error",
     "traceback": [
      "\u001b[0;31m---------------------------------------------------------------------------\u001b[0m",
      "\u001b[0;31mImportError\u001b[0m                               Traceback (most recent call last)",
      "Cell \u001b[0;32mIn[2], line 1\u001b[0m\n\u001b[0;32m----> 1\u001b[0m \u001b[38;5;28;01mfrom\u001b[39;00m \u001b[38;5;21;01mflask\u001b[39;00m \u001b[38;5;28;01mimport\u001b[39;00m flask\n\u001b[1;32m      4\u001b[0m app \u001b[38;5;241m=\u001b[39m flask(\u001b[38;5;18m__name__\u001b[39m)\n\u001b[1;32m      7\u001b[0m \u001b[38;5;129m@app\u001b[39m\u001b[38;5;241m.\u001b[39mroute(\u001b[38;5;124m\"\u001b[39m\u001b[38;5;124m/\u001b[39m\u001b[38;5;124m\"\u001b[39m)\n\u001b[1;32m      8\u001b[0m \u001b[38;5;28;01mdef\u001b[39;00m \u001b[38;5;21mhellow_world\u001b[39m():\n",
      "\u001b[0;31mImportError\u001b[0m: cannot import name 'flask' from 'flask' (/opt/conda/lib/python3.10/site-packages/flask/__init__.py)"
     ]
    }
   ],
   "source": [
    "from flask import flask\n",
    "\n",
    "\n",
    "app = flask(__name__)\n",
    "\n",
    "\n",
    "@app.route(\"/\")\n",
    "def hellow_world():\n",
    "    return \"<h1>Hellow world</h1>\"\n",
    "\n",
    "if __name__==\"__main__\":\n",
    "    app.run(host = \"127.0.0.1\" )"
   ]
  },
  {
   "cell_type": "markdown",
   "id": "32aeb950-78f8-4c30-9634-fd4c158fffff",
   "metadata": {},
   "source": [
    "Q3. What is App routing in Flask? Why do we use app routes?"
   ]
  },
  {
   "cell_type": "markdown",
   "id": "f8b2cf6e-3e42-489a-96ac-f97b0338e98a",
   "metadata": {},
   "source": [
    "What is Flask App Routing?\n",
    "App routing in Flask is all about directing incoming requests to the right place. When a user clicks a link or enters a URL in their browser, Flask’s routing system ensures that the corresponding Python function (called a view function) handles that request. Here’s how it works:\n",
    "\n",
    "Decorators and Routes:\n",
    "In Flask, we use decorators to define routes. Decorators are special annotations applied to Python functions. They tell Flask which URLs should trigger which functions.\n",
    "For example, if you want to handle requests to the URL /hello, you’d use the @app.route(\"/hello\") decorator.\n",
    "Mapping URLs to Functions:\n",
    "When a user visits a specific URL (say, /hello), Flask checks its routing rules.\n",
    "If there’s a matching route (decorated function), Flask executes that function and sends back the response.\n",
    "Why Do We Use App Routes?\n",
    "Meaningful URLs: Modern web apps use meaningful URLs. Instead of cryptic paths like /booking.php, users see cleaner, more memorable URLs like /booking/.\n",
    "User Experience: Clear URLs enhance user experience. They’re easier to remember, share, and navigate.\n",
    "Code Organization: Routes help organize your code. Each route corresponds to a specific feature or page of your app.\n",
    "Dynamic URLs: You can create dynamic URLs by using variables in the URL. For instance, /user/<username> can handle requests for different usernames dynamically."
   ]
  },
  {
   "cell_type": "code",
   "execution_count": null,
   "id": "2feea06e-f9fd-4f05-af75-d7e05953adca",
   "metadata": {},
   "outputs": [
    {
     "name": "stdout",
     "output_type": "stream",
     "text": [
      " * Serving Flask app '__main__'\n",
      " * Debug mode: off\n"
     ]
    },
    {
     "name": "stderr",
     "output_type": "stream",
     "text": [
      "WARNING: This is a development server. Do not use it in a production deployment. Use a production WSGI server instead.\n",
      " * Running on http://127.0.0.1:5000\n",
      "Press CTRL+C to quit\n"
     ]
    }
   ],
   "source": [
    "from flask import Flask\n",
    "\n",
    "app = Flask(__name__)\n",
    "\n",
    "# Route for \"/welcome\"\n",
    "@app.route('/welcome')\n",
    "def welcome():\n",
    "    return \"Welcome to ABC Corporation\"\n",
    "\n",
    "# Route for \"/\"\n",
    "@app.route('/')\n",
    "def company_details():\n",
    "    return \"\"\"\n",
    "    Company Name: ABC Corporation\n",
    "    Location: India\n",
    "    Contact Detail: 999-999-9999\n",
    "    \"\"\"\n",
    "\n",
    "if __name__ == \"__main__\":\n",
    "    app.run(host = \"127.0.0.1\")\n"
   ]
  },
  {
   "cell_type": "markdown",
   "id": "5da726af-ebfc-4bb8-a2e9-37fecde1d5f0",
   "metadata": {},
   "source": [
    "Q5. What function is used in Flask for URL Building? Write a Python code to demonstrate the working of the\n",
    "url_for() function."
   ]
  },
  {
   "cell_type": "code",
   "execution_count": null,
   "id": "9150b0ef-1941-4e90-bb83-745e09e7bddc",
   "metadata": {},
   "outputs": [],
   "source": []
  }
 ],
 "metadata": {
  "kernelspec": {
   "display_name": "Python 3 (ipykernel)",
   "language": "python",
   "name": "python3"
  },
  "language_info": {
   "codemirror_mode": {
    "name": "ipython",
    "version": 3
   },
   "file_extension": ".py",
   "mimetype": "text/x-python",
   "name": "python",
   "nbconvert_exporter": "python",
   "pygments_lexer": "ipython3",
   "version": "3.10.8"
  }
 },
 "nbformat": 4,
 "nbformat_minor": 5
}
