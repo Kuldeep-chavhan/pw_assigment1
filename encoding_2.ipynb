{
 "cells": [
  {
   "cell_type": "markdown",
   "id": "595e84b8-3b46-4660-bdba-5eb34873fe1b",
   "metadata": {},
   "source": [
    "Q1. What is the difference between Ordinal Encoding and Label Encoding? Provide an example of when you\n",
    "might choose one over the other."
   ]
  },
  {
   "cell_type": "markdown",
   "id": "eb114e73-2a65-4d34-9af7-ae91174f6b5c",
   "metadata": {},
   "source": [
    "Ordinal Encoding\n",
    "Purpose: Used for categorical features where the categories have a meaningful order or ranking.\n",
    "How it works: Assigns integer values to the categories based on their order.\n",
    "Example: Suppose you have a feature representing education levels: [\"High School\", \"Bachelor's\", \"Master's\", \"PhD\"]. Ordinal Encoding might assign:\n",
    "High School: 1\n",
    "Bachelor’s: 2\n",
    "Master’s: 3\n",
    "PhD: 4\n",
    "Label Encoding\n",
    "Purpose: Used for categorical features where the categories do not have a meaningful order.\n",
    "How it works: Assigns integer values to the categories arbitrarily.\n",
    "Example: Suppose you have a feature representing colors: [\"Red\", \"Green\", \"Blue\"]. Label Encoding might assign:\n",
    "Red: 0\n",
    "Green: 1\n",
    "Blue: 2\n",
    "When to Choose One Over the Other\n",
    "Ordinal Encoding: Use this when the categorical feature has a natural order. For example, education levels, customer satisfaction ratings (e.g., “Poor”, “Average”, “Good”, “Excellent”), or any other feature where the order matters.\n",
    "Label Encoding: Use this when the categorical feature does not have a natural order. For example, colors, types of animals, or any other feature where the order does not matter.\n",
    "Example Scenario\n",
    "Ordinal Encoding: If you are working on a model to predict salaries based on education levels, you would use Ordinal Encoding because education levels have a natural order.\n",
    "Label Encoding: If you are working on a model to classify images of different animals, you would use Label Encoding because the types of animals do not have a natural order"
   ]
  },
  {
   "cell_type": "markdown",
   "id": "3e5a3aff-a764-441e-9e30-e10f07ab083f",
   "metadata": {},
   "source": [
    "Q2. Explain how Target Guided Ordinal Encoding works and provide an example of when you might use it in\n",
    "a machine learning project."
   ]
  },
  {
   "cell_type": "markdown",
   "id": "74b09c25-7ada-4a49-864e-239b8cca9555",
   "metadata": {},
   "source": [
    "Calculate the Mean of the Target for Each Category: For each category in the categorical variable, calculate the mean of the target variable.\n",
    "Sort the Categories: Sort the categories based on the calculated means.\n",
    "Assign Ordinal Values: Assign ordinal values to the categories based on their sorted order.\n",
    "Example\n",
    "Let’s say you are working on a customer churn prediction project, and you have a categorical variable Customer_Type with values like Regular, VIP, and Occasional. The target variable is Churn (1 for churned, 0 for not churned).\n",
    "\n",
    "Calculate the Mean of Churn for Each Category:\n",
    "Regular: Mean Churn = 0.3\n",
    "VIP: Mean Churn = 0.1\n",
    "Occasional: Mean Churn = 0.5\n",
    "Sort the Categories:\n",
    "VIP (0.1)\n",
    "Regular (0.3)\n",
    "Occasional (0.5)\n",
    "Assign Ordinal Values:\n",
    "VIP = 1\n",
    "Regular = 2\n",
    "Occasional = 3\n",
    "Now, the Customer_Type variable is encoded as follows:\n",
    "\n",
    "VIP -> 1\n",
    "Regular -> 2\n",
    "Occasional -> 3\n",
    "When to Use It\n",
    "You might use Target Guided Ordinal Encoding in scenarios where the categorical variable has a potential ordinal relationship with the target variable. For example:\n",
    "\n",
    "Customer Churn Prediction: Encoding customer types based on their likelihood to churn.\n",
    "Credit Risk Assessment: Encoding employment types based on their default rates.\n",
    "Stock Price Prediction: Encoding market sectors based on their average returns."
   ]
  },
  {
   "cell_type": "markdown",
   "id": "5797d2e3-e5b9-4f69-a06b-c0f29d75705b",
   "metadata": {},
   "source": [
    "Q3. Define covariance and explain why it is important in statistical analysis. How is covariance calculated?"
   ]
  },
  {
   "cell_type": "markdown",
   "id": "4f584b5a-daee-48ae-bf9c-fcbc5f3f3f2c",
   "metadata": {},
   "source": [
    "Importance in Statistical Analysis\n",
    "Covariance is crucial because it helps in understanding the relationship between variables. It is used in various fields such as finance, economics, and data science to:\n",
    "\n",
    "Identify Relationships: Determine whether variables move together or inversely.\n",
    "Portfolio Theory: Assess the risk and return in finance by understanding how asset prices move together.\n",
    "Principal Component Analysis (PCA): Reduce dimensionality in data by identifying correlated variables.\n",
    "\n",
    "Calculation\n",
    "Covariance between two variables (X) and (Y) is calculated using the formula:\n",
    "Cov(X,Y)=n−1∑i=1n​(Xi​−Xˉ)(Yi​−Yˉ)​\n",
    "Where:\n",
    "\n",
    "(X_i) and (Y_i) are the individual sample points.\n",
    "(\\bar{X}) and (\\bar{Y}) are the means of (X) and (Y), respectively.\n",
    "(n) is the number of data points."
   ]
  },
  {
   "cell_type": "markdown",
   "id": "3d8dbb99-af64-4c3d-957a-13dac81bb80c",
   "metadata": {},
   "source": [
    "Q4. For a dataset with the following categorical variables: Color (red, green, blue), Size (small, medium,\n",
    "large), and Material (wood, metal, plastic), perform label encoding using Python's scikit-learn library.\n",
    "Show your code and explain the output."
   ]
  },
  {
   "cell_type": "code",
   "execution_count": 1,
   "id": "f8198d76-dedf-4ee5-9041-7cefb6f12974",
   "metadata": {},
   "outputs": [],
   "source": [
    "import pandas as pd\n",
    "from sklearn.preprocessing import LabelEncoder"
   ]
  },
  {
   "cell_type": "code",
   "execution_count": 2,
   "id": "64d1e0c4-54df-4d5e-b582-f6ac57a77f08",
   "metadata": {},
   "outputs": [],
   "source": [
    "df = pd.DataFrame({'color' :('red', 'green', 'blue'),\n",
    "        'Size':('small', 'medium','large'),\n",
    "         'Material':('wood', 'metal', 'plastic')\n",
    "       })"
   ]
  },
  {
   "cell_type": "code",
   "execution_count": 3,
   "id": "97c2beeb-85a2-4e94-a493-3849c601f637",
   "metadata": {},
   "outputs": [
    {
     "data": {
      "text/html": [
       "<div>\n",
       "<style scoped>\n",
       "    .dataframe tbody tr th:only-of-type {\n",
       "        vertical-align: middle;\n",
       "    }\n",
       "\n",
       "    .dataframe tbody tr th {\n",
       "        vertical-align: top;\n",
       "    }\n",
       "\n",
       "    .dataframe thead th {\n",
       "        text-align: right;\n",
       "    }\n",
       "</style>\n",
       "<table border=\"1\" class=\"dataframe\">\n",
       "  <thead>\n",
       "    <tr style=\"text-align: right;\">\n",
       "      <th></th>\n",
       "      <th>color</th>\n",
       "      <th>Size</th>\n",
       "      <th>Material</th>\n",
       "    </tr>\n",
       "  </thead>\n",
       "  <tbody>\n",
       "    <tr>\n",
       "      <th>0</th>\n",
       "      <td>red</td>\n",
       "      <td>small</td>\n",
       "      <td>wood</td>\n",
       "    </tr>\n",
       "    <tr>\n",
       "      <th>1</th>\n",
       "      <td>green</td>\n",
       "      <td>medium</td>\n",
       "      <td>metal</td>\n",
       "    </tr>\n",
       "    <tr>\n",
       "      <th>2</th>\n",
       "      <td>blue</td>\n",
       "      <td>large</td>\n",
       "      <td>plastic</td>\n",
       "    </tr>\n",
       "  </tbody>\n",
       "</table>\n",
       "</div>"
      ],
      "text/plain": [
       "   color    Size Material\n",
       "0    red   small     wood\n",
       "1  green  medium    metal\n",
       "2   blue   large  plastic"
      ]
     },
     "execution_count": 3,
     "metadata": {},
     "output_type": "execute_result"
    }
   ],
   "source": [
    "df"
   ]
  },
  {
   "cell_type": "code",
   "execution_count": 8,
   "id": "a9ae39bf-16f2-40af-ba9e-75a66492bef1",
   "metadata": {},
   "outputs": [],
   "source": [
    "encoder = LabelEncoder()"
   ]
  },
  {
   "cell_type": "code",
   "execution_count": 16,
   "id": "f7622887-80de-4a3e-b058-f6c5e765a8ad",
   "metadata": {},
   "outputs": [
    {
     "data": {
      "text/plain": [
       "array([2, 1, 0])"
      ]
     },
     "execution_count": 16,
     "metadata": {},
     "output_type": "execute_result"
    }
   ],
   "source": [
    "encoder.fit_transform(df['color'])"
   ]
  },
  {
   "cell_type": "code",
   "execution_count": 13,
   "id": "79a801dd-9ef7-4d6d-813b-ea50cc48d415",
   "metadata": {},
   "outputs": [
    {
     "data": {
      "text/plain": [
       "array([2, 1, 0])"
      ]
     },
     "execution_count": 13,
     "metadata": {},
     "output_type": "execute_result"
    }
   ],
   "source": [
    "encoder.fit_transform(df['Size'])"
   ]
  },
  {
   "cell_type": "code",
   "execution_count": 18,
   "id": "003ab250-5c6f-4e89-a906-a553fb052547",
   "metadata": {},
   "outputs": [
    {
     "data": {
      "text/plain": [
       "array([2, 0, 1])"
      ]
     },
     "execution_count": 18,
     "metadata": {},
     "output_type": "execute_result"
    }
   ],
   "source": [
    "encoder.fit_transform(df['Material'])"
   ]
  },
  {
   "cell_type": "markdown",
   "id": "729d69f2-88b2-420a-bcc0-7ac8a74b953e",
   "metadata": {},
   "source": [
    "Q5. Calculate the covariance matrix for the following variables in a dataset: Age, Income, and Education\n",
    "level. Interpret the results."
   ]
  },
  {
   "cell_type": "code",
   "execution_count": 19,
   "id": "72fcc0dc-e61f-48f7-bebc-37794756eb9e",
   "metadata": {},
   "outputs": [
    {
     "name": "stdout",
     "output_type": "stream",
     "text": [
      "                Age       Income  Education\n",
      "Age           141.8     228750.0       30.7\n",
      "Income     228750.0  375000000.0    50000.0\n",
      "Education      30.7      50000.0        6.8\n"
     ]
    }
   ],
   "source": [
    "import pandas as pd\n",
    "\n",
    "# Sample data\n",
    "data = {\n",
    "    'Age': [25, 45, 35, 50, 23],\n",
    "    'Income': [50000, 80000, 60000, 90000, 45000],\n",
    "    'Education': [12, 16, 14, 18, 12]\n",
    "}\n",
    "\n",
    "# Create DataFrame\n",
    "df = pd.DataFrame(data)\n",
    "\n",
    "# Calculate covariance matrix\n",
    "covariance_matrix = df.cov()\n",
    "\n",
    "print(covariance_matrix)\n"
   ]
  },
  {
   "cell_type": "markdown",
   "id": "8c134622-0908-4ee9-9f15-9261d979d39a",
   "metadata": {},
   "source": [
    "Q6. You are working on a machine learning project with a dataset containing several categorical\n",
    "variables, including \"Gender\" (Male/Female), \"Education Level\" (High School/Bachelor's/Master's/PhD),\n",
    "and \"Employment Status\" (Unemployed/Part-Time/Full-Time). Which encoding method would you use for\n",
    "each variable, and why?"
   ]
  },
  {
   "cell_type": "code",
   "execution_count": 20,
   "id": "f93a6cf3-e9a6-4caa-8c37-1c9a02263e02",
   "metadata": {},
   "outputs": [
    {
     "name": "stdout",
     "output_type": "stream",
     "text": [
      "   Gender Education Level Employment Status  Gender_Label  \\\n",
      "0    Male      Bachelor's         Full-Time             1   \n",
      "1  Female        Master's         Part-Time             0   \n",
      "2  Female             PhD        Unemployed             0   \n",
      "3    Male     High School         Full-Time             1   \n",
      "\n",
      "   Education_Level_Ordinal  Employment Status_Full-Time  \\\n",
      "0                        2                          1.0   \n",
      "1                        3                          0.0   \n",
      "2                        4                          0.0   \n",
      "3                        1                          1.0   \n",
      "\n",
      "   Employment Status_Part-Time  Employment Status_Unemployed  \n",
      "0                          0.0                           0.0  \n",
      "1                          1.0                           0.0  \n",
      "2                          0.0                           1.0  \n",
      "3                          0.0                           0.0  \n"
     ]
    },
    {
     "name": "stderr",
     "output_type": "stream",
     "text": [
      "/opt/conda/lib/python3.10/site-packages/sklearn/preprocessing/_encoders.py:808: FutureWarning: `sparse` was renamed to `sparse_output` in version 1.2 and will be removed in 1.4. `sparse_output` is ignored unless you leave `sparse` to its default value.\n",
      "  warnings.warn(\n"
     ]
    }
   ],
   "source": [
    "import pandas as pd\n",
    "from sklearn.preprocessing import LabelEncoder, OneHotEncoder\n",
    "\n",
    "# Sample DataFrame\n",
    "data = {\n",
    "    'Gender': ['Male', 'Female', 'Female', 'Male'],\n",
    "    'Education Level': ['Bachelor\\'s', 'Master\\'s', 'PhD', 'High School'],\n",
    "    'Employment Status': ['Full-Time', 'Part-Time', 'Unemployed', 'Full-Time']\n",
    "}\n",
    "df = pd.DataFrame(data)\n",
    "\n",
    "# Label Encoding for Gender\n",
    "label_encoder = LabelEncoder()\n",
    "df['Gender_Label'] = label_encoder.fit_transform(df['Gender'])\n",
    "\n",
    "# Ordinal Encoding for Education Level\n",
    "education_order = ['High School', 'Bachelor\\'s', 'Master\\'s', 'PhD']\n",
    "df['Education_Level_Ordinal'] = df['Education Level'].apply(lambda x: education_order.index(x) + 1)\n",
    "\n",
    "# One-Hot Encoding for Employment Status\n",
    "one_hot_encoder = OneHotEncoder(sparse=False)\n",
    "employment_status_encoded = one_hot_encoder.fit_transform(df[['Employment Status']])\n",
    "employment_status_df = pd.DataFrame(employment_status_encoded, columns=one_hot_encoder.get_feature_names_out(['Employment Status']))\n",
    "df = pd.concat([df, employment_status_df], axis=1)\n",
    "\n",
    "print(df)\n"
   ]
  },
  {
   "cell_type": "markdown",
   "id": "1ccfc2cc-ddd6-4e7e-bf84-3fb8a5d18273",
   "metadata": {},
   "source": [
    "Q7. You are analyzing a dataset with two continuous variables, \"Temperature\" and \"Humidity\", and two\n",
    "categorical variables, \"Weather Condition\" (Sunny/Cloudy/Rainy) and \"Wind Direction\" (North/South/\n",
    "East/West). Calculate the covariance between each pair of variables and interpret the results."
   ]
  },
  {
   "cell_type": "code",
   "execution_count": 22,
   "id": "bb6a2274-0980-4d8f-9930-6b0e3d4224f8",
   "metadata": {},
   "outputs": [
    {
     "name": "stdout",
     "output_type": "stream",
     "text": [
      "             Temperature  Humidity\n",
      "Temperature          5.8      -2.5\n",
      "Humidity            -2.5      62.5\n"
     ]
    }
   ],
   "source": [
    "import numpy as np\n",
    "import pandas as pd\n",
    "\n",
    "# Sample data\n",
    "data = {\n",
    "    'Temperature': [30, 25, 27, 29, 31],\n",
    "    'Humidity': [70, 65, 75, 80, 60],\n",
    "    'Weather Condition': ['Sunny', 'Cloudy', 'Rainy', 'Sunny', 'Cloudy'],\n",
    "    'Wind Direction': ['North', 'South', 'East', 'West', 'North']\n",
    "}\n",
    "\n",
    "df = pd.DataFrame(data)\n",
    "\n",
    "# Calculate covariance matrix\n",
    "cov_matrix = df[['Temperature', 'Humidity']].cov()\n",
    "print(cov_matrix)\n"
   ]
  },
  {
   "cell_type": "code",
   "execution_count": null,
   "id": "583ea94d-7e3d-422d-8d61-857e5e4abb12",
   "metadata": {},
   "outputs": [],
   "source": []
  }
 ],
 "metadata": {
  "kernelspec": {
   "display_name": "Python 3 (ipykernel)",
   "language": "python",
   "name": "python3"
  },
  "language_info": {
   "codemirror_mode": {
    "name": "ipython",
    "version": 3
   },
   "file_extension": ".py",
   "mimetype": "text/x-python",
   "name": "python",
   "nbconvert_exporter": "python",
   "pygments_lexer": "ipython3",
   "version": "3.10.8"
  }
 },
 "nbformat": 4,
 "nbformat_minor": 5
}
