{
 "cells": [
  {
   "cell_type": "markdown",
   "id": "03ebd828-5bf8-44c9-b4e6-8655743a53d2",
   "metadata": {},
   "source": [
    "ASSIGMENT = statistics"
   ]
  },
  {
   "cell_type": "markdown",
   "id": "fae748a9-d1c6-4c6a-9f14-62299a76d9dd",
   "metadata": {},
   "source": [
    "Q1. What are the three measures of central tendency?"
   ]
  },
  {
   "cell_type": "markdown",
   "id": "09d44880-fd1b-49e0-96e6-7c6b83b86ae6",
   "metadata": {},
   "source": [
    "There are 3 types of measure of central tendency\n",
    "1 = mean\n",
    "2 = median\n",
    "3 = mode"
   ]
  },
  {
   "cell_type": "markdown",
   "id": "4c48fc0e-65d1-46c8-9bcf-5ec67d64bfe8",
   "metadata": {},
   "source": [
    "Q2. What is the difference between the mean, median, and mode? How are they used to measure the\n",
    "central tendency of a dataset?"
   ]
  },
  {
   "cell_type": "markdown",
   "id": "00984b7f-d583-403f-b5d9-ffc99a426eb7",
   "metadata": {},
   "source": [
    "(!) = Mean (Average):\n",
    "\n",
    "The mean is like the friendly neighborhood arithmetic average. Imagine all your data points gathering for a cozy tea party. The mean is the perfect host—it invites everyone, adds up their values, and then divides by the total number of guests. Voilà! You’ve got the mean, which tells you the typical value in your dataset. It’s like finding the heartwarming average age of a group of kittens. 🐾\n",
    "Mathematically, the mean (often called the arithmetic mean) is calculated by summing up all the data points and dividing by the number of data points:mean=n∑xi​​\n",
    "\n",
    "\n",
    "(2) = Median (Middle Child):\n",
    "Picture your data points lining up for a class photo. The median is the one right smack in the middle. To find it:\n",
    "Arrange the data points from smallest to largest.\n",
    "If the number of data points is odd, the median is the middle data point in the list.\n",
    "If the number of data points is even, the median is the average of the two middle data points.\n",
    "It’s robust because it doesn’t care about extreme values; it’s all about that balanced center. \n",
    "\n",
    "\n",
    "(3) = Mode (Life of the Party):\n",
    "The mode is the popular kid—the value that struts its stuff most frequently. Imagine a dance floor: the mode is the song everyone’s grooving to. Sometimes there’s no clear mode (like when everyone has different favorite songs), and sometimes there can be multiple modes (like when the DJ plays “Despacito” three times in a row). 🎶\n",
    "Mathematically, the mode is the most frequently occurring value in a dataset."
   ]
  },
  {
   "cell_type": "markdown",
   "id": "74d9300b-f969-4067-9cbd-bbdcf671bb7c",
   "metadata": {},
   "source": [
    "Q3. Measure the three measures of central tendency for the given height data:\n",
    "[178,177,176,177,178.2,178,175,179,180,175,178.9,176.2,177,172.5,178,176.5]"
   ]
  },
  {
   "cell_type": "code",
   "execution_count": 3,
   "id": "c146fb51-3eab-4c20-baf7-5856e3f21719",
   "metadata": {},
   "outputs": [],
   "source": [
    "height = [178,177,176,177,178.2,178,175,179,180,175,178.9,176.2,177,172.5,178,176.5]"
   ]
  },
  {
   "cell_type": "code",
   "execution_count": 7,
   "id": "f4ec2c3c-4215-44ad-b2ff-87cf309090aa",
   "metadata": {},
   "outputs": [],
   "source": [
    "import numpy as np"
   ]
  },
  {
   "cell_type": "code",
   "execution_count": 8,
   "id": "39ae709f-293e-49bb-8bc8-5cf7366bf1bd",
   "metadata": {},
   "outputs": [
    {
     "data": {
      "text/plain": [
       "177.01875"
      ]
     },
     "execution_count": 8,
     "metadata": {},
     "output_type": "execute_result"
    }
   ],
   "source": [
    "np.mean(height)"
   ]
  },
  {
   "cell_type": "code",
   "execution_count": 9,
   "id": "4d457a8e-1f7d-4a5e-8035-3df266bfff79",
   "metadata": {},
   "outputs": [
    {
     "data": {
      "text/plain": [
       "177.0"
      ]
     },
     "execution_count": 9,
     "metadata": {},
     "output_type": "execute_result"
    }
   ],
   "source": [
    "np.median(height)"
   ]
  },
  {
   "cell_type": "markdown",
   "id": "3e37c373-03b1-444f-a641-b487661f671b",
   "metadata": {},
   "source": [
    "Q4. Find the standard deviation for the given data:\n",
    "[178,177,176,177,178.2,178,175,179,180,175,178.9,176.2,177,172.5,178,176.5]"
   ]
  },
  {
   "cell_type": "code",
   "execution_count": 12,
   "id": "ff80807e-5aaa-446b-9c31-ab9eade13389",
   "metadata": {},
   "outputs": [],
   "source": [
    "data = [178,177,176,177,178.2,178,175,179,180,175,178.9,176.2,177,172.5,178,176.5]"
   ]
  },
  {
   "cell_type": "code",
   "execution_count": 13,
   "id": "f7a8bddc-097c-49fa-a3cc-6a3ed321f313",
   "metadata": {},
   "outputs": [
    {
     "data": {
      "text/plain": [
       "3.199023437500001"
      ]
     },
     "execution_count": 13,
     "metadata": {},
     "output_type": "execute_result"
    }
   ],
   "source": [
    "np.var(data)"
   ]
  },
  {
   "cell_type": "code",
   "execution_count": 14,
   "id": "cc8cdb51-3ad4-432e-b691-3be6bc377247",
   "metadata": {},
   "outputs": [
    {
     "data": {
      "text/plain": [
       "1.7885814036548633"
      ]
     },
     "execution_count": 14,
     "metadata": {},
     "output_type": "execute_result"
    }
   ],
   "source": [
    "np.std(data)"
   ]
  },
  {
   "cell_type": "markdown",
   "id": "652981a8-a3f2-41f3-9a88-a12a3ae87ffe",
   "metadata": {},
   "source": [
    "Q5. How are measures of dispersion such as range, variance, and standard deviation used to describe\n",
    "the spread of a dataset? Provide an example."
   ]
  },
  {
   "cell_type": "markdown",
   "id": "3e612e92-10fc-4652-acb5-d54e28a912d6",
   "metadata": {},
   "source": [
    "Range:\n",
    "The range is like the bookends of your dataset. It’s the difference between the largest and smallest values. Imagine you’re organizing a marathon, and the range tells you how far apart the fastest and slowest runners are. 🏃‍♀️🏃‍♂️\n",
    "For example, if we have a dataset of exam scores: ([60, 70, 80, 90, 100]), the range is (100 - 60 = 40).\n",
    "Variance:\n",
    "Variance measures how much individual data points deviate from the mean. It’s like checking how much each student’s height differs from the average height in a classroom.\n",
    "Mathematically, variance is the average of the squared differences between each data point and the mean.\n",
    "Example: Suppose we have a dataset of ages: ([25, 30, 35, 40, 45]). Calculate the mean (which is 35) and then compute the variance.\n",
    "Standard Deviation:\n",
    "The standard deviation is the square root of the variance. It’s like the “average distance” each data point is from the mean.\n",
    "A smaller standard deviation means the data points are tightly clustered around the mean, while a larger standard deviation indicates more spread.\n",
    "Example: In a dataset of daily temperatures, a low standard deviation means consistent weather, while a high standard deviation implies unpredictable swings."
   ]
  },
  {
   "cell_type": "markdown",
   "id": "b0e19707-a60d-47be-bbde-9983eb4f03f5",
   "metadata": {},
   "source": [
    "Q6. What is a Venn diagram?"
   ]
  },
  {
   "cell_type": "markdown",
   "id": "59958139-61af-4c82-98f7-52b7f251e438",
   "metadata": {},
   "source": [
    "A Venn diagram is an illustration that uses overlapping circles (or other closed curves) to show the logical relations between two or more sets of items.\n",
    "Each circle represents a set, and the overlapping regions indicate common elements shared by those sets.\n",
    "These diagrams are widely used in various fields, including mathematics, probability, logic, linguistics, and computer science."
   ]
  },
  {
   "cell_type": "markdown",
   "id": "0aba7eb4-c425-4bf0-baa3-02b403de1092",
   "metadata": {},
   "source": [
    "Q7. For the two given sets A = (2,3,4,5,6,7) & B = (0,2,6,8,10). Find:\n",
    "(i)(i) A B\n",
    "(ii) A U B"
   ]
  },
  {
   "cell_type": "code",
   "execution_count": 16,
   "id": "fa11d5f7-f489-45ce-8108-c900c53f2dd0",
   "metadata": {},
   "outputs": [
    {
     "data": {
      "text/plain": [
       "array([2, 6])"
      ]
     },
     "execution_count": 16,
     "metadata": {},
     "output_type": "execute_result"
    }
   ],
   "source": [
    "A = (2,3,4,5,6,7)\n",
    "B = (0,2,6,8,10)\n",
    "\n",
    "\n",
    "np.intersect1d(A,B)"
   ]
  },
  {
   "cell_type": "code",
   "execution_count": 17,
   "id": "5baf57bb-94a6-48aa-a958-cf9a04d7392b",
   "metadata": {},
   "outputs": [
    {
     "data": {
      "text/plain": [
       "array([ 0,  2,  3,  4,  5,  6,  7,  8, 10])"
      ]
     },
     "execution_count": 17,
     "metadata": {},
     "output_type": "execute_result"
    }
   ],
   "source": [
    "np.union1d(A,B)"
   ]
  },
  {
   "cell_type": "markdown",
   "id": "c39bb205-d808-4ef1-862f-f6ad38961706",
   "metadata": {},
   "source": [
    "Q8. What do you understand about skewness in data?"
   ]
  },
  {
   "cell_type": "markdown",
   "id": "959581ac-40f0-4406-a58d-adaddb856732",
   "metadata": {},
   "source": [
    "Skewness is a measure of the asymmetry of a distribution.\n",
    "When a distribution is symmetrical, its left and right sides are mirror images, and the skewness is zero.\n",
    "However, if a distribution is asymmetrical, it can be either right-skewed (positive skew) or left-skewed (negative skew).\n",
    "Types of Skewness:\n",
    "Right-Skewed (Positive Skew):\n",
    "A right-skewed distribution is longer on the right side of its peak than on its left.\n",
    "Think of it as having a long tail on the right.\n",
    "Example: The number of sunspots observed per year often follows a right-skewed distribution.\n",
    "Left-Skewed (Negative Skew):\n",
    "A left-skewed distribution is longer on the left side of its peak.\n",
    "It has a long tail on the left.\n",
    "Example: The distribution of waiting times at a busy checkout counter might be left-skewed."
   ]
  },
  {
   "cell_type": "markdown",
   "id": "d73cbb7e-d785-4d71-ba35-d3aa2f4ca7df",
   "metadata": {},
   "source": [
    "Q9. If a data is right skewed then what will be the position of median with respect to mean?"
   ]
  },
  {
   "cell_type": "markdown",
   "id": "affa5eec-eb7a-4a3d-921b-b68ad8126af4",
   "metadata": {},
   "source": [
    "When the distribution is skewed to the right, the mean is often greater than the median."
   ]
  },
  {
   "cell_type": "markdown",
   "id": "5f8041ff-0ba3-439e-ae99-ea4cff5169c2",
   "metadata": {},
   "source": [
    "Q10. Explain the difference between covariance and correlation. How are these measures used in\n",
    "statistical analysis?"
   ]
  },
  {
   "cell_type": "markdown",
   "id": "248dda16-df91-4640-ae96-e60d63511e0c",
   "metadata": {},
   "source": [
    "there are some differences between covariance and correlation\n",
    "\n",
    "Covariance:\n",
    "Directional relationship but not strength.\n",
    "Range of values: From negative infinity to positive infinity.\n",
    "Sensitive to variable scale.\n",
    "Dimensionality: Unit is the product of two variables.\n",
    "Correlation:\n",
    "Direction and strength.\n",
    "Range of values: Always between -1 and 1.\n",
    "Insensitive to variable scale.\n",
    "Dimensionless (no units).\n",
    "\n",
    "\n",
    "Use Cases: covariance\n",
    "In exploratory data analysis, covariance helps identify connections between variables before diving into more complex modeling approaches.\n",
    "It’s useful when you want to understand the joint behavior of two variables.\n",
    "\n",
    "Use Cases: correlation\n",
    "Correlation is best used for multiple variables that express a linear relationship with one another.\n",
    "It’s widely used in finance, social sciences, machine learning, and quality control.\n"
   ]
  },
  {
   "cell_type": "markdown",
   "id": "af2667ee-46e8-4348-9c2e-64d89c97153b",
   "metadata": {},
   "source": [
    "Q11. What is the formula for calculating the sample mean? Provide an example calculation for a\n",
    "dataset."
   ]
  },
  {
   "cell_type": "markdown",
   "id": "7b076d34-0379-4a99-875c-fee1f0def882",
   "metadata": {},
   "source": [
    " x̄ = ( Σ xi ) / n-1"
   ]
  },
  {
   "cell_type": "markdown",
   "id": "7350bb5e-0ea1-440b-a217-0411de588d12",
   "metadata": {},
   "source": [
    "Q12. For a normal distribution data what is the relationship between its measure of central tendency?"
   ]
  },
  {
   "cell_type": "markdown",
   "id": "18152b8b-35fb-4f29-9231-0159c79e2b99",
   "metadata": {},
   "source": [
    "Normal Distribution:\n",
    "A normal distribution (also known as a Gaussian distribution) is a symmetric probability distribution.\n",
    "Its graph is perfectly symmetric about a vertical line through its peak (the mean).\n",
    "In a normal distribution, the data clusters around the mean, creating that familiar bell-shaped curve.\n",
    "Measures of Central Tendency in a Normal Distribution:\n",
    "For a normal distribution, all three measures of central tendency—mean, median, and mode—give the same answer:\n",
    "They all point to the x-value of the peak (which is the mean).\n",
    "This alignment occurs because of the symmetry of the normal distribution."
   ]
  },
  {
   "cell_type": "markdown",
   "id": "fdda1a77-a463-4ce0-b53d-4c1c3d981dd5",
   "metadata": {},
   "source": [
    "Q13. How is covariance different from correlation?"
   ]
  },
  {
   "cell_type": "markdown",
   "id": "d46ddbef-8eb1-45bb-987a-605321209070",
   "metadata": {},
   "source": [
    "Covariance: Directional but not standardized.\n",
    "\n",
    "Correlation: Direction and strength, always between -1 and 1.\n"
   ]
  },
  {
   "cell_type": "markdown",
   "id": "4f45af56-b42e-4e18-aedf-26fb41451a92",
   "metadata": {},
   "source": [
    "Q14. How do outliers affect measures of central tendency and dispersion? Provide an example."
   ]
  },
  {
   "cell_type": "markdown",
   "id": "9fb1c99f-dc15-4d8e-8f91-024cbf1ebfd4",
   "metadata": {},
   "source": [
    "Measures of Central Tendency:\n",
    "Mean (Average):\n",
    "Outliers can pull the mean in their direction.\n",
    "If we have outliers on the right (high values), the mean increases.\n",
    "If we have outliers on the left (low values), the mean decreases.\n",
    "Example: Imagine a dataset of salaries where one person earns a million dollars—a clear outlier. The mean salary would be heavily influenced by this outlier.\n",
    "Median:\n",
    "The median is less affected by outliers.\n",
    "It’s the middle value when the data is sorted.\n",
    "Example: Even if we have extreme salaries, the median remains relatively stable.\n",
    "Measures of Dispersion:\n",
    "Range:\n",
    "Outliers can significantly widen the range.\n",
    "The range is the difference between the maximum and minimum values.\n",
    "Example: If we include an outlier with an unusually high value, the range expands.\n",
    "Standard Deviation and Variance:\n",
    "Outliers can inflate the standard deviation and variance.\n",
    "These measures quantify how spread out the data is.\n",
    "Example: If we have extreme values, the standard deviation increases.\n",
    "\n"
   ]
  },
  {
   "cell_type": "code",
   "execution_count": null,
   "id": "004182b0-bdef-4c14-ba54-f77d29f2a5ac",
   "metadata": {},
   "outputs": [],
   "source": []
  }
 ],
 "metadata": {
  "kernelspec": {
   "display_name": "Python 3 (ipykernel)",
   "language": "python",
   "name": "python3"
  },
  "language_info": {
   "codemirror_mode": {
    "name": "ipython",
    "version": 3
   },
   "file_extension": ".py",
   "mimetype": "text/x-python",
   "name": "python",
   "nbconvert_exporter": "python",
   "pygments_lexer": "ipython3",
   "version": "3.10.8"
  }
 },
 "nbformat": 4,
 "nbformat_minor": 5
}
