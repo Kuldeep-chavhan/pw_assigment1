{
 "cells": [
  {
   "cell_type": "markdown",
   "id": "78249a0b-3b6a-4c6c-a1ba-0426963e50ab",
   "metadata": {},
   "source": [
    "Q1. What is a database? Differentiate between SQL and NoSQL databases."
   ]
  },
  {
   "cell_type": "markdown",
   "id": "da86a0fd-66e8-4e38-b12e-d3e73cb4a2de",
   "metadata": {},
   "source": [
    "What Is a Database?\n",
    "A database is an organized collection of structured information or data, typically stored electronically in a computer system. It serves as a repository for storing, managing, and retrieving data efficiently. Here are some key points about databases:\n",
    "\n",
    "Controlled by DBMS: A database is usually controlled by a Database Management System (DBMS). The DBMS handles tasks like data storage, retrieval, modification, and access control.\n",
    "Structured Data: Most databases use a structured format where data is modeled in rows and columns within tables. This tabular structure makes querying and processing data efficient.\n",
    "SQL: The most common type of database uses Structured Query Language (SQL) for writing and querying data.\n",
    "SQL Databases:\n",
    "Definition:\n",
    "SQL databases are relational databases that have been widely used since the 1970s.\n",
    "They store data in rows and tables, linked through relationships.\n",
    "SQL is the programming language used to manage and query data in these databases.\n",
    "Schema:\n",
    "SQL databases have a predefined schema. Data must be organized and structured before being stored.\n",
    "ACID properties (Atomicity, Consistency, Isolation, Durability) ensure transaction reliability.\n",
    "Scalability:\n",
    "SQL databases can scale vertically (adding more resources to a single server) or, less commonly, horizontally (sharding/partitioning).\n",
    "Use Cases:\n",
    "Ideal for structured data with well-defined relationships (e.g., financial records, customer data).\n",
    "NoSQL Databases:\n",
    "Definition:\n",
    "NoSQL databases are non-relational and allow more flexible data structures.\n",
    "They don’t strictly adhere to rows and columns.\n",
    "Schema:\n",
    "NoSQL databases have dynamic schemas. Data can be stored without strict predefining.\n",
    "They handle unstructured or semi-structured data effectively.\n",
    "Scalability:\n",
    "NoSQL databases are designed for horizontal scalability (adding more servers).\n",
    "They excel in distributed and large-scale environments.\n",
    "Use Cases:\n",
    "Well-suited for unstructured data (e.g., social media posts, sensor data, logs).\n",
    "Commonly used in web applications, real-time analytics, and big data scenarios."
   ]
  },
  {
   "cell_type": "markdown",
   "id": "b7adc2d9-c5fc-4b08-a183-d07f42a8c9f7",
   "metadata": {},
   "source": [
    "Q2. What is DDL? Explain why CREATE, DROP, ALTER, and TRUNCATE are used with an example."
   ]
  },
  {
   "cell_type": "markdown",
   "id": "2d27c859-66fb-4bed-872f-8a54ac2c8504",
   "metadata": {},
   "source": [
    "DDL stands for Data Definition Language. It’s a subset of SQL commands that focus on defining and managing the structure of database objects. In other words, DDL helps you create, modify, and delete the building blocks of your database.\n",
    "\n",
    "Here are some essential DDL commands:\n",
    "\n",
    "CREATE TABLE:\n",
    "The CREATE TABLE statement allows you to create a new table in your database.\n",
    "You define column names, data types, constraints, and other properties."
   ]
  },
  {
   "cell_type": "code",
   "execution_count": 3,
   "id": "5b661507-e297-47d2-a8ea-d1d3fab564aa",
   "metadata": {},
   "outputs": [
    {
     "ename": "SyntaxError",
     "evalue": "invalid syntax (1298772613.py, line 1)",
     "output_type": "error",
     "traceback": [
      "\u001b[0;36m  Cell \u001b[0;32mIn[3], line 1\u001b[0;36m\u001b[0m\n\u001b[0;31m    CREATE TABLE Customers (\u001b[0m\n\u001b[0m           ^\u001b[0m\n\u001b[0;31mSyntaxError\u001b[0m\u001b[0;31m:\u001b[0m invalid syntax\n"
     ]
    }
   ],
   "source": [
    "CREATE TABLE Customers (\n",
    "    CustomerID INT,\n",
    "    FirstName VARCHAR(255),\n",
    "    LastName VARCHAR(255),\n",
    "    Email VARCHAR(255)\n",
    ");\n"
   ]
  },
  {
   "cell_type": "markdown",
   "id": "174144d6-f56d-419c-8d1b-29a765717503",
   "metadata": {},
   "source": [
    "ALTER TABLE:\n",
    "The ALTER TABLE statement lets you modify an existing table.\n",
    "You can add, delete, or rename columns, change data types, and more."
   ]
  },
  {
   "cell_type": "code",
   "execution_count": 4,
   "id": "9f150272-ebc5-4a56-ae13-38c820a08246",
   "metadata": {},
   "outputs": [
    {
     "ename": "SyntaxError",
     "evalue": "invalid syntax (2107833768.py, line 1)",
     "output_type": "error",
     "traceback": [
      "\u001b[0;36m  Cell \u001b[0;32mIn[4], line 1\u001b[0;36m\u001b[0m\n\u001b[0;31m    ALTER TABLE Customers\u001b[0m\n\u001b[0m          ^\u001b[0m\n\u001b[0;31mSyntaxError\u001b[0m\u001b[0;31m:\u001b[0m invalid syntax\n"
     ]
    }
   ],
   "source": [
    "ALTER TABLE Customers\n",
    "ADD PhoneNumber VARCHAR(20);\n"
   ]
  },
  {
   "cell_type": "markdown",
   "id": "51f874ab-cb5a-4226-8ce9-993d3e1a7a4c",
   "metadata": {},
   "source": [
    "DROP TABLE:\n",
    "The DROP TABLE statement deletes an entire table from the database.\n",
    "Be cautious—this action permanently removes all data in the table!"
   ]
  },
  {
   "cell_type": "code",
   "execution_count": 5,
   "id": "4d7842e8-6a84-44cd-bf59-b8e189ebb7ba",
   "metadata": {},
   "outputs": [
    {
     "ename": "SyntaxError",
     "evalue": "invalid syntax (3794663360.py, line 1)",
     "output_type": "error",
     "traceback": [
      "\u001b[0;36m  Cell \u001b[0;32mIn[5], line 1\u001b[0;36m\u001b[0m\n\u001b[0;31m    DROP TABLE Shippers;\u001b[0m\n\u001b[0m         ^\u001b[0m\n\u001b[0;31mSyntaxError\u001b[0m\u001b[0;31m:\u001b[0m invalid syntax\n"
     ]
    }
   ],
   "source": [
    "DROP TABLE Shippers;\n"
   ]
  },
  {
   "cell_type": "markdown",
   "id": "59154681-23d5-4570-a0c4-7b75b7c6b811",
   "metadata": {},
   "source": [
    "TRUNCATE TABLE:\n",
    "The TRUNCATE TABLE statement removes all data from a table but keeps the table structure intact.\n",
    "It’s faster than DELETE because it doesn’t log individual row deletions."
   ]
  },
  {
   "cell_type": "code",
   "execution_count": 6,
   "id": "821dedbe-ca48-4222-b7f6-71bdd3e1b7bf",
   "metadata": {},
   "outputs": [
    {
     "ename": "SyntaxError",
     "evalue": "invalid syntax (1896059612.py, line 1)",
     "output_type": "error",
     "traceback": [
      "\u001b[0;36m  Cell \u001b[0;32mIn[6], line 1\u001b[0;36m\u001b[0m\n\u001b[0;31m    TRUNCATE TABLE Categories;\u001b[0m\n\u001b[0m             ^\u001b[0m\n\u001b[0;31mSyntaxError\u001b[0m\u001b[0;31m:\u001b[0m invalid syntax\n"
     ]
    }
   ],
   "source": [
    "TRUNCATE TABLE Categories;\n"
   ]
  },
  {
   "cell_type": "markdown",
   "id": "d8b87e91-3b91-4c81-bc8c-82d7f089218c",
   "metadata": {},
   "source": [
    "Q3. What is DML? Explain INSERT, UPDATE, and DELETE with an example."
   ]
  },
  {
   "cell_type": "markdown",
   "id": "2a04d581-3c27-41cc-961a-e3ed013e95ba",
   "metadata": {},
   "source": [
    "DML (Data Manipulation Language) is a set of SQL commands that allow you to interact with data stored in a database. These commands help you manipulate, insert, update, and delete data.\n",
    "\n",
    "INSERT:\n",
    "The INSERT command lets you add new rows of data into an existing table.\n",
    "Imagine you’re at the “Mickey Mouse Children’s Hospital” (yes, we’re keeping it adorable!). As the data administrator, you’d use INSERT to add patient records.\n",
    "\n"
   ]
  },
  {
   "cell_type": "code",
   "execution_count": 7,
   "id": "46a0f9aa-fde6-4856-8ec2-d04ef1ae5919",
   "metadata": {},
   "outputs": [
    {
     "ename": "SyntaxError",
     "evalue": "invalid syntax (2653488369.py, line 1)",
     "output_type": "error",
     "traceback": [
      "\u001b[0;36m  Cell \u001b[0;32mIn[7], line 1\u001b[0;36m\u001b[0m\n\u001b[0;31m    INSERT INTO Patient (PatientID, Surname, FirstName, DOB, Sex, Weight, Height, Vaccinated)\u001b[0m\n\u001b[0m           ^\u001b[0m\n\u001b[0;31mSyntaxError\u001b[0m\u001b[0;31m:\u001b[0m invalid syntax\n"
     ]
    }
   ],
   "source": [
    "INSERT INTO Patient (PatientID, Surname, FirstName, DOB, Sex, Weight, Height, Vaccinated)\n",
    "VALUES (15225, 'Gupta', 'Aarav', '05/10/2019', 'M', 18.7, 27.8, 'N');\n"
   ]
  },
  {
   "cell_type": "markdown",
   "id": "85515369-d8f7-479b-b8e4-4cc987b7abd2",
   "metadata": {},
   "source": [
    "UPDATE:\n",
    "The UPDATE command modifies existing data in a table.\n",
    "Suppose you need to adjust some patient information—maybe Deniz Smith’s weight changed:\n"
   ]
  },
  {
   "cell_type": "code",
   "execution_count": 8,
   "id": "94d3a06b-d86e-4845-b660-cbd50ae66e8e",
   "metadata": {},
   "outputs": [
    {
     "ename": "SyntaxError",
     "evalue": "invalid syntax (957522662.py, line 1)",
     "output_type": "error",
     "traceback": [
      "\u001b[0;36m  Cell \u001b[0;32mIn[8], line 1\u001b[0;36m\u001b[0m\n\u001b[0;31m    UPDATE Patient\u001b[0m\n\u001b[0m           ^\u001b[0m\n\u001b[0;31mSyntaxError\u001b[0m\u001b[0;31m:\u001b[0m invalid syntax\n"
     ]
    }
   ],
   "source": [
    "UPDATE Patient\n",
    "SET Weight = 22.0\n",
    "WHERE PatientID = 15223;\n"
   ]
  },
  {
   "cell_type": "markdown",
   "id": "37d4609e-159e-4d86-b49c-9c79924cd43a",
   "metadata": {},
   "source": [
    "DELETE:\n",
    "The DELETE command removes one or more records from a table based on specified conditions.\n",
    "Let’s say Arjun Agarwal is no longer a patient:"
   ]
  },
  {
   "cell_type": "code",
   "execution_count": 9,
   "id": "0b8f52fe-a565-4a53-95bc-6cfd38ffd1ff",
   "metadata": {},
   "outputs": [
    {
     "ename": "SyntaxError",
     "evalue": "invalid syntax (923768421.py, line 1)",
     "output_type": "error",
     "traceback": [
      "\u001b[0;36m  Cell \u001b[0;32mIn[9], line 1\u001b[0;36m\u001b[0m\n\u001b[0;31m    DELETE FROM Patient\u001b[0m\n\u001b[0m           ^\u001b[0m\n\u001b[0;31mSyntaxError\u001b[0m\u001b[0;31m:\u001b[0m invalid syntax\n"
     ]
    }
   ],
   "source": [
    "DELETE FROM Patient\n",
    "WHERE PatientID = 15224;\n"
   ]
  },
  {
   "cell_type": "markdown",
   "id": "b4b8998e-c7bf-4ed9-8a17-3d3282bfcce0",
   "metadata": {},
   "source": [
    "Q4. What is DQL? Explain SELECT with an example."
   ]
  },
  {
   "cell_type": "markdown",
   "id": "e4c26ec3-7997-4e4d-b815-0d9986754f03",
   "metadata": {},
   "source": [
    "DQL is the part of SQL that allows us to query data from a database. Think of it as the Sherlock Holmes of SQL—it investigates, retrieves, and presents evidence (data) from the scene (tables)."
   ]
  },
  {
   "cell_type": "markdown",
   "id": "901e10b5-5405-40b7-9bd7-d88b7c30a949",
   "metadata": {},
   "source": [
    "Basic SELECT:\n",
    "The simplest form of SELECT retrieves all rows and columns from a single table.\n",
    "Imagine we have a table called “Cats” (because who doesn’t love cats?). We want to know everything about these feline friends:"
   ]
  },
  {
   "cell_type": "code",
   "execution_count": 10,
   "id": "64e97eda-e1c3-48ee-aa3c-ba4b0db5f393",
   "metadata": {},
   "outputs": [
    {
     "ename": "SyntaxError",
     "evalue": "invalid syntax (3656334238.py, line 1)",
     "output_type": "error",
     "traceback": [
      "\u001b[0;36m  Cell \u001b[0;32mIn[10], line 1\u001b[0;36m\u001b[0m\n\u001b[0;31m    SELECT * FROM Cats;\u001b[0m\n\u001b[0m                  ^\u001b[0m\n\u001b[0;31mSyntaxError\u001b[0m\u001b[0;31m:\u001b[0m invalid syntax\n"
     ]
    }
   ],
   "source": [
    "SELECT * FROM Cats;\n"
   ]
  },
  {
   "cell_type": "markdown",
   "id": "73e483ac-192f-4bc5-b26a-cac3349c06a9",
   "metadata": {},
   "source": [
    "Selecting Specific Fields:\n",
    "Sometimes we’re picky (like a cat choosing its favorite sunbeam). We can select specific columns:\n",
    "\n",
    "Sorting and Grouping:\n",
    "We can sort the results too. Let’s arrange our cats by age:\n",
    "\n",
    "Aliases:\n",
    "Cats have nicknames, right? We can give columns aliases:\n",
    "\n",
    "Filters (WHERE Clause):\n",
    "Suppose we only want senior cats (age greater than 10):\n",
    "\n",
    "Limiting Results:\n",
    "Sometimes we don’t want the whole litter. Let’s limit it to 5:\n"
   ]
  },
  {
   "cell_type": "markdown",
   "id": "7bb00cf9-e84a-410e-b6cd-ebdd84532617",
   "metadata": {},
   "source": [
    "Q5. Explain Primary Key and Foreign Key."
   ]
  },
  {
   "cell_type": "markdown",
   "id": "dbec4a3b-901a-46ff-a94f-86e2f029536b",
   "metadata": {},
   "source": [
    "Primary Key (PK): A primary key is a unique identifier for each record (or row) in a database table. It ensures that no two records have the same value for the primary key column. Here are some key points about primary keys:\n",
    "Uniqueness: Each value in the primary key column must be unique across all records in the table.\n",
    "Not Null: A primary key value cannot be null (empty).\n",
    "Stability: Once assigned, the primary key value should not change over the lifetime of the record.\n",
    "Example: In a table storing information about students, the student ID (a unique number) could serve as the primary key.\n",
    "Foreign Key (FK): A foreign key establishes a relationship between two tables in a database. It refers to a column in one table that corresponds to the primary key in another table. Here’s what you need to know about foreign keys:\n",
    "Referential Integrity: A foreign key maintains referential integrity by ensuring that values in the referencing (child) table match existing values in the referenced (parent) table.\n",
    "Relationships: Foreign keys define relationships, such as one-to-many or many-to-one, between tables.\n",
    "Example: If you have a “Orders” table and a “Customers” table, the “CustomerID” column in the “Orders” table could be a foreign key referencing the “CustomerID” primary key in the “Customers” table."
   ]
  },
  {
   "cell_type": "markdown",
   "id": "283db15f-cd1a-4b2e-af26-6e137a22ea9f",
   "metadata": {},
   "source": [
    "Q6. Write a python code to connect MySQL to python. Explain the cursor() and execute() method.\n"
   ]
  },
  {
   "cell_type": "code",
   "execution_count": 1,
   "id": "bb5d5d70-bbe5-44bc-9a72-db1afa58ae7e",
   "metadata": {},
   "outputs": [
    {
     "ename": "ModuleNotFoundError",
     "evalue": "No module named 'mysql'",
     "output_type": "error",
     "traceback": [
      "\u001b[0;31m---------------------------------------------------------------------------\u001b[0m",
      "\u001b[0;31mModuleNotFoundError\u001b[0m                       Traceback (most recent call last)",
      "Cell \u001b[0;32mIn[1], line 1\u001b[0m\n\u001b[0;32m----> 1\u001b[0m \u001b[38;5;28;01mimport\u001b[39;00m \u001b[38;5;21;01mmysql\u001b[39;00m\u001b[38;5;21;01m.\u001b[39;00m\u001b[38;5;21;01mconnector\u001b[39;00m\n\u001b[1;32m      3\u001b[0m \u001b[38;5;66;03m# Replace with your actual database credentials\u001b[39;00m\n\u001b[1;32m      4\u001b[0m db_config \u001b[38;5;241m=\u001b[39m {\n\u001b[1;32m      5\u001b[0m     \u001b[38;5;124m\"\u001b[39m\u001b[38;5;124mhost\u001b[39m\u001b[38;5;124m\"\u001b[39m: \u001b[38;5;124m\"\u001b[39m\u001b[38;5;124mlocalhost\u001b[39m\u001b[38;5;124m\"\u001b[39m,\n\u001b[1;32m      6\u001b[0m     \u001b[38;5;124m\"\u001b[39m\u001b[38;5;124muser\u001b[39m\u001b[38;5;124m\"\u001b[39m: \u001b[38;5;124m\"\u001b[39m\u001b[38;5;124myour_username\u001b[39m\u001b[38;5;124m\"\u001b[39m,\n\u001b[1;32m      7\u001b[0m     \u001b[38;5;124m\"\u001b[39m\u001b[38;5;124mpassword\u001b[39m\u001b[38;5;124m\"\u001b[39m: \u001b[38;5;124m\"\u001b[39m\u001b[38;5;124myour_password\u001b[39m\u001b[38;5;124m\"\u001b[39m,\n\u001b[1;32m      8\u001b[0m     \u001b[38;5;124m\"\u001b[39m\u001b[38;5;124mdatabase\u001b[39m\u001b[38;5;124m\"\u001b[39m: \u001b[38;5;124m\"\u001b[39m\u001b[38;5;124myour_database_name\u001b[39m\u001b[38;5;124m\"\u001b[39m,\n\u001b[1;32m      9\u001b[0m }\n",
      "\u001b[0;31mModuleNotFoundError\u001b[0m: No module named 'mysql'"
     ]
    }
   ],
   "source": [
    "import mysql.connector\n",
    "\n",
    "# Replace with your actual database credentials\n",
    "db_config = {\n",
    "    \"host\": \"localhost\",\n",
    "    \"user\": \"your_username\",\n",
    "    \"password\": \"your_password\",\n",
    "    \"database\": \"your_database_name\",\n",
    "}\n",
    "\n",
    "# Establish the connection\n",
    "try:\n",
    "    connection = mysql.connector.connect(**db_config)\n",
    "    print(\"Connected to MySQL successfully!\")\n",
    "except mysql.connector.Error as err:\n",
    "    print(f\"Error: {err}\")\n",
    "    exit()\n",
    "\n",
    "# Create a cursor object\n",
    "cursor = connection.cursor()\n",
    "\n",
    "# Execute a query\n",
    "query = \"SELECT * FROM employees\"\n",
    "cursor.execute(query)\n",
    "\n",
    "# Fetch results\n",
    "results = cursor.fetchall()\n",
    "for row in results:\n",
    "    print(row)\n",
    "\n",
    "# Close the cursor and connection\n",
    "cursor.close()\n",
    "connection.close()\n"
   ]
  },
  {
   "cell_type": "code",
   "execution_count": 12,
   "id": "d5adeba5-3ecb-44ba-a2ef-09416f699900",
   "metadata": {},
   "outputs": [
    {
     "name": "stdout",
     "output_type": "stream",
     "text": [
      "Collecting mysql\n",
      "  Downloading mysql-0.0.3-py3-none-any.whl (1.2 kB)\n",
      "Collecting mysqlclient\n",
      "  Downloading mysqlclient-2.2.4.tar.gz (90 kB)\n",
      "\u001b[2K     \u001b[90m━━━━━━━━━━━━━━━━━━━━━━━━━━━━━━━━━━━━━━━━\u001b[0m \u001b[32m90.4/90.4 kB\u001b[0m \u001b[31m3.5 MB/s\u001b[0m eta \u001b[36m0:00:00\u001b[0m\n",
      "\u001b[?25h  Installing build dependencies ... \u001b[?25ldone\n",
      "\u001b[?25h  Getting requirements to build wheel ... \u001b[?25lerror\n",
      "  \u001b[1;31merror\u001b[0m: \u001b[1msubprocess-exited-with-error\u001b[0m\n",
      "  \n",
      "  \u001b[31m×\u001b[0m \u001b[32mGetting requirements to build wheel\u001b[0m did not run successfully.\n",
      "  \u001b[31m│\u001b[0m exit code: \u001b[1;36m1\u001b[0m\n",
      "  \u001b[31m╰─>\u001b[0m \u001b[31m[27 lines of output]\u001b[0m\n",
      "  \u001b[31m   \u001b[0m /bin/sh: 1: pkg-config: not found\n",
      "  \u001b[31m   \u001b[0m /bin/sh: 1: pkg-config: not found\n",
      "  \u001b[31m   \u001b[0m /bin/sh: 1: pkg-config: not found\n",
      "  \u001b[31m   \u001b[0m Trying pkg-config --exists mysqlclient\n",
      "  \u001b[31m   \u001b[0m Command 'pkg-config --exists mysqlclient' returned non-zero exit status 127.\n",
      "  \u001b[31m   \u001b[0m Trying pkg-config --exists mariadb\n",
      "  \u001b[31m   \u001b[0m Command 'pkg-config --exists mariadb' returned non-zero exit status 127.\n",
      "  \u001b[31m   \u001b[0m Trying pkg-config --exists libmariadb\n",
      "  \u001b[31m   \u001b[0m Command 'pkg-config --exists libmariadb' returned non-zero exit status 127.\n",
      "  \u001b[31m   \u001b[0m Traceback (most recent call last):\n",
      "  \u001b[31m   \u001b[0m   File \"/opt/conda/lib/python3.10/site-packages/pip/_vendor/pep517/in_process/_in_process.py\", line 351, in <module>\n",
      "  \u001b[31m   \u001b[0m     main()\n",
      "  \u001b[31m   \u001b[0m   File \"/opt/conda/lib/python3.10/site-packages/pip/_vendor/pep517/in_process/_in_process.py\", line 333, in main\n",
      "  \u001b[31m   \u001b[0m     json_out['return_val'] = hook(**hook_input['kwargs'])\n",
      "  \u001b[31m   \u001b[0m   File \"/opt/conda/lib/python3.10/site-packages/pip/_vendor/pep517/in_process/_in_process.py\", line 118, in get_requires_for_build_wheel\n",
      "  \u001b[31m   \u001b[0m     return hook(config_settings)\n",
      "  \u001b[31m   \u001b[0m   File \"/tmp/pip-build-env-7o6b37k3/overlay/lib/python3.10/site-packages/setuptools/build_meta.py\", line 327, in get_requires_for_build_wheel\n",
      "  \u001b[31m   \u001b[0m     return self._get_build_requires(config_settings, requirements=[])\n",
      "  \u001b[31m   \u001b[0m   File \"/tmp/pip-build-env-7o6b37k3/overlay/lib/python3.10/site-packages/setuptools/build_meta.py\", line 297, in _get_build_requires\n",
      "  \u001b[31m   \u001b[0m     self.run_setup()\n",
      "  \u001b[31m   \u001b[0m   File \"/tmp/pip-build-env-7o6b37k3/overlay/lib/python3.10/site-packages/setuptools/build_meta.py\", line 313, in run_setup\n",
      "  \u001b[31m   \u001b[0m     exec(code, locals())\n",
      "  \u001b[31m   \u001b[0m   File \"<string>\", line 155, in <module>\n",
      "  \u001b[31m   \u001b[0m   File \"<string>\", line 49, in get_config_posix\n",
      "  \u001b[31m   \u001b[0m   File \"<string>\", line 28, in find_package_name\n",
      "  \u001b[31m   \u001b[0m Exception: Can not find valid pkg-config name.\n",
      "  \u001b[31m   \u001b[0m Specify MYSQLCLIENT_CFLAGS and MYSQLCLIENT_LDFLAGS env vars manually\n",
      "  \u001b[31m   \u001b[0m \u001b[31m[end of output]\u001b[0m\n",
      "  \n",
      "  \u001b[1;35mnote\u001b[0m: This error originates from a subprocess, and is likely not a problem with pip.\n",
      "\u001b[1;31merror\u001b[0m: \u001b[1msubprocess-exited-with-error\u001b[0m\n",
      "\n",
      "\u001b[31m×\u001b[0m \u001b[32mGetting requirements to build wheel\u001b[0m did not run successfully.\n",
      "\u001b[31m│\u001b[0m exit code: \u001b[1;36m1\u001b[0m\n",
      "\u001b[31m╰─>\u001b[0m See above for output.\n",
      "\n",
      "\u001b[1;35mnote\u001b[0m: This error originates from a subprocess, and is likely not a problem with pip.\n",
      "\u001b[?25hNote: you may need to restart the kernel to use updated packages.\n"
     ]
    }
   ],
   "source": [
    "pip install mysql"
   ]
  },
  {
   "cell_type": "code",
   "execution_count": null,
   "id": "b4bc1e6f-8c1f-46b9-910f-7851701bdf90",
   "metadata": {},
   "outputs": [],
   "source": []
  }
 ],
 "metadata": {
  "kernelspec": {
   "display_name": "Python 3 (ipykernel)",
   "language": "python",
   "name": "python3"
  },
  "language_info": {
   "codemirror_mode": {
    "name": "ipython",
    "version": 3
   },
   "file_extension": ".py",
   "mimetype": "text/x-python",
   "name": "python",
   "nbconvert_exporter": "python",
   "pygments_lexer": "ipython3",
   "version": "3.10.8"
  }
 },
 "nbformat": 4,
 "nbformat_minor": 5
}
