{
 "cells": [
  {
   "cell_type": "markdown",
   "id": "299bafe6-d849-4f38-9c9a-a90eff49b71d",
   "metadata": {},
   "source": [
    "Q1. What is Statistics?"
   ]
  },
  {
   "cell_type": "markdown",
   "id": "1353e0c4-4698-43b4-93ef-8de79bf955a6",
   "metadata": {},
   "source": [
    "Answer:- statistics is a science of collecting,organizing and analyzing the data"
   ]
  },
  {
   "cell_type": "markdown",
   "id": "bcd632c1-5357-4dc1-a3af-3b4a60aae546",
   "metadata": {},
   "source": [
    "Q2. Define the different types of statistics and give an example of when each type might be used.."
   ]
  },
  {
   "cell_type": "markdown",
   "id": "25926e00-bddb-4ee8-9ad1-78750dbd0fa2",
   "metadata": {},
   "source": [
    "Answer:- \n",
    "\n",
    "1:- Descriptive statistics = It constist of organizing and summerizing data.\n",
    "Examples:\n",
    "Mean (Average): Calculating the average score of students in a class.\n",
    "Standard Deviation: Measuring the variability in test scores.\n",
    "Histograms: Representing the distribution of ages in a population.\n",
    "\n",
    "2:- infrentional statistics = It consist of using data you have measured to form conclusion.\n",
    "Examples:\n",
    "Hypothesis Testing: Determining whether a new drug is effective based on a clinical trial.\n",
    "Regression Analysis: Predicting house prices based on features like square footage and location.\n",
    "Confidence Intervals: Estimating the average income of all households in a city.\n",
    "         "
   ]
  },
  {
   "cell_type": "markdown",
   "id": "65f64f5e-9fdb-4c1f-ac7a-94a007acbe38",
   "metadata": {},
   "source": [
    "Q3. What are the different types of data and how do they differ from each other? Provide an example of\n",
    "each type of data."
   ]
  },
  {
   "cell_type": "markdown",
   "id": "8924d24b-490e-402d-9a44-38325a45f0dc",
   "metadata": {},
   "source": [
    "1= Quantitative Data:\n",
    "Definition: Quantitative data represents measurable quantities and can be expressed as numbers.\n",
    "Examples:\n",
    "Scores on a test: For instance, exam scores (85, 67, 90).\n",
    "Weight of a person: Measured in kilograms or pounds.\n",
    "Temperature in a room: Recorded in degrees Celsius or Fahrenheit.\n",
    "Types:\n",
    "(i)= Discrete Data: Whole numbers (e.g., number of children in a family).\n",
    "(ii)= Continuous Data: Measurable quantities (e.g., height, temperature).\n",
    "2= Qualitative Data:\n",
    "Definition: Qualitative data cannot be expressed as numbers and consists of words, pictures, or symbols.\n",
    "Examples:\n",
    "Colors: Describing the color of the sea (blue, green).\n",
    "Favorite holiday destination: Hawaii, New Zealand, etc.\n",
    "Names: John, Patricia, etc.\n",
    "Types:\n",
    "(i)= Nominal Data: Used for labeling variables (e.g., gender, hair color).\n",
    "(ii)= Ordinal Data: Has an order (e.g., educational levels, ratings).\n",
    "3= Nominal Data:\n",
    "Definition: Nominal data is used for labeling variables without any quantitative value.\n",
    "Examples:\n",
    "Gender: Categories (Women, Men).\n",
    "Hair color: Labels (Blonde, Brown, Brunette, Red).\n",
    "Marital status: Categories (Married, Single, Widowed).\n",
    "4= Ordinal Data:\n",
    "Definition: Ordinal data has an intrinsic order but unequal intervals.\n",
    "Examples:\n",
    "Educational levels: Ranking (high school, bachelor’s, master’s).\n",
    "Ratings: Ordered (poor, fair, good, excellent).\n",
    "Socioeconomic status: Categories (low income, middle income, high income).\n",
    "Remember:"
   ]
  },
  {
   "cell_type": "markdown",
   "id": "54d33e41-5ca4-4faa-950f-7f19383114ea",
   "metadata": {},
   "source": [
    "Q4. Categorise the following datasets with respect to quantitative and qualitative data types:\n",
    "(i) Grading in exam: A+, A, B+, B, C+, C, D, E\n",
    "(ii) Colour of mangoes: yellow, green, orange, red\n",
    "(iii) Height data of a class: [178.9, 179, 179.5, 176, 177.2, 178.3, 175.8,...]\n",
    "(iv) Number of mangoes exported by a farm: [500, 600, 478, 672, ...]\n",
    "\n",
    "Answer= i:- Qualitative Data (Ordinal):\n",
    "        ii:- Qualitative Data (Nominal):\n",
    "        iii:- Quantitative Data (Continuous)\n",
    "        iv:- Quantitative Data (Discrete)"
   ]
  },
  {
   "cell_type": "markdown",
   "id": "56abc75f-ae61-43c0-b13e-1d12291c5df3",
   "metadata": {},
   "source": [
    "Q5. Explain the concept of levels of measurement and give an example of a variable for each level."
   ]
  },
  {
   "cell_type": "markdown",
   "id": "487a7886-c739-4f74-8b33-b76d67dfc1e9",
   "metadata": {},
   "source": [
    "Answer:- 1= Nominal Level:\n",
    "Definition: Nominal data can only be categorized into distinct groups without any inherent order.\n",
    "Example: Consider the variable “City of birth.” People can be categorized into cities (e.g., New York, London, Tokyo), but there is no meaningful order between these categories.\n",
    "2 = Ordinal Level:\n",
    "Definition: Ordinal data allows categorization and ranking, but the intervals between rankings are not equal.\n",
    "Example: Suppose we have a survey asking people to rate their satisfaction with a product on a scale from 1 (very dissatisfied) to 5 (very satisfied). The rankings (1, 2, 3, 4, 5) have an order, but the difference between adjacent rankings is not necessarily the same.\n",
    "3= Interval Level:\n",
    "Definition: Interval data can be categorized, ranked, and has equal intervals between neighboring data points. However, there is no true zero point.\n",
    "Example: Temperature measured in Fahrenheit or Celsius. The difference between 30°C and 40°C is the same as between 70°F and 80°F, but zero degrees does not indicate an absence of temperature.\n",
    "4= Ratio Level:\n",
    "Definition: Ratio data has all the properties of interval data, plus a true zero point. Ratios between values are meaningful.\n",
    "Example: Height measured in centimeters. A height of 0 cm means an absolute absence of height (no height)."
   ]
  },
  {
   "cell_type": "markdown",
   "id": "32c8e0fe-b731-4911-8312-c12268970434",
   "metadata": {},
   "source": [
    "Q6. Why is it important to understand the level of measurement when analyzing data? Provide an\n",
    "example to illustrate your answer."
   ]
  },
  {
   "cell_type": "markdown",
   "id": "c467ac17-922d-41c8-9c0a-f9ea604f474e",
   "metadata": {},
   "source": [
    "Understanding the level of measurement is crucial in data analysis because it determines how we can appropriately summarize, analyze, and interpret data. Different levels of measurement have distinct properties, and choosing the right level ensures accurate results. Let’s explore why it matters with examples:\n",
    "\n",
    "1= Nominal Level:\n",
    "Definition: Nominal data can only be categorized into distinct groups without any inherent order.\n",
    "Importance:\n",
    "Nominal data restricts the types of analyses we can perform.\n",
    "We can calculate frequencies and proportions but cannot compute meaningful averages or perform mathematical operations.\n",
    "Example:\n",
    "Suppose we collect data on political party affiliations (e.g., Democrat, Republican, Independent). We can count the number of people in each category, but we cannot calculate an average party affiliation.\n",
    "2= Ordinal Level:\n",
    "Definition: Ordinal data allows categorization and ranking, but intervals between rankings are not equal.\n",
    "Importance:\n",
    "Ordinal data provides more information than nominal data.\n",
    "We can rank data, but we cannot assume equal intervals.\n",
    "Example:\n",
    "Consider a survey asking people to rate their satisfaction with a product on a scale from 1 (very dissatisfied) to 5 (very satisfied). We can rank the ratings, but we cannot say that the difference between “very dissatisfied” and “dissatisfied” is the same as between “satisfied” and “very satisfied.”\n",
    "3= Interval Level:\n",
    "Definition: Interval data can be categorized, ranked, and has equal intervals between neighboring data points, but there is no true zero point.\n",
    "Importance:\n",
    "Interval data allows for more mathematical operations.\n",
    "We can calculate averages and perform addition/subtraction.\n",
    "Example:\n",
    "Temperature measured in Celsius or Fahrenheit. The difference between 20°C and 30°C is the same as between 70°F and 80°F, but zero degrees does not indicate an absence of temperature.\n",
    "4= Ratio Level:\n",
    "Definition: Ratio data has all the properties of interval data, plus a true zero point.\n",
    "Importance:\n",
    "Ratio data allows for the most extensive mathematical operations.\n",
    "We can calculate ratios and perform multiplication/division.\n",
    "Example:\n",
    "Height measured in centimeters. A height of 0 cm means an absolute absence of height."
   ]
  },
  {
   "cell_type": "markdown",
   "id": "5d463fc4-026a-4d62-83d2-c9362693413a",
   "metadata": {},
   "source": [
    "Q7. How nominal data type is different from ordinal data type."
   ]
  },
  {
   "cell_type": "markdown",
   "id": "770ff858-5a3c-4c5b-946d-9c437dfdf8f6",
   "metadata": {},
   "source": [
    "Answer:-\n",
    "1= Nominal data lacks order and is purely categorical.\n",
    "2= Ordinal data introduces an order or ranking but does not assume equal intervals"
   ]
  },
  {
   "cell_type": "markdown",
   "id": "0c9eda0f-2184-4428-a80c-c4828c58b796",
   "metadata": {},
   "source": [
    "Q8. Which type of plot can be used to display data in terms of range?\n",
    "\n",
    "Answer:- histogram. A histogram is a type of data plot that represents the frequency distribution of the values of a numerical variable. It shows how data is distributed across different value ranges (bins). Each bin corresponds to a specific range of values, and the height of each bar represents the frequency (count) of data points falling within that range."
   ]
  },
  {
   "cell_type": "markdown",
   "id": "9f58eae6-d692-4832-9f79-f38f83e9dd2a",
   "metadata": {},
   "source": [
    "Q9. Describe the difference between descriptive and inferential statistics. Give an example of each\n",
    "type of statistics and explain how they are used.\n",
    "\n",
    "\n",
    "1 = Descriptive Statistics:\n",
    "Definition: Descriptive statistics aim to describe a chunk of raw data using summary statistics, graphs, and tables. They provide a quick and easy understanding of a dataset without examining individual data values.\n",
    "Purpose:\n",
    "Summarize data.\n",
    "Visualize data patterns.\n",
    "Understand central tendencies and variability.\n",
    "Examples:\n",
    "Mean (Average): Calculating the average test score of students in a class.\n",
    "Histogram: Visualizing the distribution of ages in a population.\n",
    "Frequency Table: Showing how many data values fall within certain ranges.\n",
    "Use Case:\n",
    "Researchers summarize survey responses.\n",
    "Business analysts visualize sales data.\n",
    "Scientists describe experimental results.\n",
    "2 = Inferential Statistics:\n",
    "Definition: Inferential statistics use samples to draw inferences about larger populations. They involve making predictions, testing hypotheses, and estimating parameters.\n",
    "Purpose:\n",
    "Make predictions.\n",
    "Test hypotheses.\n",
    "Generalize findings.\n",
    "Examples:\n",
    "Hypothesis Testing: Determining if a new drug is effective based on a clinical trial.\n",
    "Regression Analysis: Predicting house prices based on features.\n",
    "Confidence Intervals: Estimating average income of all households.\n",
    "Use Case:\n",
    "Pollsters predict election outcomes.\n",
    "Quality control engineers estimate defect rates.\n",
    "Researchers test the effectiveness of a new teaching method.\n",
    "In summary:\n",
    "\n",
    "Descriptive statistics summarize data.\n",
    "Inferential statistics make predictions and draw conclusions about populations."
   ]
  },
  {
   "cell_type": "markdown",
   "id": "4ac00d90-3c9f-44aa-9939-7c9f2bab91d3",
   "metadata": {},
   "source": [
    "Q10. What are some common measures of central tendency and variability used in statistics? Explain\n",
    "how each measure can be used to describe a dataset."
   ]
  }
 ],
 "metadata": {
  "kernelspec": {
   "display_name": "Python 3 (ipykernel)",
   "language": "python",
   "name": "python3"
  },
  "language_info": {
   "codemirror_mode": {
    "name": "ipython",
    "version": 3
   },
   "file_extension": ".py",
   "mimetype": "text/x-python",
   "name": "python",
   "nbconvert_exporter": "python",
   "pygments_lexer": "ipython3",
   "version": "3.10.8"
  }
 },
 "nbformat": 4,
 "nbformat_minor": 5
}
