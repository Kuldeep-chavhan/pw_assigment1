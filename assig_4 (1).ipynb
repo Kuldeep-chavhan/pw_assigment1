{
 "cells": [
  {
   "cell_type": "markdown",
   "id": "56c8892b-87b3-4ecd-b879-56aca752b33c",
   "metadata": {},
   "source": [
    "Q1, Create a vehicle class with an init method having instance variables as name_of_vehicle, max_speed\n",
    "and average_of_vehicle."
   ]
  },
  {
   "cell_type": "code",
   "execution_count": 2,
   "id": "ca69c7d7-ed39-4b38-8502-57f3c1b950a5",
   "metadata": {},
   "outputs": [],
   "source": [
    "class vehicle :\n",
    "    \n",
    "    def __init__(self, name_of_vehicle, max_speed,  average_of_vehicle ):\n",
    "        self.name_of_vehicle = name_of_vehicle\n",
    "        self.max_speed = max_speed\n",
    "        self.average_of_vehicle = average_of_vehicle\n",
    "        \n",
    "    def return_vehicle_details(self):\n",
    "        return self.name_of_vehicle, self.max_speed, self.average_of_vehicle"
   ]
  },
  {
   "cell_type": "code",
   "execution_count": 9,
   "id": "3a176bfd-16a4-4adf-a8f0-1d0c69395fc5",
   "metadata": {},
   "outputs": [],
   "source": [
    "car = vehicle(\"shift_desire\", \"180km\", \"22 liter/km\")"
   ]
  },
  {
   "cell_type": "code",
   "execution_count": 12,
   "id": "98c18762-7cdc-4b4d-b262-3eac2fb24bec",
   "metadata": {},
   "outputs": [
    {
     "data": {
      "text/plain": [
       "'22 liter/km'"
      ]
     },
     "execution_count": 12,
     "metadata": {},
     "output_type": "execute_result"
    }
   ],
   "source": [
    "car.average_of_vehicle"
   ]
  },
  {
   "cell_type": "code",
   "execution_count": null,
   "id": "3124cbd1-882e-4d7c-9d9f-a8577056f8af",
   "metadata": {},
   "outputs": [
    {
     "ename": "AttributeError",
     "evalue": "type object 'car' has no attribute 'return_vehicle_details'",
     "output_type": "error",
     "traceback": [
      "\u001b[0;31m---------------------------------------------------------------------------\u001b[0m",
      "\u001b[0;31mAttributeError\u001b[0m                            Traceback (most recent call last)",
      "Cell \u001b[0;32mIn[28], line 1\u001b[0m\n\u001b[0;32m----> 1\u001b[0m \u001b[43mcar\u001b[49m\u001b[38;5;241;43m.\u001b[39;49m\u001b[43mreturn_vehicle_details\u001b[49m()\n",
      "\u001b[0;31mAttributeError\u001b[0m: type object 'car' has no attribute 'return_vehicle_details'"
     ]
    }
   ],
   "source": [
    "car.return_vehicle_details()"
   ]
  },
  {
   "cell_type": "markdown",
   "id": "fe7f8979-452d-4530-af07-1d410231dc99",
   "metadata": {},
   "source": [
    "Q2. Create a child class car from the vehicle class created in Que 1, which will inherit the vehicle class.\n",
    "Create a method named seating_capacity which takes capacity as an argument and returns the name of\n",
    "the vehicle and its seating capacity."
   ]
  },
  {
   "cell_type": "code",
   "execution_count": 70,
   "id": "836ba485-b013-45ee-8c27-406055e6e9ad",
   "metadata": {},
   "outputs": [],
   "source": [
    "class vehicle:\n",
    "    \n",
    "    def seating_capacity():\n",
    "        return \"name of the vehicle is shift and it's seating capacity of 5\"\n",
    "      "
   ]
  },
  {
   "cell_type": "code",
   "execution_count": 71,
   "id": "52d61054-a77c-4c6a-99fa-c2e8ddab09f8",
   "metadata": {},
   "outputs": [],
   "source": [
    "class car(vehicle):\n",
    "    pass"
   ]
  },
  {
   "cell_type": "code",
   "execution_count": 72,
   "id": "a5efdef7-03a8-4c40-a663-3b81d1fb807b",
   "metadata": {},
   "outputs": [],
   "source": [
    "car_obj = car"
   ]
  },
  {
   "cell_type": "code",
   "execution_count": 73,
   "id": "9300d2bc-cafe-43ff-b323-5098110f4720",
   "metadata": {},
   "outputs": [
    {
     "data": {
      "text/plain": [
       "\"name of the vehicle is shift and it's seating capacity of 5\""
      ]
     },
     "execution_count": 73,
     "metadata": {},
     "output_type": "execute_result"
    }
   ],
   "source": [
    "car_obj.seating_capacity()"
   ]
  },
  {
   "cell_type": "markdown",
   "id": "26dac664-0da8-4f2d-9dd0-823b857c1543",
   "metadata": {},
   "source": [
    "Q3. What is multiple inheritance? Write a python code to demonstrate multiple inheritance."
   ]
  },
  {
   "cell_type": "markdown",
   "id": "742cb4fa-17cb-48e1-8f56-7398b7d6b02b",
   "metadata": {},
   "source": [
    "Multiple inheritance in Python refers to a situation where a class inherits from more than one base class. It allows a derived class to inherit features (attributes and methods) from multiple parent classes. When a class is derived from more than one base class, it exhibits multiple inheritance."
   ]
  },
  {
   "cell_type": "code",
   "execution_count": 104,
   "id": "52a6fff6-d931-46ce-9387-73bd704b38c8",
   "metadata": {},
   "outputs": [],
   "source": [
    "class student:\n",
    "    \n",
    "    def name(self):\n",
    "        return(\"name of student\")"
   ]
  },
  {
   "cell_type": "code",
   "execution_count": 105,
   "id": "feeb147d-c4f7-4a29-ba18-69702e0fdab4",
   "metadata": {},
   "outputs": [],
   "source": [
    "class education():\n",
    "    \n",
    "    def education( self):\n",
    "        return(\"student education\")\n",
    "    "
   ]
  },
  {
   "cell_type": "code",
   "execution_count": 106,
   "id": "da9bb64c-06a9-4f98-8d84-2ce38d7ae913",
   "metadata": {},
   "outputs": [],
   "source": [
    "class student_details(student,education):\n",
    "    pass\n",
    "    \n",
    "    "
   ]
  },
  {
   "cell_type": "code",
   "execution_count": 107,
   "id": "be3d2a43-5f36-406c-874d-daf29b07efd3",
   "metadata": {},
   "outputs": [],
   "source": [
    "student_obj = student_details()"
   ]
  },
  {
   "cell_type": "code",
   "execution_count": 110,
   "id": "a7d61b29-8e6b-4e3c-a279-85ea48a8497a",
   "metadata": {},
   "outputs": [
    {
     "data": {
      "text/plain": [
       "'student education'"
      ]
     },
     "execution_count": 110,
     "metadata": {},
     "output_type": "execute_result"
    }
   ],
   "source": [
    "student_obj.education()"
   ]
  },
  {
   "cell_type": "code",
   "execution_count": 111,
   "id": "ae73792d-ff89-469c-8ffc-bffc69b2c6d0",
   "metadata": {},
   "outputs": [
    {
     "data": {
      "text/plain": [
       "'name of student'"
      ]
     },
     "execution_count": 111,
     "metadata": {},
     "output_type": "execute_result"
    }
   ],
   "source": [
    "student_obj.name()"
   ]
  },
  {
   "cell_type": "markdown",
   "id": "fcb4759a-9272-4560-90b4-370b9fa006b1",
   "metadata": {},
   "source": [
    "Q4. What are getter and setter in python? Create a class and create a getter and a setter method in this\n",
    "class."
   ]
  },
  {
   "cell_type": "markdown",
   "id": "0e230459-19d0-4a12-a0af-17acbf0d27e1",
   "metadata": {},
   "source": [
    "In Python, getter and setter methods are used to control access to class attributes (instance variables). They allow you to get (retrieve) and set (modify) the values of private attributes while maintaining encapsulation.\n",
    "\n",
    "A getter method retrieves the value of an attribute.\n",
    "A setter method modifies the value of an attribute."
   ]
  },
  {
   "cell_type": "code",
   "execution_count": 32,
   "id": "fbd56f41-6045-473a-a78a-332014ac7421",
   "metadata": {},
   "outputs": [],
   "source": [
    "class bank_account :\n",
    "    \n",
    "    def __init__(self, balance):\n",
    "        self.__balance = balance\n",
    "    \n",
    "    def diposit(self, amount) :\n",
    "        self.__balance = self.__balance + amount\n",
    "    \n",
    "    def withdraw(self, amount):\n",
    "         if self.__balance >= amount :\n",
    "            self.__balance = self.__balance - amount\n",
    "            return True\n",
    "         else :\n",
    "                False\n",
    "        \n",
    "        \n",
    "    def get_balance(self) :\n",
    "        return self.__balance"
   ]
  },
  {
   "cell_type": "code",
   "execution_count": 33,
   "id": "8985d38c-c417-4ae1-93e0-4d9b6d3b2cc9",
   "metadata": {},
   "outputs": [],
   "source": [
    "kuldeep = bank_account(1000)"
   ]
  },
  {
   "cell_type": "code",
   "execution_count": 34,
   "id": "aea5068b-313c-4c77-93d4-4fa4a9611f2c",
   "metadata": {},
   "outputs": [
    {
     "data": {
      "text/plain": [
       "1000"
      ]
     },
     "execution_count": 34,
     "metadata": {},
     "output_type": "execute_result"
    }
   ],
   "source": [
    "kuldeep.get_balance()"
   ]
  },
  {
   "cell_type": "code",
   "execution_count": 35,
   "id": "8c392b8d-4ea5-4d63-a3c9-f5cf03d9f577",
   "metadata": {},
   "outputs": [
    {
     "data": {
      "text/plain": [
       "True"
      ]
     },
     "execution_count": 35,
     "metadata": {},
     "output_type": "execute_result"
    }
   ],
   "source": [
    "kuldeep.withdraw(50)"
   ]
  },
  {
   "cell_type": "code",
   "execution_count": 36,
   "id": "5df44c3d-1983-4277-9485-b7ae6e67ed5e",
   "metadata": {},
   "outputs": [
    {
     "data": {
      "text/plain": [
       "950"
      ]
     },
     "execution_count": 36,
     "metadata": {},
     "output_type": "execute_result"
    }
   ],
   "source": [
    "kuldeep.get_balance()"
   ]
  },
  {
   "cell_type": "code",
   "execution_count": 48,
   "id": "2edc3c5f-dea5-4641-8836-ed809785b6de",
   "metadata": {},
   "outputs": [],
   "source": [
    "class car:\n",
    "    def __init__(self, year,make,model,speed):\n",
    "        self.__year = year\n",
    "        self.__make = make\n",
    "        self.__model = model\n",
    "        self.__speed = 0\n",
    "        \n",
    "    def set_speed(self, speed):\n",
    "        self.__speed = 0 if speed < 0 else speed\n",
    "    \n",
    "    def get_speed(self):\n",
    "        return self.__speed\n",
    "        "
   ]
  },
  {
   "cell_type": "code",
   "execution_count": 52,
   "id": "1d6ab967-f03a-43f4-bd62-6af52ac2aff9",
   "metadata": {},
   "outputs": [],
   "source": [
    "c = car(2031,\"hundai\",\"verna\",12)"
   ]
  },
  {
   "cell_type": "code",
   "execution_count": 53,
   "id": "15c600ed-4ef8-4d7a-aaa8-f7c679620479",
   "metadata": {},
   "outputs": [],
   "source": [
    "c.set_speed(23)"
   ]
  },
  {
   "cell_type": "code",
   "execution_count": 54,
   "id": "1e96bf05-884c-462a-a249-b6f8c15573d4",
   "metadata": {},
   "outputs": [
    {
     "data": {
      "text/plain": [
       "23"
      ]
     },
     "execution_count": 54,
     "metadata": {},
     "output_type": "execute_result"
    }
   ],
   "source": [
    "c.get_speed()"
   ]
  },
  {
   "cell_type": "markdown",
   "id": "12d91ebd-8874-4df0-b66d-33d2bd5f3ea9",
   "metadata": {},
   "source": [
    "Q5.What is method overriding in python? Write a python code to demonstrate method overriding."
   ]
  },
  {
   "cell_type": "markdown",
   "id": "a6a8065e-b6f5-4b6b-88f0-94539ff3119b",
   "metadata": {},
   "source": [
    "Method overriding in Python allows a subclass (or child class) to provide its own implementation for a method that is already defined in its superclass (or parent class). When a method in a subclass has the same name, same parameters or signature, and same return type (or sub-type) as a method in its superclass, then the method in the subclass is said to override the method in the superclass. The version of a method that is executed will be determined by the object that is used to invoke it."
   ]
  },
  {
   "cell_type": "code",
   "execution_count": 56,
   "id": "8d579a51-270a-44b8-93f5-491408bba56f",
   "metadata": {},
   "outputs": [
    {
     "name": "stdout",
     "output_type": "stream",
     "text": [
      "Inside Parent\n",
      "Inside Child\n"
     ]
    }
   ],
   "source": [
    "class Parent:\n",
    "    def show(self):\n",
    "        print(\"Inside Parent\")\n",
    "\n",
    "class Child(Parent):\n",
    "    def show(self):\n",
    "        print(\"Inside Child\")\n",
    "\n",
    "parent_obj = Parent()\n",
    "child_obj = Child()\n",
    "\n",
    "parent_obj.show()  \n",
    "child_obj.show()   \n"
   ]
  },
  {
   "cell_type": "code",
   "execution_count": null,
   "id": "9ee49484-1071-44f5-bc4e-abca84e5467f",
   "metadata": {},
   "outputs": [],
   "source": []
  }
 ],
 "metadata": {
  "kernelspec": {
   "display_name": "Python 3 (ipykernel)",
   "language": "python",
   "name": "python3"
  },
  "language_info": {
   "codemirror_mode": {
    "name": "ipython",
    "version": 3
   },
   "file_extension": ".py",
   "mimetype": "text/x-python",
   "name": "python",
   "nbconvert_exporter": "python",
   "pygments_lexer": "ipython3",
   "version": "3.10.8"
  }
 },
 "nbformat": 4,
 "nbformat_minor": 5
}
