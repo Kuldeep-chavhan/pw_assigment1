{
 "cells": [
  {
   "cell_type": "markdown",
   "id": "54021119-2446-4d73-9473-d5d606fe6f32",
   "metadata": {},
   "source": [
    "ASSIGMENT = 1"
   ]
  },
  {
   "cell_type": "markdown",
   "id": "aa9209ef-be0e-4004-a5ed-2c91811cc5ec",
   "metadata": {},
   "source": [
    "Q1. Create one variable containing following type of data:\n",
    "(i) string\n",
    "(ii) list\n",
    "(iii) float\n",
    "(iv) tuple"
   ]
  },
  {
   "cell_type": "code",
   "execution_count": 1,
   "id": "8350cb6b-4bf4-4e7e-a667-51c5d0436b43",
   "metadata": {},
   "outputs": [],
   "source": [
    "a = \"string\"\n",
    "b = [1,2,3,4,5,6,7,8,9]\n",
    "c = 23.6,56.8,78.9\n",
    "d = (2,3,4,5,6,7)"
   ]
  },
  {
   "cell_type": "markdown",
   "id": "9594b323-2b63-4ec0-8ce2-cc7bfce6d4a3",
   "metadata": {
    "tags": []
   },
   "source": [
    "Q2. Given are some following variables containing data:\n",
    "(i) var1 = ‘ ‘\n",
    "(ii) var2 = ‘[ DS , ML , Python]’\n",
    "(iii) var3 = [ ‘DS’ , ’ML’ , ‘Python’ ]\n",
    "(iv) var4 = 1.\n",
    "What will be the data type of the above given variable."
   ]
  },
  {
   "cell_type": "markdown",
   "id": "b943e2fb-7766-458d-abdf-d77da5aa52b5",
   "metadata": {},
   "source": [
    "Q2. Given are some following variables containing data:\n",
    "(i) var1 = ‘ ‘\n",
    "(ii) var2 = ‘[ DS , ML , Python]’\n",
    "(iii) var3 = [ ‘DS’ , ’ML’ , ‘Python’ ]\n",
    "(iv) var4 = 1.\n",
    "What will be the data type of the above given variable."
   ]
  },
  {
   "cell_type": "code",
   "execution_count": 2,
   "id": "3c9f1d6a-9a5f-4504-993e-e078f9d1adcb",
   "metadata": {},
   "outputs": [
    {
     "name": "stdout",
     "output_type": "stream",
     "text": [
      "<class 'str'>\n"
     ]
    }
   ],
   "source": [
    "var2 =  '[DS, ML,python]'\n",
    "print(type(var2))"
   ]
  },
  {
   "cell_type": "code",
   "execution_count": 3,
   "id": "aff4faba-8c7b-4b50-a301-3c07ad064591",
   "metadata": {},
   "outputs": [
    {
     "name": "stdout",
     "output_type": "stream",
     "text": [
      "<class 'list'>\n"
     ]
    }
   ],
   "source": [
    "var3 = ['DS' , 'ML' , 'Python' ]\n",
    "print(type(var3))"
   ]
  },
  {
   "cell_type": "code",
   "execution_count": 4,
   "id": "48f489ff-1f15-45c1-934e-b16f94a8dce1",
   "metadata": {},
   "outputs": [
    {
     "name": "stdout",
     "output_type": "stream",
     "text": [
      "<class 'float'>\n"
     ]
    }
   ],
   "source": [
    "var4 = 1.\n",
    "print(type(var4))"
   ]
  },
  {
   "cell_type": "code",
   "execution_count": 5,
   "id": "9b5ac472-0334-496f-85b8-5bb1f7bcd7d0",
   "metadata": {},
   "outputs": [
    {
     "name": "stdout",
     "output_type": "stream",
     "text": [
      "<class 'str'>\n"
     ]
    }
   ],
   "source": [
    "var1 = ' '\n",
    "print(type(var1))"
   ]
  },
  {
   "cell_type": "markdown",
   "id": "fee368d7-6405-4c32-984f-5ca7d605a9fa",
   "metadata": {},
   "source": [
    "Q3. Explain the use of the following operators using an example:\n",
    "(i) /\n",
    "(ii) %\n",
    "(iii) //\n",
    "(iv) **"
   ]
  },
  {
   "cell_type": "code",
   "execution_count": 6,
   "id": "be811627-2f2c-42d2-bf58-16c9881bcf54",
   "metadata": {},
   "outputs": [],
   "source": [
    "a = 2/8\n",
    "b = 100%24\n",
    "c = 23//5\n",
    "d = 2**3"
   ]
  },
  {
   "cell_type": "markdown",
   "id": "117cbb61-7f29-41c7-9787-fd9649febadd",
   "metadata": {},
   "source": [
    "Q4. Create a list of length 10 of your choice containing multiple types of data. Using for loop print the\n",
    "element and its data type."
   ]
  },
  {
   "cell_type": "code",
   "execution_count": 7,
   "id": "62be4e6e-1413-440e-a829-c72136c1733b",
   "metadata": {},
   "outputs": [
    {
     "name": "stdout",
     "output_type": "stream",
     "text": [
      "1\n",
      "<class 'int'>\n",
      "2\n",
      "<class 'int'>\n",
      "3\n",
      "<class 'int'>\n",
      "4\n",
      "<class 'int'>\n",
      "kuldeep\n",
      "<class 'str'>\n",
      "23.4\n",
      "<class 'float'>\n",
      "23.4\n",
      "<class 'float'>\n",
      "(4+8j)\n",
      "<class 'complex'>\n",
      "deep\n",
      "<class 'str'>\n",
      "sudh\n",
      "<class 'str'>\n"
     ]
    }
   ],
   "source": [
    "l = [1,2,3,4,\"kuldeep\", 23.4, 23.4, 8j+4, \"deep\",\"sudh\"]\n",
    "\n",
    "\n",
    "for i in l :\n",
    "    print(i)\n",
    "    print(type(i))"
   ]
  },
  {
   "cell_type": "markdown",
   "id": "3ba2b35e-de40-4c19-a09a-b4669f66ee09",
   "metadata": {},
   "source": [
    "Q5. Using a while loop, verify if the number A is purely divisible by number B and if so then how many\n",
    "times it can be divisible."
   ]
  },
  {
   "cell_type": "code",
   "execution_count": 14,
   "id": "f18ffb0e-0266-499a-b716-97e6ef1f1311",
   "metadata": {},
   "outputs": [
    {
     "name": "stdin",
     "output_type": "stream",
     "text": [
      "Enter the value of A:  100\n",
      "Enter the value of B:  4\n"
     ]
    },
    {
     "name": "stdout",
     "output_type": "stream",
     "text": [
      "0 is the remainder after 25 divisions of 4 into 100.\n"
     ]
    }
   ],
   "source": [
    "def main():\n",
    "    try:\n",
    "        # Input the two numbers\n",
    "        A = int(input(\"Enter the value of A: \"))\n",
    "        B = int(input(\"Enter the value of B: \"))\n",
    "\n",
    "        # Initialize a counter for the number of divisions\n",
    "        num_divisions = 0\n",
    "\n",
    "        # Check if B is not zero (to avoid division by zero)\n",
    "        if B != 0:\n",
    "            while A >= B:\n",
    "                A -= B\n",
    "                num_divisions += 1\n",
    "\n",
    "            # Print the result\n",
    "            print(f\"{A} is the remainder after {num_divisions} divisions of {B} into {A + B * num_divisions}.\")\n",
    "        else:\n",
    "            print(\"Error: B cannot be zero.\")\n",
    "\n",
    "    except ValueError:\n",
    "        print(\"Error: Please enter valid integer values for A and B.\")\n",
    "\n",
    "if __name__ == \"__main__\":\n",
    "    main()\n",
    "\n",
    "        \n",
    "    \n",
    "            \n",
    "        \n",
    "\n",
    "\n"
   ]
  },
  {
   "cell_type": "markdown",
   "id": "f70d99f6-f025-4111-987b-8490e9520a69",
   "metadata": {},
   "source": [
    "Q6. Create a list containing 25 int type data. Using for loop and if-else condition print if the element is\n",
    "divisible by 3 or not."
   ]
  },
  {
   "cell_type": "code",
   "execution_count": 15,
   "id": "3c19fe64-8f7b-4eba-bb9a-8a179a08d809",
   "metadata": {},
   "outputs": [
    {
     "name": "stdout",
     "output_type": "stream",
     "text": [
      "10 is not divisible by 3.\n",
      "21 is divisible by 3.\n",
      "33 is divisible by 3.\n",
      "42 is divisible by 3.\n",
      "57 is divisible by 3.\n",
      "60 is divisible by 3.\n",
      "72 is divisible by 3.\n",
      "85 is not divisible by 3.\n",
      "99 is divisible by 3.\n",
      "105 is divisible by 3.\n",
      "120 is divisible by 3.\n",
      "132 is divisible by 3.\n",
      "147 is divisible by 3.\n",
      "150 is divisible by 3.\n",
      "165 is divisible by 3.\n",
      "180 is divisible by 3.\n",
      "192 is divisible by 3.\n",
      "210 is divisible by 3.\n",
      "225 is divisible by 3.\n",
      "240 is divisible by 3.\n",
      "252 is divisible by 3.\n",
      "267 is divisible by 3.\n",
      "280 is not divisible by 3.\n",
      "294 is divisible by 3.\n",
      "300 is divisible by 3.\n"
     ]
    }
   ],
   "source": [
    "# Create a list of 25 integers\n",
    "my_list = [10, 21, 33, 42, 57, 60, 72, 85, 99, 105,\n",
    "           120, 132, 147, 150, 165, 180, 192, 210, 225,\n",
    "           240, 252, 267, 280, 294, 300]\n",
    "\n",
    "# Check each element in the list\n",
    "for num in my_list:\n",
    "    if num % 3 == 0:\n",
    "        print(f\"{num} is divisible by 3.\")\n",
    "    else:\n",
    "        print(f\"{num} is not divisible by 3.\")\n"
   ]
  },
  {
   "cell_type": "markdown",
   "id": "dbb864bf-eb7b-415f-91a3-e0d847c54336",
   "metadata": {},
   "source": [
    "Q7. What do you understand about mutable and immutable data types? Give examples for both showing\n",
    "this property."
   ]
  },
  {
   "cell_type": "markdown",
   "id": "474913f6-ec60-4eb2-8709-8a99e7db7e5d",
   "metadata": {},
   "source": [
    "Mutable:\n",
    "These data types can be modified after creation. They’re like that arts-and-crafts project you can keep adding glitter to!\n",
    "When you change something in a mutable object, it’s still the same object—just with a fresh coat of paint.\n",
    "Examples:\n",
    "Lists: You can add, remove, or modify elements in a list.\n",
    "Dictionaries: You can update values associated with keys.\n",
    "Sets: You can add or remove elements."
   ]
  },
  {
   "cell_type": "code",
   "execution_count": 16,
   "id": "d70ebbd3-a0a7-422c-b89e-5465b01e6158",
   "metadata": {},
   "outputs": [
    {
     "name": "stdout",
     "output_type": "stream",
     "text": [
      "[1, 2, 3, 4]\n"
     ]
    }
   ],
   "source": [
    "#example\n",
    "my_list = [1, 2, 3]\n",
    "my_list.append(4)  # Modifies the list\n",
    "print(my_list)  # Output: [1, 2, 3, 4]\n",
    "\n"
   ]
  },
  {
   "cell_type": "markdown",
   "id": "e60e2431-b653-4aba-86e8-63767875ec1f",
   "metadata": {},
   "source": [
    "Immutable:\n",
    "These data types are set in stone once created. They’re like ancient artifacts—unchanging and mysterious.\n",
    "When you modify an immutable object, you’re actually creating a new object with the changes.\n",
    "Examples:\n",
    "Strings: Once you create a string, you can’t change individual characters.\n",
    "Tuples: Once you define a tuple, it remains fixed.\n",
    "Integers, floats, and booleans: Their values can’t be altered."
   ]
  },
  {
   "cell_type": "code",
   "execution_count": 17,
   "id": "794dc861-f0c2-41c8-a16b-dd8675757032",
   "metadata": {},
   "outputs": [
    {
     "name": "stdout",
     "output_type": "stream",
     "text": [
      "Hello World\n"
     ]
    }
   ],
   "source": [
    "my_string = \"Hello\"\n",
    "new_string = my_string + \" World\"  # Creates a new string\n",
    "print(new_string)  # Output: \"Hello World\"\n"
   ]
  },
  {
   "cell_type": "code",
   "execution_count": null,
   "id": "53d5a60d-0dab-408d-871f-5bdb7ffada54",
   "metadata": {},
   "outputs": [],
   "source": []
  }
 ],
 "metadata": {
  "kernelspec": {
   "display_name": "Python 3 (ipykernel)",
   "language": "python",
   "name": "python3"
  },
  "language_info": {
   "codemirror_mode": {
    "name": "ipython",
    "version": 3
   },
   "file_extension": ".py",
   "mimetype": "text/x-python",
   "name": "python",
   "nbconvert_exporter": "python",
   "pygments_lexer": "ipython3",
   "version": "3.10.8"
  }
 },
 "nbformat": 4,
 "nbformat_minor": 5
}
