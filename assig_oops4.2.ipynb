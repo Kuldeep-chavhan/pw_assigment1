{
 "cells": [
  {
   "cell_type": "markdown",
   "id": "cd799b95-dba1-46ff-96fd-7e8bc722670d",
   "metadata": {},
   "source": [
    "Q1. Explain Class and Object with respect to Object-Oriented Programming. Give a suitable example."
   ]
  },
  {
   "cell_type": "markdown",
   "id": "cc0aa823-f2ef-4e6d-85b8-f74bd2494403",
   "metadata": {},
   "source": [
    "answer(1) Class:\n",
    "A class is a blueprint or a template for creating objects.\n",
    "It defines the structure and behavior of objects of a specific type.\n",
    "In other words, a class describes what an object of that class will look like, what attributes it will have, and what methods (functions) it can perform.\n",
    "It encapsulates both data (attributes) and methods (functions) within a single unit.\n",
    "Classes allow us to create user-defined data types.\n",
    "Example: If we have a class called Car, it defines the common properties (such as brand, model, color) and behaviors (such as start, stop, accelerate) that all cars share.\n",
    "Object:\n",
    "An object is an instance of a class.\n",
    "It is a real-world entity created based on the class blueprint.\n",
    "Objects have their own unique data (attribute values) and can perform actions (invoke methods).\n",
    "When we create an object from a class, memory is allocated for that object.\n",
    "Example: If we create an object my_car from the Car class, my_car represents a specific car with its own brand, model, and color.\n"
   ]
  },
  {
   "cell_type": "code",
   "execution_count": 1,
   "id": "ce1e0bff-7da6-45c6-95f2-77489b5262d3",
   "metadata": {},
   "outputs": [
    {
     "name": "stdout",
     "output_type": "stream",
     "text": [
      "My car is a Blue Toyota Camry.\n",
      "Toyota Camry engine started!\n"
     ]
    }
   ],
   "source": [
    "class Car:\n",
    "    def __init__(self, brand, model, color):\n",
    "        self.brand = brand\n",
    "        self.model = model\n",
    "        self.color = color\n",
    "\n",
    "    def start_engine(self):\n",
    "        print(f\"{self.brand} {self.model} engine started!\")\n",
    "\n",
    "# Creating an object (instance) of the Car class\n",
    "my_car = Car(brand=\"Toyota\", model=\"Camry\", color=\"Blue\")\n",
    "\n",
    "# Accessing object attributes\n",
    "print(f\"My car is a {my_car.color} {my_car.brand} {my_car.model}.\")\n",
    "\n",
    "# Invoking object methods\n",
    "my_car.start_engine()\n"
   ]
  },
  {
   "cell_type": "markdown",
   "id": "3ba70daf-2941-4c3f-ad23-31e6746174ed",
   "metadata": {},
   "source": [
    "Q2. Name the four pillars of OOPs."
   ]
  },
  {
   "cell_type": "markdown",
   "id": "3b18e7fa-332d-43f8-a2a0-c59e6b7a52f3",
   "metadata": {},
   "source": [
    "(1)Abstraction: Abstraction involves hiding the implementation details and exposing only the essential features of an object. It allows users to interact with the functionality without needing to understand how it works internally1.\n",
    "(2)Encapsulation: Encapsulation is the process of wrapping code and data together into a single unit (i.e., a class). It ensures that the internal state (data) of an object is protected and can only be accessed through well-defined methods (getters and setters)1.\n",
    "(3)Inheritance: Inheritance allows a class (the child class) to inherit properties and methods from another class (the parent class). It promotes code reuse and represents real-world relationships (such as “is-a” or “kind-of” relationships)1.\n",
    "(4)Polymorphism: Polymorphism allows objects of different classes to be treated as objects of a common superclass. It enables the same method name to behave differently based on the context (e.g., method overloading and method overriding)"
   ]
  },
  {
   "cell_type": "markdown",
   "id": "ba59eb2f-0567-451a-83ca-caac415e2464",
   "metadata": {},
   "source": [
    "Q3. Explain why the __init__() function is used. Give a suitable example."
   ]
  },
  {
   "cell_type": "markdown",
   "id": "501316e1-3c03-403e-a938-31a5b402b7b1",
   "metadata": {},
   "source": [
    "init() function is used to pass the data inside the function it's denoted by __init__"
   ]
  },
  {
   "cell_type": "code",
   "execution_count": 5,
   "id": "2fd42756-5425-43ea-b41c-a5f901d5842d",
   "metadata": {},
   "outputs": [],
   "source": [
    "class test:\n",
    "    def __init__(self, name, phone_number):\n",
    "        self.name = name\n",
    "        self.phone_number = phone_number"
   ]
  },
  {
   "cell_type": "code",
   "execution_count": 7,
   "id": "e00621f0-1435-43c1-af75-43735a11ddbd",
   "metadata": {},
   "outputs": [],
   "source": [
    "t = test(\"kuldeep\", 7974341378)"
   ]
  },
  {
   "cell_type": "code",
   "execution_count": 8,
   "id": "66508c4d-1d1b-4d18-a7bd-d93fa145afde",
   "metadata": {},
   "outputs": [
    {
     "data": {
      "text/plain": [
       "'kuldeep'"
      ]
     },
     "execution_count": 8,
     "metadata": {},
     "output_type": "execute_result"
    }
   ],
   "source": [
    "t.name"
   ]
  },
  {
   "cell_type": "code",
   "execution_count": 9,
   "id": "ea7765c9-6203-4d47-a317-1891b1354bea",
   "metadata": {},
   "outputs": [
    {
     "data": {
      "text/plain": [
       "7974341378"
      ]
     },
     "execution_count": 9,
     "metadata": {},
     "output_type": "execute_result"
    }
   ],
   "source": [
    "t.phone_number"
   ]
  },
  {
   "cell_type": "markdown",
   "id": "c3af150c-1903-42ff-9164-ea729d08b2c2",
   "metadata": {},
   "source": [
    "Q4. Why self is used in OOPs?"
   ]
  },
  {
   "cell_type": "markdown",
   "id": "b801557b-fe1b-4b28-ba86-48270ea411f9",
   "metadata": {},
   "source": [
    "In Object-Oriented Programming (OOP), the term “self” is used to represent the instance of the class that is currently being used. It plays a crucial role in defining and interacting with class attributes and methods"
   ]
  },
  {
   "cell_type": "markdown",
   "id": "4a99d225-3fab-4156-a363-57fd58c2b64b",
   "metadata": {},
   "source": [
    "Q5. What is inheritance? Give an example for each type of inheritance."
   ]
  },
  {
   "cell_type": "markdown",
   "id": "675f77de-f829-4362-852d-a2f4117b88aa",
   "metadata": {},
   "source": [
    "Inheritance is a fundamental concept in Object-Oriented Programming (OOP) that allows a class (also known as the child class or derived class) to inherit properties and behaviors from another class (known as the parent class or base class). It promotes code reusability, organization, and the creation of a hierarchical structure."
   ]
  },
  {
   "cell_type": "code",
   "execution_count": 10,
   "id": "7bc1c4c7-36e1-4b6c-acf7-2669281ae85e",
   "metadata": {},
   "outputs": [
    {
     "name": "stdout",
     "output_type": "stream",
     "text": [
      "Animal speaks\n",
      "Dog barks\n"
     ]
    }
   ],
   "source": [
    "#(1)Single Inheritance:\n",
    "#In single inheritance, a class inherits from only one base class.\n",
    "\n",
    "class Animal:\n",
    "    def speak(self):\n",
    "        print(\"Animal speaks\")\n",
    "\n",
    "class Dog(Animal):\n",
    "    def bark(self):\n",
    "        print(\"Dog barks\")\n",
    "\n",
    "my_dog = Dog()\n",
    "my_dog.speak()  # Inherited from Animal\n",
    "my_dog.bark()   # Specific to Dog\n",
    "\n"
   ]
  },
  {
   "cell_type": "code",
   "execution_count": 12,
   "id": "2f291f88-aaa3-4f84-8c39-763e86afd388",
   "metadata": {},
   "outputs": [
    {
     "name": "stdout",
     "output_type": "stream",
     "text": [
      "Bird flies\n",
      "Fish swims\n"
     ]
    }
   ],
   "source": [
    "#Multiple Inheritance:\n",
    "#In multiple inheritance, a class inherits from more than one base class.\n",
    "\n",
    "class Bird:\n",
    "    def fly(self):\n",
    "        print(\"Bird flies\")\n",
    "\n",
    "class Fish:\n",
    "    def swim(self):\n",
    "        print(\"Fish swims\")\n",
    "\n",
    "class FlyingFish(Bird, Fish):\n",
    "    pass\n",
    "\n",
    "my_flying_fish = FlyingFish()\n",
    "my_flying_fish.fly()   # Inherited from Bird\n",
    "my_flying_fish.swim()  # Inherited from Fish\n"
   ]
  },
  {
   "cell_type": "code",
   "execution_count": 13,
   "id": "8749f2d6-9b11-4aa9-b58e-f6f7a4ab26c0",
   "metadata": {},
   "outputs": [
    {
     "name": "stdout",
     "output_type": "stream",
     "text": [
      "Vehicle starts\n",
      "Car drives\n",
      "Sports car races\n"
     ]
    }
   ],
   "source": [
    "#Multilevel Inheritance:\n",
    "#In multilevel inheritance, a class is derived from another derived class.\n",
    "\n",
    "class Vehicle:\n",
    "    def start(self):\n",
    "        print(\"Vehicle starts\")\n",
    "\n",
    "class Car(Vehicle):\n",
    "    def drive(self):\n",
    "        print(\"Car drives\")\n",
    "\n",
    "class SportsCar(Car):\n",
    "    def race(self):\n",
    "        print(\"Sports car races\")\n",
    "\n",
    "my_sports_car = SportsCar()\n",
    "my_sports_car.start()  # Inherited from Vehicle\n",
    "my_sports_car.drive()  # Inherited from Car\n",
    "my_sports_car.race()   # Specific to SportsCar\n"
   ]
  },
  {
   "cell_type": "code",
   "execution_count": 14,
   "id": "e5a1ccd9-9abb-41a9-9335-e035e17d9903",
   "metadata": {},
   "outputs": [
    {
     "name": "stdout",
     "output_type": "stream",
     "text": [
      "Calculating area\n",
      "Drawing a circle\n",
      "Calculating area\n",
      "Drawing a rectangle\n"
     ]
    }
   ],
   "source": [
    "#Hierarchical Inheritance:\n",
    "#In hierarchical inheritance, multiple derived classes inherit from a single base class.\n",
    "\n",
    "class Shape:\n",
    "    def area(self):\n",
    "        print(\"Calculating area\")\n",
    "\n",
    "class Circle(Shape):\n",
    "    def draw(self):\n",
    "        print(\"Drawing a circle\")\n",
    "\n",
    "class Rectangle(Shape):\n",
    "    def draw(self):\n",
    "        print(\"Drawing a rectangle\")\n",
    "\n",
    "my_circle = Circle()\n",
    "my_circle.area()  # Inherited from Shape\n",
    "my_circle.draw()  # Specific to Circle\n",
    "\n",
    "my_rectangle = Rectangle()\n",
    "my_rectangle.area()  # Inherited from Shape\n",
    "my_rectangle.draw()  # Specific to Rectangle\n",
    "\n"
   ]
  },
  {
   "cell_type": "code",
   "execution_count": null,
   "id": "265e7c1a-61af-4e79-9575-6271996eaab5",
   "metadata": {},
   "outputs": [],
   "source": []
  }
 ],
 "metadata": {
  "kernelspec": {
   "display_name": "Python 3 (ipykernel)",
   "language": "python",
   "name": "python3"
  },
  "language_info": {
   "codemirror_mode": {
    "name": "ipython",
    "version": 3
   },
   "file_extension": ".py",
   "mimetype": "text/x-python",
   "name": "python",
   "nbconvert_exporter": "python",
   "pygments_lexer": "ipython3",
   "version": "3.10.8"
  }
 },
 "nbformat": 4,
 "nbformat_minor": 5
}
