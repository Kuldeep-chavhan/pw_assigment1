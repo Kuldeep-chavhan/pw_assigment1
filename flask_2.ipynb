{
 "cells": [
  {
   "cell_type": "markdown",
   "id": "70f9f773-cb20-4f3f-be7a-a7f8b83a9907",
   "metadata": {},
   "source": [
    "Q1. Explain GET and POST methods."
   ]
  },
  {
   "cell_type": "markdown",
   "id": "5c2ca8cb-8495-4aa2-bed0-5a1bf782ef94",
   "metadata": {},
   "source": [
    "GET Method:\n",
    "Purpose:\n",
    "The GET method is used to request data from a specified resource (usually a server).\n",
    "When you click a link, enter a URL in your browser, or submit a form with the GET method, you’re asking the server for information.\n",
    "How It Works:\n",
    "The data (such as query parameters) is sent in the URL itself.\n",
    "Example: /search?query=fluffy+kittens\n",
    "Characteristics:\n",
    "GET requests can be cached by browsers.\n",
    "They remain in the browser history.\n",
    "You can bookmark them.\n",
    "GET requests should not be used for modifying data; they are read-only.\n",
    "Use Cases:\n",
    "Retrieving search results, fetching articles, or viewing profiles—all involve GET requests.\n",
    "POST Method:\n",
    "Purpose:\n",
    "The POST method is used to send data to a server for creating or updating a resource.\n",
    "When you submit a form (like a login form) or upload a file, you’re using POST.\n",
    "How It Works:\n",
    "The data is sent in the request body, not in the URL.\n",
    "Example:\n",
    "POST /submit-form HTTP/1.1\n",
    "Host: example.com\n",
    "Content-Type: application/x-www-form-urlencoded\n",
    "\n",
    "username=johndoe&password=secret\n",
    "\n",
    "Characteristics:\n",
    "POST requests are never cached.\n",
    "They don’t remain in the browser history.\n",
    "You can’t bookmark them.\n",
    "POST requests have no restrictions on data length.\n",
    "Use Cases:\n",
    "Submitting forms, creating new records (e.g., posting a tweet), or uploading files—all involve POST requests."
   ]
  },
  {
   "cell_type": "markdown",
   "id": "85c4efaa-ac1a-4155-8d56-42ca2fe0a560",
   "metadata": {},
   "source": [
    "Q2. Why is request used in Flask?"
   ]
  },
  {
   "cell_type": "markdown",
   "id": "f7e65cb6-05af-4711-b127-223311fb52c3",
   "metadata": {},
   "source": [
    "Handling Client Requests:\n",
    "When a client (usually a web browser or another application) sends an HTTP request to your Flask application, the request object swoops in to save the day.\n",
    "It provides access to various parts of the request, such as headers, form data, query parameters, and even the raw data payload.\n",
    "Attributes and Methods of request:\n",
    "Here are some of the key attributes and methods you’ll find in the request object:\n",
    "request.method: Tells you whether it’s a GET, POST, PUT, DELETE, or any other HTTP method.\n",
    "request.args: Gives you access to query parameters (those things that come after the ? in a URL).\n",
    "request.form: Holds form data submitted via POST requests.\n",
    "request.headers: Provides access to request headers (like the user agent or content type).\n",
    "request.cookies: Yep, cookies too!\n",
    "And more—there’s a whole utility belt in there!\n",
    "Example Usage:\n",
    "Let’s say you’re building a simple search page. When the user submits a search query, the browser sends a POST request with the search term.\n",
    "You’d use request.form['search_query'] to retrieve the search term from the form data.\n",
    "If you’re building an API, you might use request.json to parse JSON data sent by the client.\n",
    "Why It Matters:\n",
    "The request object is essential for building dynamic web applications. It allows you to interact with client data and make decisions based on what the user is asking for.\n",
    "Without it, your Flask app would be like Batman without the Bat-Signal—still cool, but missing a crucial tool."
   ]
  },
  {
   "cell_type": "markdown",
   "id": "f087b273-d1f3-4919-840d-b735833b9716",
   "metadata": {},
   "source": [
    "Q3. Why is redirect() used in Flask?"
   ]
  },
  {
   "cell_type": "markdown",
   "id": "634669e0-094b-4a33-9b8d-670ff9280f32",
   "metadata": {},
   "source": [
    "Why Use redirect() in Flask?\n",
    "URL Redirection: When a user accesses a specific route or URL, you might want to redirect them to another location. This could be useful for handling login/logout, handling old URLs, or guiding users to a different part of your app.\n",
    "Status Codes: The redirect() function not only sends users to a new URL but also sets an HTTP status code. By default, it uses a 302 status code, indicating a temporary redirection. However, you can specify other status codes as needed.\n",
    "Syntax and Parameters:\n",
    "The redirect() function takes two main parameters:\n",
    "location: The target URL to which you want to redirect the user.\n",
    "code: The HTTP status code associated with the redirection (optional; defaults to 302).\n",
    "Common HTTP Status Codes:\n",
    "Here are some common status codes you can use with redirect():\n",
    "302 Found: Temporary redirection (default).\n",
    "301 Moved Permanently: Indicates a permanent move.\n",
    "303 See Other: Suggests that the client should retrieve the resource from a different URL.\n",
    "307 Temporary Redirect: Similar to 302 but explicitly indicates a temporary move."
   ]
  },
  {
   "cell_type": "markdown",
   "id": "38757a17-9591-461a-9438-a1d519870665",
   "metadata": {},
   "source": [
    "Q4. What are templates in Flask? Why is the render_template() function used?"
   ]
  },
  {
   "cell_type": "markdown",
   "id": "7d042d93-77f8-4df9-8765-2974759a3c19",
   "metadata": {},
   "source": [
    "What Are Templates?: Templates are files that contain both static data (such as HTML content) and placeholders for dynamic data. When rendering a template, Flask replaces these placeholders with specific data to produce the final HTML document that will be displayed in the user’s browser.\n",
    "Jinja2 Template Engine: Flask uses the Jinja2 template library for rendering templates. Jinja2 allows you to embed Python-like expressions and control structures directly within your HTML templates.\n",
    "Why Use Templates?:\n",
    "Dynamic HTML Generation: Templates enable you to generate HTML dynamically by combining static content (defined in the template) with dynamic data (provided by your application).\n",
    "Separation of Concerns: By using templates, you separate the presentation layer (HTML) from your application logic. This separation makes your code more maintainable and easier to read.\n",
    "Reusability: Templates allow you to reuse common components (such as headers, footers, or navigation menus) across multiple pages.\n",
    "The render_template() Function:\n",
    "The render_template() function is a crucial part of Flask. It does the following:\n",
    "Fetches an HTML template file (specified by its filename).\n",
    "Passes any necessary data (variables) to the template.\n",
    "Renders the template, replacing placeholders with actual data.\n",
    "Sends the resulting HTML to the client’s browser.\n",
    "Essentially, instead of returning raw strings or inline HTML code from your backend, you can create separate HTML files (templates) and use render_template() to serve them to the client."
   ]
  },
  {
   "cell_type": "markdown",
   "id": "cf8f2445-b7c7-4bd7-933d-313cac705bf6",
   "metadata": {},
   "source": [
    "Q5. Create a simple API. Use Postman to test it."
   ]
  },
  {
   "cell_type": "code",
   "execution_count": null,
   "id": "29a605f8-46a6-4919-a7c4-763c3f454c19",
   "metadata": {},
   "outputs": [],
   "source": [
    "from flask import Flask, jsonify\n",
    "\n",
    "app = Flask(__name__)\n",
    "\n",
    "@app.route('/api/hello', methods=['GET'])\n",
    "def hello_api():\n",
    "    response_data = {'message': 'Hello from the API!'}\n",
    "    return jsonify(response_data)\n",
    "\n",
    "if __name__ == '__main__':\n",
    "    app.run(debug=True)\n"
   ]
  }
 ],
 "metadata": {
  "kernelspec": {
   "display_name": "Python 3 (ipykernel)",
   "language": "python",
   "name": "python3"
  },
  "language_info": {
   "codemirror_mode": {
    "name": "ipython",
    "version": 3
   },
   "file_extension": ".py",
   "mimetype": "text/x-python",
   "name": "python",
   "nbconvert_exporter": "python",
   "pygments_lexer": "ipython3",
   "version": "3.10.8"
  }
 },
 "nbformat": 4,
 "nbformat_minor": 5
}
