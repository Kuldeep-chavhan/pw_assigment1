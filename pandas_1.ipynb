{
 "cells": [
  {
   "cell_type": "markdown",
   "id": "b1a9cb71-96d4-47be-baaa-a183281e9035",
   "metadata": {},
   "source": [
    "Q1. Create a Pandas Series that contains the following data: 4, 8, 15, 16, 23, and 42. Then, print the series."
   ]
  },
  {
   "cell_type": "code",
   "execution_count": 7,
   "id": "44b9bd05-5a67-4fe5-90ff-b806a573bf3f",
   "metadata": {},
   "outputs": [
    {
     "name": "stdout",
     "output_type": "stream",
     "text": [
      "0     4\n",
      "1     8\n",
      "2    15\n",
      "3    16\n",
      "4    23\n",
      "5    42\n",
      "dtype: int64\n"
     ]
    }
   ],
   "source": [
    "import pandas as pd\n",
    "\n",
    "data = [4, 8, 15, 16, 23, 42]\n",
    "my_series = pd.Series(data)\n",
    "print(my_series)\n"
   ]
  },
  {
   "cell_type": "markdown",
   "id": "09f93103-0341-4dde-8606-397a09ebd733",
   "metadata": {},
   "source": [
    "Q2. Create a variable of list type containing 10 elements in it, and apply pandas.Series function on the\n",
    "variable print it."
   ]
  },
  {
   "cell_type": "code",
   "execution_count": 10,
   "id": "5c524c83-7fa8-4045-9565-9d1c351cbcf5",
   "metadata": {},
   "outputs": [
    {
     "name": "stdout",
     "output_type": "stream",
     "text": [
      "0     1\n",
      "1     2\n",
      "2     3\n",
      "3     4\n",
      "4     5\n",
      "5     6\n",
      "6     7\n",
      "7     8\n",
      "8     9\n",
      "9    10\n",
      "dtype: int64\n"
     ]
    }
   ],
   "source": [
    "\n",
    "\n",
    "# Create a list with 10 elements\n",
    "my_list = [1, 2, 3, 4, 5, 6, 7, 8, 9, 10]\n",
    "\n",
    "# Convert the list to a Pandas Series\n",
    "my_series = pd.Series(my_list)\n",
    "\n",
    "# Print the series\n",
    "print(my_series)\n"
   ]
  },
  {
   "cell_type": "markdown",
   "id": "3d9a1fb6-da10-4165-994a-f53bca0d7750",
   "metadata": {},
   "source": [
    "\n",
    "Q3. Create a Pandas DataFrame that contains the following data:\n",
    "\n",
    "Then, print the DataFrame."
   ]
  },
  {
   "cell_type": "code",
   "execution_count": 8,
   "id": "666e5fe6-7c96-44db-87d0-a28f922edd16",
   "metadata": {},
   "outputs": [
    {
     "name": "stdout",
     "output_type": "stream",
     "text": [
      "     Name  Age  Gender\n",
      "0   Alice   25  female\n",
      "1     Bob   30    male\n",
      "2  Claire   27  female\n"
     ]
    }
   ],
   "source": [
    "import pandas as pd\n",
    "\n",
    "data = {\n",
    "    'Name': ['Alice', 'Bob', 'Claire'],\n",
    "    'Age': [25, 30, 27],\n",
    "    'Gender': ['female', 'male', 'female']\n",
    "}\n",
    "\n",
    "df = pd.DataFrame(data)\n",
    "print(df)\n"
   ]
  },
  {
   "cell_type": "markdown",
   "id": "13e1c261-6e57-4d17-b27c-751e865ab092",
   "metadata": {},
   "source": [
    "Q4. What is ‘DataFrame’ in pandas and how is it different from pandas.series? Explain with an example."
   ]
  },
  {
   "cell_type": "markdown",
   "id": "6b3cb375-110e-417c-a411-bf4a23aa3a16",
   "metadata": {},
   "source": [
    "DataFrame = dataframe is just a tabular format of the data is called data frame.\n",
    "series = series is one of the data structure in pandas and it's equivalent to the list\n",
    "\n",
    "Differences between Series and DataFrame:\n",
    "\n",
    "A Series has only one column, while a DataFrame can have multiple columns.\n",
    "Series are one-dimensional, whereas DataFrames are two-dimensional.\n",
    "Series are like individual columns, and DataFrames are like tables with multiple columns."
   ]
  },
  {
   "cell_type": "code",
   "execution_count": 9,
   "id": "36eba5b4-2e0c-40dd-80e8-046e64ac3c8b",
   "metadata": {},
   "outputs": [
    {
     "name": "stdout",
     "output_type": "stream",
     "text": [
      "0    1\n",
      "1    2\n",
      "2    3\n",
      "3    4\n",
      "4    5\n",
      "dtype: int64\n",
      "a    1\n",
      "b    2\n",
      "c    3\n",
      "dtype: int64\n",
      "a    1.0\n",
      "b    2.0\n",
      "c    3.0\n",
      "d    NaN\n",
      "e    NaN\n",
      "dtype: float64\n"
     ]
    }
   ],
   "source": [
    "import pandas as pd\n",
    "\n",
    "data = [1, 2, 3, 4, 5]\n",
    "series_from_list = pd.Series(data)\n",
    "\n",
    "data = {'a': 1, 'b': 2, 'c': 3}\n",
    "series_from_dict = pd.Series(data)\n",
    "\n",
    "index = ['a', 'b', 'c', 'd', 'e']\n",
    "series_custom_index = pd.Series(data, index=index)\n",
    "\n",
    "print(series_from_list)\n",
    "print(series_from_dict)\n",
    "print(series_custom_index)\n"
   ]
  },
  {
   "cell_type": "markdown",
   "id": "b8c855e3-ca45-44e0-935a-9d85fd8a4c22",
   "metadata": {},
   "source": [
    "Q5. What are some common functions you can use to manipulate data in a Pandas DataFrame? Can\n",
    "you give an example of when you might use one of these functions?"
   ]
  },
  {
   "cell_type": "markdown",
   "id": "70e76bff-4665-4c63-a54b-25cae6d8db40",
   "metadata": {},
   "source": [
    "head() and tail():\n",
    "These functions allow you to view the first few rows (head()) or last few rows (tail()) of a DataFrame.\n",
    "Useful for quickly inspecting data.\n",
    "describe():\n",
    "Generates summary statistics (count, mean, standard deviation, min, max, etc.) for numeric columns.\n",
    "Helps understand the distribution of data.\n",
    "groupby():\n",
    "Groups data based on one or more columns.\n",
    "Useful for aggregation, such as calculating mean, sum, or count within groups.\n",
    "sort_values():\n",
    "Sorts the DataFrame based on specified columns.\n",
    "Useful for arranging data in ascending or descending order.\n",
    "filter():\n",
    "Filters rows based on conditions.\n",
    "Useful for selecting specific subsets of data.\n",
    "apply():\n",
    "Applies a function to each element or row in a DataFrame.\n",
    "Useful for custom transformations or calculations.\n",
    "pivot_table():\n",
    "Creates a pivot table from a DataFrame.\n",
    "Useful for summarizing data across multiple dimensions.\n",
    "merge() and concat():\n",
    "Combines multiple DataFrames horizontally (merge()) or vertically (concat()).\n",
    "Useful for joining data from different sources.\n",
    "fillna():\n",
    "Fills missing values with specified values or methods (e.g., mean, median).\n",
    "Useful for handling missing data.\n",
    "drop():\n",
    "Removes specified rows or columns from a DataFrame.\n",
    "Useful for data cleaning or feature selection."
   ]
  },
  {
   "cell_type": "markdown",
   "id": "513b74b6-23ce-47aa-956e-3a77e3fcd88a",
   "metadata": {},
   "source": [
    "Q6. Which of the following is mutable in nature Series, DataFrame, Panel?"
   ]
  },
  {
   "cell_type": "markdown",
   "id": "cf1245ea-84a5-4170-9bb3-2d5f6b328134",
   "metadata": {},
   "source": [
    "Series:\n",
    "A Pandas Series is value-mutable but size-immutable.\n",
    "It means you can change the values within a Series (e.g., update an element), but you cannot change its length (number of elements).\n",
    "DataFrame:\n",
    "A Pandas DataFrame is both value-mutable and size-mutable.\n",
    "You can modify both the values within the DataFrame (e.g., update a cell) and its structure (e.g., add or remove columns).\n",
    "Panel (Deprecated):\n",
    "Panels were deprecated in Pandas 0.25.0 and are no longer recommended for use.\n",
    "They were three-dimensional data structures, but their usage has been replaced by MultiIndex DataFrames."
   ]
  },
  {
   "cell_type": "markdown",
   "id": "5f0d8a9b-52e3-4616-ba5b-eccbe3d18666",
   "metadata": {},
   "source": [
    "Q7. Create a DataFrame using multiple Series. Explain with an example."
   ]
  },
  {
   "cell_type": "code",
   "execution_count": 10,
   "id": "1695cc40-ca58-4a4d-b1f8-382eb832c30e",
   "metadata": {},
   "outputs": [
    {
     "name": "stdout",
     "output_type": "stream",
     "text": [
      "   Author  Article Count\n",
      "0   Alice            210\n",
      "1     Bob            211\n",
      "2  Claire            114\n"
     ]
    }
   ],
   "source": [
    "import pandas as pd\n",
    "\n",
    "# Create Series for authors\n",
    "authors = pd.Series(['Alice', 'Bob', 'Claire'])\n",
    "\n",
    "# Create Series for article counts\n",
    "article_counts = pd.Series([210, 211, 114])\n",
    "\n",
    "# Combine Series into a DataFrame\n",
    "df = pd.DataFrame({'Author': authors, 'Article Count': article_counts})\n",
    "\n",
    "# Print the DataFrame\n",
    "print(df)\n"
   ]
  },
  {
   "cell_type": "code",
   "execution_count": null,
   "id": "a8953404-ef5f-4dae-a83f-3444d16fad96",
   "metadata": {},
   "outputs": [],
   "source": []
  }
 ],
 "metadata": {
  "kernelspec": {
   "display_name": "Python 3 (ipykernel)",
   "language": "python",
   "name": "python3"
  },
  "language_info": {
   "codemirror_mode": {
    "name": "ipython",
    "version": 3
   },
   "file_extension": ".py",
   "mimetype": "text/x-python",
   "name": "python",
   "nbconvert_exporter": "python",
   "pygments_lexer": "ipython3",
   "version": "3.10.8"
  }
 },
 "nbformat": 4,
 "nbformat_minor": 5
}
